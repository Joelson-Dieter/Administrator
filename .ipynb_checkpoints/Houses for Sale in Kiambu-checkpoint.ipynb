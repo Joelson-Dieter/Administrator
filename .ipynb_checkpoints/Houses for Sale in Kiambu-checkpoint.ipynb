{
 "cells": [
  {
   "cell_type": "code",
   "execution_count": 2,
   "id": "84c483a5-3ce7-45c2-b8e8-6d4575f2dcee",
   "metadata": {},
   "outputs": [],
   "source": [
    "import requests\n",
    "from bs4 import BeautifulSoup\n",
    "import pandas as pd\n",
    "import numpy as np"
   ]
  },
  {
   "cell_type": "code",
   "execution_count": 4,
   "id": "dd9949cd-9769-4203-a727-6cdec857e657",
   "metadata": {},
   "outputs": [
    {
     "name": "stdout",
     "output_type": "stream",
     "text": [
      "<Response [200]>\n"
     ]
    }
   ],
   "source": [
    "url = 'https://www.property24.co.ke/houses-for-sale-in-kiambu-p79?sortorder=quality'\n",
    "response = requests.get (url)\n",
    "print(response)"
   ]
  },
  {
   "cell_type": "code",
   "execution_count": 8,
   "id": "2d20cd23-87dd-4e14-9881-344249caba77",
   "metadata": {},
   "outputs": [
    {
     "name": "stdout",
     "output_type": "stream",
     "text": [
      "<!DOCTYPE html>\n",
      "<html>\n",
      " <head>\n",
      "  <meta content=\"IE=Edge\" http-equiv=\"x-ua-compatible\"/>\n",
      "  <!--[if lt IE 8]><html><![endif]-->\n",
      "  <!--[if IE 8]><html class=\"ie8\"><![endif]-->\n",
      "  <!--[if IE 9]><html class=\"ie9\"><![endif]-->\n",
      "  <!--[if (gt IE 9)|!(IE)]><!-->\n",
      "  <!--<![endif]-->\n",
      "  <meta charset=\"utf-8\"/>\n",
      "  <meta content=\"Find Houses for sale in Kiambu through Property24 Kenya.\" name=\"Description\"/>\n",
      "  <tit\n"
     ]
    }
   ],
   "source": [
    "soup = BeautifulSoup (response.text,'lxml')\n",
    "print(soup.prettify()[:400])"
   ]
  },
  {
   "cell_type": "code",
   "execution_count": 16,
   "id": "f2829c3a-38df-416c-8da5-443c52146b6e",
   "metadata": {},
   "outputs": [
    {
     "name": "stdout",
     "output_type": "stream",
     "text": [
      "['4 Bedroom House', '4 Bedroom House', '4 Bedroom House', '3 Bedroom House', '4 Bedroom House', '3 Bedroom House', '6 Bedroom House', '4 Bedroom House', '4 Bedroom House', '6 Bedroom House', '3 Bedroom House', '3 Bedroom House', '4 Bedroom House', '4 Bedroom House', '4 Bedroom House', '4 Bedroom House', '5 Bedroom House', '4 Bedroom House', '4 Bedroom House', '4 Bedroom House', '4 Bedroom House']\n"
     ]
    }
   ],
   "source": [
    "names = soup.find_all ('span',class_ = 'p24_propertyTitle')\n",
    "names_list = []\n",
    "for i in names:\n",
    "  name = i.text\n",
    "  names_list.append (name)\n",
    "\n",
    "print(names_list)"
   ]
  },
  {
   "cell_type": "code",
   "execution_count": 44,
   "id": "da351e52-7f0d-4632-93e2-bf5c8a4c2f90",
   "metadata": {},
   "outputs": [
    {
     "name": "stdout",
     "output_type": "stream",
     "text": [
      "21\n"
     ]
    }
   ],
   "source": [
    "print(len(names_list))"
   ]
  },
  {
   "cell_type": "code",
   "execution_count": 24,
   "id": "3729db72-030b-4a81-a794-4fbabb1c8ad9",
   "metadata": {},
   "outputs": [
    {
     "name": "stdout",
     "output_type": "stream",
     "text": [
      "['Ruiru', 'Membley', 'Thogoto', 'Ruiru', 'Ruiru', 'Ruiru', 'Kikuyu', 'Ruiru', 'Ruiru', 'Ruiru', 'Ruiru', 'Ruiru', 'Kikuyu', 'Kikuyu', 'Thindigua', 'Kiambu', 'Membley', 'Ruiru', 'Membley', 'Membley', 'Ruiru']\n"
     ]
    }
   ],
   "source": [
    "locations = soup.find_all ('span',class_ = \"p24_location\")\n",
    "locations_list = []\n",
    "for i in locations:\n",
    "  location = i.text\n",
    "  locations_list.append (location)\n",
    "\n",
    "print(locations_list)"
   ]
  },
  {
   "cell_type": "code",
   "execution_count": 48,
   "id": "d6cd32ec-9f65-4d9e-aa19-9f3a98156ac0",
   "metadata": {},
   "outputs": [
    {
     "name": "stdout",
     "output_type": "stream",
     "text": [
      "21\n"
     ]
    }
   ],
   "source": [
    "print(len(locations_list))"
   ]
  },
  {
   "cell_type": "code",
   "execution_count": 30,
   "id": "c4b07bf2-f7d3-4afa-b7e2-2f6a4a598307",
   "metadata": {},
   "outputs": [
    {
     "name": "stdout",
     "output_type": "stream",
     "text": [
      "['Ruiru, Ruiru', 'Membley, Ruiru', 'Thogoto, Kikuyu', 'Ruiru, Ruiru', 'KENYATA ROAD, Ruiru, Ruiru', 'VXJ5+2MH Ruiru, Ruiru, Ruiru', 'Kamangu Area Kiambu County, Kikuyu, Kikuyu', 'VX26+M5W Ruiru, Ruiru, Ruiru', 'Membley Estate Ruiru, Ruiru, Ruiru', 'VXV5+JC Ruiru, Ruiru, Ruiru', 'VX26+M5W Ruiru, Ruiru, Ruiru', 'Ruiru, Ruiru', 'Gikambura Kiambu County, Kikuyu, Kikuyu', 'Lussingetti, Kikuyu, Kikuyu', 'Njathaini Rd KE, Thindigua, Kiambu', 'Off Kiambu Road, Kiambu, Kiambu', 'Membley Estate Ruiru, Membley, Ruiru', 'VXM4+G6J Jubilee I Dr, Mugutha, Ruiru, Ruiru', 'Membley, Ruiru', 'Membley, Ruiru', 'Ruiru, Ruiru']\n"
     ]
    }
   ],
   "source": [
    "addresses = soup.find_all ('span',class_ = 'p24_address')\n",
    "addresses_list = []\n",
    "for i in addresses:\n",
    "  address = i.text\n",
    "  addresses_list.append (address)\n",
    "\n",
    "print(addresses_list)"
   ]
  },
  {
   "cell_type": "code",
   "execution_count": 50,
   "id": "87e241cc-a481-4585-a19f-4691d87fc024",
   "metadata": {},
   "outputs": [
    {
     "name": "stdout",
     "output_type": "stream",
     "text": [
      "21\n"
     ]
    }
   ],
   "source": [
    "print(len(addresses_list))"
   ]
  },
  {
   "cell_type": "code",
   "execution_count": 62,
   "id": "9d70409e-223d-4d21-b9f7-f299862c2f46",
   "metadata": {},
   "outputs": [
    {
     "name": "stdout",
     "output_type": "stream",
     "text": [
      "['KSh 15 000 000', 'KSh 24 500 000', 'KSh 16 000 000', 'KSh 11 000 000', 'KSh 40 000 000', 'KSh 10 500 000', 'KSh 22 000 000', 'KSh 14 500 000', 'KSh 28 000 000', 'KSh 22 000 000', 'KSh 9 500 000', 'KSh 11 000 000', 'KSh 25 000 000', 'KSh 25 000 000', 'KSh 35 000 000', 'KSh 23 000 000', 'KSh 25 000 000', 'KSh 15 800 000', 'KSh 33 000 000', 'KSh 29 000 000', 'KSh 14 500 000']\n"
     ]
    }
   ],
   "source": [
    "prices = soup.find_all ('span',class_= 'p24_price')\n",
    "prices_list = []\n",
    "for i in prices:\n",
    "  price = i.text\n",
    "  prices_list.append (price)\n",
    "  prices_list = [price.text.strip() for price in soup.find_all('span', class_='p24_price')]\n",
    "  \n",
    "print(prices_list)"
   ]
  },
  {
   "cell_type": "code",
   "execution_count": 42,
   "id": "15b7a248-8e96-467b-ad6c-d266c3bd9584",
   "metadata": {},
   "outputs": [
    {
     "name": "stdout",
     "output_type": "stream",
     "text": [
      "['New site alert!\\r\\n\\r\\nSpacious residences perfect for families\\r\\n\\r\\nMugutha,Ruiru\\r\\n\\r\\nType:', 'Luxurious Modern 4 all ensuite Bedroom with SQ Villas in Membley for sale\\r\\n? 4Bedroom All', 'For sale!\\r\\nKsh.16M\\r\\nA place to call Home!\\r\\npresents a **stunning modern flat-roofed', '- Location: Ruiru Mugutha, near Spur Mall \\r\\n- Asking Price: KES 11M\\r\\n\\r\\n—\\r\\n\\r\\nDiscover your', 'This is a New, Spacious, 4 Bedroom Double Story House.\\r\\nAll en suite.\\r\\nSeparate sitting', \"This bungalow in the last stages of finishing comes with modernity at it's best some of the\", 'Located in Kikuyu Kamangu. 6 bedroom maisonette plus DSQ and office room with great view of', '*spacious 4 bedroom villas in ruiru*\\r\\n\\r\\n?? Location; RUIRU - KIMBO \\r\\n\\r\\n??4 Bedroom', 'For Sale: Elegant 4-Bedroom Villa in Membley, Ruiru\\r\\n?? Location: Membley, Ruiru\\r\\n?? Price:', '??Ruiru Mugutha\\r\\n\\r\\n-5 bedrooms all en-suite Flat-roof house with a DSQ within a gated', 'Selling brand new flat roof  3bedrooms house along thika rd ruiru . About 2.5km from thika', '- Location: Ruiru Mugutha, near Spur Mall \\r\\n- Asking Price: KES 11M\\r\\n\\r\\n—\\r\\n\\r\\nDiscover your', 'Kikuyu | Gikambura | Spacious and Brand New 4 Bedroom House | All Ensuite | Study Room |', 'Home is where the heart is, and this beautiful home that’s on sale within the exclusive', 'Introducing Beautiful and Modern 4 & 5 Bedroom All-Ensuite Townhouses – Your Dream Home', 'Exceptional Mediterranean-Style Mansion in Migaa Golf Estate – Kiambu Road\\r\\n\\r\\nDiscover an', '??House MEMBLEY park Estate, Kisima Court \\r\\n??5spacious Bedrooms All Ensuite.\\r\\n??Master', 'Now Selling our New project comprising of Spectacular 4 BEDROOM All En-suite Flat Roof', 'Luxurious Modern 4 Bedroom Villas with SQ for sale in Membley \\r\\n\\r\\n? On a 50 × 100\\r\\n?', 'Luxurious Modern 4 Bedroom Villas with SQ for sale in Membley \\r\\n\\r\\n? On a 50 × 100\\r\\n?', '*spacious 4 bedroom villas in ruiru*\\r\\n\\r\\n?? Location; RUIRU - KIMBO\\r\\n\\r\\n??4 Bedroom']\n"
     ]
    }
   ],
   "source": [
    "comments = soup.find_all ('span',class_='p24_excerpt')\n",
    "comments_list = []\n",
    "for i in comments:\n",
    "  comment = i.text\n",
    "  comments_list.append (comment)\n",
    "  comments_list = [comment.text.strip() for comment in soup.find_all('span', class_='p24_excerpt')]\n",
    "  \n",
    "print(comments_list)"
   ]
  },
  {
   "cell_type": "code",
   "execution_count": 52,
   "id": "bb516da1-0584-4120-b57e-1e7c10e3bb15",
   "metadata": {},
   "outputs": [
    {
     "name": "stdout",
     "output_type": "stream",
     "text": [
      "21\n"
     ]
    }
   ],
   "source": [
    "print(len(comments_list))"
   ]
  },
  {
   "cell_type": "code",
   "execution_count": 66,
   "id": "f7fe7871-bb3a-4b6c-b949-d9204115672e",
   "metadata": {},
   "outputs": [
    {
     "data": {
      "text/html": [
       "<div>\n",
       "<style scoped>\n",
       "    .dataframe tbody tr th:only-of-type {\n",
       "        vertical-align: middle;\n",
       "    }\n",
       "\n",
       "    .dataframe tbody tr th {\n",
       "        vertical-align: top;\n",
       "    }\n",
       "\n",
       "    .dataframe thead th {\n",
       "        text-align: right;\n",
       "    }\n",
       "</style>\n",
       "<table border=\"1\" class=\"dataframe\">\n",
       "  <thead>\n",
       "    <tr style=\"text-align: right;\">\n",
       "      <th></th>\n",
       "      <th>Names</th>\n",
       "      <th>Loacation</th>\n",
       "      <th>Address</th>\n",
       "      <th>Value</th>\n",
       "      <th>Comments</th>\n",
       "    </tr>\n",
       "  </thead>\n",
       "  <tbody>\n",
       "    <tr>\n",
       "      <th>0</th>\n",
       "      <td>4 Bedroom House</td>\n",
       "      <td>Ruiru</td>\n",
       "      <td>Ruiru, Ruiru</td>\n",
       "      <td>KSh 15 000 000</td>\n",
       "      <td>New site alert!\\r\\n\\r\\nSpacious residences per...</td>\n",
       "    </tr>\n",
       "    <tr>\n",
       "      <th>1</th>\n",
       "      <td>4 Bedroom House</td>\n",
       "      <td>Membley</td>\n",
       "      <td>Membley, Ruiru</td>\n",
       "      <td>KSh 24 500 000</td>\n",
       "      <td>Luxurious Modern 4 all ensuite Bedroom with SQ...</td>\n",
       "    </tr>\n",
       "    <tr>\n",
       "      <th>2</th>\n",
       "      <td>4 Bedroom House</td>\n",
       "      <td>Thogoto</td>\n",
       "      <td>Thogoto, Kikuyu</td>\n",
       "      <td>KSh 16 000 000</td>\n",
       "      <td>For sale!\\r\\nKsh.16M\\r\\nA place to call Home!\\...</td>\n",
       "    </tr>\n",
       "    <tr>\n",
       "      <th>3</th>\n",
       "      <td>3 Bedroom House</td>\n",
       "      <td>Ruiru</td>\n",
       "      <td>Ruiru, Ruiru</td>\n",
       "      <td>KSh 11 000 000</td>\n",
       "      <td>- Location: Ruiru Mugutha, near Spur Mall \\r\\n...</td>\n",
       "    </tr>\n",
       "    <tr>\n",
       "      <th>4</th>\n",
       "      <td>4 Bedroom House</td>\n",
       "      <td>Ruiru</td>\n",
       "      <td>KENYATA ROAD, Ruiru, Ruiru</td>\n",
       "      <td>KSh 40 000 000</td>\n",
       "      <td>This is a New, Spacious, 4 Bedroom Double Stor...</td>\n",
       "    </tr>\n",
       "    <tr>\n",
       "      <th>5</th>\n",
       "      <td>3 Bedroom House</td>\n",
       "      <td>Ruiru</td>\n",
       "      <td>VXJ5+2MH Ruiru, Ruiru, Ruiru</td>\n",
       "      <td>KSh 10 500 000</td>\n",
       "      <td>This bungalow in the last stages of finishing ...</td>\n",
       "    </tr>\n",
       "    <tr>\n",
       "      <th>6</th>\n",
       "      <td>6 Bedroom House</td>\n",
       "      <td>Kikuyu</td>\n",
       "      <td>Kamangu Area Kiambu County, Kikuyu, Kikuyu</td>\n",
       "      <td>KSh 22 000 000</td>\n",
       "      <td>Located in Kikuyu Kamangu. 6 bedroom maisonett...</td>\n",
       "    </tr>\n",
       "    <tr>\n",
       "      <th>7</th>\n",
       "      <td>4 Bedroom House</td>\n",
       "      <td>Ruiru</td>\n",
       "      <td>VX26+M5W Ruiru, Ruiru, Ruiru</td>\n",
       "      <td>KSh 14 500 000</td>\n",
       "      <td>*spacious 4 bedroom villas in ruiru*\\r\\n\\r\\n??...</td>\n",
       "    </tr>\n",
       "    <tr>\n",
       "      <th>8</th>\n",
       "      <td>4 Bedroom House</td>\n",
       "      <td>Ruiru</td>\n",
       "      <td>Membley Estate Ruiru, Ruiru, Ruiru</td>\n",
       "      <td>KSh 28 000 000</td>\n",
       "      <td>For Sale: Elegant 4-Bedroom Villa in Membley, ...</td>\n",
       "    </tr>\n",
       "    <tr>\n",
       "      <th>9</th>\n",
       "      <td>6 Bedroom House</td>\n",
       "      <td>Ruiru</td>\n",
       "      <td>VXV5+JC Ruiru, Ruiru, Ruiru</td>\n",
       "      <td>KSh 22 000 000</td>\n",
       "      <td>??Ruiru Mugutha\\r\\n\\r\\n-5 bedrooms all en-suit...</td>\n",
       "    </tr>\n",
       "    <tr>\n",
       "      <th>10</th>\n",
       "      <td>3 Bedroom House</td>\n",
       "      <td>Ruiru</td>\n",
       "      <td>VX26+M5W Ruiru, Ruiru, Ruiru</td>\n",
       "      <td>KSh 9 500 000</td>\n",
       "      <td>Selling brand new flat roof  3bedrooms house a...</td>\n",
       "    </tr>\n",
       "    <tr>\n",
       "      <th>11</th>\n",
       "      <td>3 Bedroom House</td>\n",
       "      <td>Ruiru</td>\n",
       "      <td>Ruiru, Ruiru</td>\n",
       "      <td>KSh 11 000 000</td>\n",
       "      <td>- Location: Ruiru Mugutha, near Spur Mall \\r\\n...</td>\n",
       "    </tr>\n",
       "    <tr>\n",
       "      <th>12</th>\n",
       "      <td>4 Bedroom House</td>\n",
       "      <td>Kikuyu</td>\n",
       "      <td>Gikambura Kiambu County, Kikuyu, Kikuyu</td>\n",
       "      <td>KSh 25 000 000</td>\n",
       "      <td>Kikuyu | Gikambura | Spacious and Brand New 4 ...</td>\n",
       "    </tr>\n",
       "    <tr>\n",
       "      <th>13</th>\n",
       "      <td>4 Bedroom House</td>\n",
       "      <td>Kikuyu</td>\n",
       "      <td>Lussingetti, Kikuyu, Kikuyu</td>\n",
       "      <td>KSh 25 000 000</td>\n",
       "      <td>Home is where the heart is, and this beautiful...</td>\n",
       "    </tr>\n",
       "    <tr>\n",
       "      <th>14</th>\n",
       "      <td>4 Bedroom House</td>\n",
       "      <td>Thindigua</td>\n",
       "      <td>Njathaini Rd KE, Thindigua, Kiambu</td>\n",
       "      <td>KSh 35 000 000</td>\n",
       "      <td>Introducing Beautiful and Modern 4 &amp; 5 Bedroom...</td>\n",
       "    </tr>\n",
       "    <tr>\n",
       "      <th>15</th>\n",
       "      <td>4 Bedroom House</td>\n",
       "      <td>Kiambu</td>\n",
       "      <td>Off Kiambu Road, Kiambu, Kiambu</td>\n",
       "      <td>KSh 23 000 000</td>\n",
       "      <td>Exceptional Mediterranean-Style Mansion in Mig...</td>\n",
       "    </tr>\n",
       "    <tr>\n",
       "      <th>16</th>\n",
       "      <td>5 Bedroom House</td>\n",
       "      <td>Membley</td>\n",
       "      <td>Membley Estate Ruiru, Membley, Ruiru</td>\n",
       "      <td>KSh 25 000 000</td>\n",
       "      <td>??House MEMBLEY park Estate, Kisima Court \\r\\n...</td>\n",
       "    </tr>\n",
       "    <tr>\n",
       "      <th>17</th>\n",
       "      <td>4 Bedroom House</td>\n",
       "      <td>Ruiru</td>\n",
       "      <td>VXM4+G6J Jubilee I Dr, Mugutha, Ruiru, Ruiru</td>\n",
       "      <td>KSh 15 800 000</td>\n",
       "      <td>Now Selling our New project comprising of Spec...</td>\n",
       "    </tr>\n",
       "    <tr>\n",
       "      <th>18</th>\n",
       "      <td>4 Bedroom House</td>\n",
       "      <td>Membley</td>\n",
       "      <td>Membley, Ruiru</td>\n",
       "      <td>KSh 33 000 000</td>\n",
       "      <td>Luxurious Modern 4 Bedroom Villas with SQ for ...</td>\n",
       "    </tr>\n",
       "    <tr>\n",
       "      <th>19</th>\n",
       "      <td>4 Bedroom House</td>\n",
       "      <td>Membley</td>\n",
       "      <td>Membley, Ruiru</td>\n",
       "      <td>KSh 29 000 000</td>\n",
       "      <td>Luxurious Modern 4 Bedroom Villas with SQ for ...</td>\n",
       "    </tr>\n",
       "    <tr>\n",
       "      <th>20</th>\n",
       "      <td>4 Bedroom House</td>\n",
       "      <td>Ruiru</td>\n",
       "      <td>Ruiru, Ruiru</td>\n",
       "      <td>KSh 14 500 000</td>\n",
       "      <td>*spacious 4 bedroom villas in ruiru*\\r\\n\\r\\n??...</td>\n",
       "    </tr>\n",
       "  </tbody>\n",
       "</table>\n",
       "</div>"
      ],
      "text/plain": [
       "              Names  Loacation                                       Address  \\\n",
       "0   4 Bedroom House      Ruiru                                  Ruiru, Ruiru   \n",
       "1   4 Bedroom House    Membley                                Membley, Ruiru   \n",
       "2   4 Bedroom House    Thogoto                               Thogoto, Kikuyu   \n",
       "3   3 Bedroom House      Ruiru                                  Ruiru, Ruiru   \n",
       "4   4 Bedroom House      Ruiru                    KENYATA ROAD, Ruiru, Ruiru   \n",
       "5   3 Bedroom House      Ruiru                  VXJ5+2MH Ruiru, Ruiru, Ruiru   \n",
       "6   6 Bedroom House     Kikuyu    Kamangu Area Kiambu County, Kikuyu, Kikuyu   \n",
       "7   4 Bedroom House      Ruiru                  VX26+M5W Ruiru, Ruiru, Ruiru   \n",
       "8   4 Bedroom House      Ruiru            Membley Estate Ruiru, Ruiru, Ruiru   \n",
       "9   6 Bedroom House      Ruiru                   VXV5+JC Ruiru, Ruiru, Ruiru   \n",
       "10  3 Bedroom House      Ruiru                  VX26+M5W Ruiru, Ruiru, Ruiru   \n",
       "11  3 Bedroom House      Ruiru                                  Ruiru, Ruiru   \n",
       "12  4 Bedroom House     Kikuyu       Gikambura Kiambu County, Kikuyu, Kikuyu   \n",
       "13  4 Bedroom House     Kikuyu                   Lussingetti, Kikuyu, Kikuyu   \n",
       "14  4 Bedroom House  Thindigua            Njathaini Rd KE, Thindigua, Kiambu   \n",
       "15  4 Bedroom House     Kiambu               Off Kiambu Road, Kiambu, Kiambu   \n",
       "16  5 Bedroom House    Membley          Membley Estate Ruiru, Membley, Ruiru   \n",
       "17  4 Bedroom House      Ruiru  VXM4+G6J Jubilee I Dr, Mugutha, Ruiru, Ruiru   \n",
       "18  4 Bedroom House    Membley                                Membley, Ruiru   \n",
       "19  4 Bedroom House    Membley                                Membley, Ruiru   \n",
       "20  4 Bedroom House      Ruiru                                  Ruiru, Ruiru   \n",
       "\n",
       "             Value                                           Comments  \n",
       "0   KSh 15 000 000  New site alert!\\r\\n\\r\\nSpacious residences per...  \n",
       "1   KSh 24 500 000  Luxurious Modern 4 all ensuite Bedroom with SQ...  \n",
       "2   KSh 16 000 000  For sale!\\r\\nKsh.16M\\r\\nA place to call Home!\\...  \n",
       "3   KSh 11 000 000  - Location: Ruiru Mugutha, near Spur Mall \\r\\n...  \n",
       "4   KSh 40 000 000  This is a New, Spacious, 4 Bedroom Double Stor...  \n",
       "5   KSh 10 500 000  This bungalow in the last stages of finishing ...  \n",
       "6   KSh 22 000 000  Located in Kikuyu Kamangu. 6 bedroom maisonett...  \n",
       "7   KSh 14 500 000  *spacious 4 bedroom villas in ruiru*\\r\\n\\r\\n??...  \n",
       "8   KSh 28 000 000  For Sale: Elegant 4-Bedroom Villa in Membley, ...  \n",
       "9   KSh 22 000 000  ??Ruiru Mugutha\\r\\n\\r\\n-5 bedrooms all en-suit...  \n",
       "10   KSh 9 500 000  Selling brand new flat roof  3bedrooms house a...  \n",
       "11  KSh 11 000 000  - Location: Ruiru Mugutha, near Spur Mall \\r\\n...  \n",
       "12  KSh 25 000 000  Kikuyu | Gikambura | Spacious and Brand New 4 ...  \n",
       "13  KSh 25 000 000  Home is where the heart is, and this beautiful...  \n",
       "14  KSh 35 000 000  Introducing Beautiful and Modern 4 & 5 Bedroom...  \n",
       "15  KSh 23 000 000  Exceptional Mediterranean-Style Mansion in Mig...  \n",
       "16  KSh 25 000 000  ??House MEMBLEY park Estate, Kisima Court \\r\\n...  \n",
       "17  KSh 15 800 000  Now Selling our New project comprising of Spec...  \n",
       "18  KSh 33 000 000  Luxurious Modern 4 Bedroom Villas with SQ for ...  \n",
       "19  KSh 29 000 000  Luxurious Modern 4 Bedroom Villas with SQ for ...  \n",
       "20  KSh 14 500 000  *spacious 4 bedroom villas in ruiru*\\r\\n\\r\\n??...  "
      ]
     },
     "execution_count": 66,
     "metadata": {},
     "output_type": "execute_result"
    }
   ],
   "source": [
    "df = pd.DataFrame ({'Names':names_list,\n",
    "                    'Loacation':locations_list,\n",
    "                    'Address':addresses_list,\n",
    "                    'Value':prices_list,\n",
    "                    'Comments':comments_list\n",
    "                   })\n",
    "df"
   ]
  },
  {
   "cell_type": "code",
   "execution_count": 68,
   "id": "9039aaa3-d8dc-49c0-8a29-57069ecad885",
   "metadata": {},
   "outputs": [],
   "source": [
    "df.to_csv (r\"C:\\Users\\Administrator\\OneDrive\\Documents\\WebscrapingFiles\\Houses for Sale in Kiambu.csv\",index = False)"
   ]
  },
  {
   "cell_type": "code",
   "execution_count": null,
   "id": "dd984c48-ee78-419e-bfae-d391da936193",
   "metadata": {},
   "outputs": [],
   "source": []
  }
 ],
 "metadata": {
  "kernelspec": {
   "display_name": "Python 3 (ipykernel)",
   "language": "python",
   "name": "python3"
  },
  "language_info": {
   "codemirror_mode": {
    "name": "ipython",
    "version": 3
   },
   "file_extension": ".py",
   "mimetype": "text/x-python",
   "name": "python",
   "nbconvert_exporter": "python",
   "pygments_lexer": "ipython3",
   "version": "3.11.7"
  }
 },
 "nbformat": 4,
 "nbformat_minor": 5
}
