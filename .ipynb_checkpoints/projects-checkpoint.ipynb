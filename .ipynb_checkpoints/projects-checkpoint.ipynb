{
 "cells": [
  {
   "cell_type": "code",
   "execution_count": 10,
   "id": "24c26d98-de1b-490d-bacb-7161be159f94",
   "metadata": {},
   "outputs": [
    {
     "name": "stdout",
     "output_type": "stream",
     "text": [
      "4\n"
     ]
    }
   ],
   "source": [
    "player_name = 'Jacob'\n",
    "\n",
    "goals = {'Joel':5,'James':2,'Jacob':4,'Joseph':5}\n",
    "\n",
    "for player in goals:\n",
    "    \n",
    "    if player == player_name:\n",
    "        \n",
    "        print(goals[player])\n",
    "        \n",
    "        break\n",
    "else:\n",
    "    \n",
    "    print('No player with that name found')\n"
   ]
  },
  {
   "cell_type": "code",
   "execution_count": 17,
   "id": "c38cb5eb-a04a-4b4e-9adc-0d8980a07fb0",
   "metadata": {},
   "outputs": [
    {
     "name": "stdout",
     "output_type": "stream",
     "text": [
      "4000\n"
     ]
    }
   ],
   "source": [
    "company_name = 'Protea'\n",
    "\n",
    "profit = { 'Protea':4000,'Diversey':6000,'HB Fuller':7000,'Impala':9000,'Transwide':10000}\n",
    "\n",
    "for company in profit:\n",
    "    \n",
    "    if company == company_name:\n",
    "        \n",
    "        print(profit[company])\n",
    "        \n",
    "        break\n",
    "        \n",
    "        \n",
    "else:\n",
    "    print('That company does not exist')\n"
   ]
  },
  {
   "cell_type": "code",
   "execution_count": 19,
   "id": "0b187cef-b41f-4f70-af03-84d868370904",
   "metadata": {},
   "outputs": [
    {
     "name": "stdout",
     "output_type": "stream",
     "text": [
      "No competitor found.\n"
     ]
    }
   ],
   "source": [
    "competitor_name = 'Jane'\n",
    "\n",
    "scores = {'Rose':34,'Michelle':45,'Carol':50,'Melisa':12}\n",
    "\n",
    "for competitor in scores:\n",
    "\n",
    "    if competitor == competitor_name:\n",
    "\n",
    "        print(scores[competitor])\n",
    "        break\n",
    "\n",
    "else:\n",
    "\n",
    "    print('No competitor found.')"
   ]
  },
  {
   "cell_type": "code",
   "execution_count": 22,
   "id": "07db897a-394a-4745-80fa-ab8648842029",
   "metadata": {},
   "outputs": [
    {
     "name": "stdout",
     "output_type": "stream",
     "text": [
      "30\n"
     ]
    }
   ],
   "source": [
    "visitors_names = 'Jane'\n",
    "\n",
    "contributions = {'Jane':30,'Julius':47,'Jacob':34,'George':59,'Junior':89,'Leonard':53,'Elizabeth':60}\n",
    "\n",
    "for visitors in contributions:\n",
    "\n",
    "    if visitors == visitors_names:\n",
    "\n",
    "        print(contributions[visitors])\n",
    "        break\n",
    "\n",
    "else:\n",
    "\n",
    "    print('Include the name of this visitor')\n",
    "\n"
   ]
  },
  {
   "cell_type": "code",
   "execution_count": 23,
   "id": "28e26183-275c-4882-8688-b448cc5e8621",
   "metadata": {},
   "outputs": [
    {
     "name": "stdout",
     "output_type": "stream",
     "text": [
      "0\n",
      "3\n",
      "6\n",
      "9\n",
      "The loop has completed excution\n"
     ]
    }
   ],
   "source": [
    "for i in range (0,10,3):\n",
    "\n",
    "    print(i)\n",
    "\n",
    "else:\n",
    "\n",
    "    print('The loop has completed excution')"
   ]
  },
  {
   "cell_type": "code",
   "execution_count": 25,
   "id": "8071d1da-22ba-4b67-b950-7d8a87c01089",
   "metadata": {},
   "outputs": [
    {
     "name": "stdout",
     "output_type": "stream",
     "text": [
      "0\n",
      "The range is now completed\n"
     ]
    }
   ],
   "source": [
    "for y in range (0,1,3):\n",
    "\n",
    "    print(y)\n",
    "\n",
    "else:\n",
    "\n",
    "    print('The range is now completed')"
   ]
  },
  {
   "cell_type": "code",
   "execution_count": 39,
   "id": "9335db64-bcbd-4fb8-977a-d7a62e91a8e7",
   "metadata": {},
   "outputs": [
    {
     "ename": "SyntaxError",
     "evalue": "invalid syntax (2710340840.py, line 52)",
     "output_type": "error",
     "traceback": [
      "\u001b[1;36m  Cell \u001b[1;32mIn[39], line 52\u001b[1;36m\u001b[0m\n\u001b[1;33m    else:\u001b[0m\n\u001b[1;37m    ^\u001b[0m\n\u001b[1;31mSyntaxError\u001b[0m\u001b[1;31m:\u001b[0m invalid syntax\n"
     ]
    }
   ],
   "source": [
    "total = int(input('enter the amount of the item:'))\n",
    "\n",
    "state = input('enter the name in USA:')\n",
    "\n",
    "if state == 'Texas':\n",
    "\n",
    "    if total <= 150:\n",
    "\n",
    "        print('Shipping cost in Texas is $30')\n",
    "\n",
    "elif total > 150 and total <= 250:\n",
    "\n",
    "    print('Shipping cost in Texas is $20')\n",
    "\n",
    "else:\n",
    "\n",
    "    print('Shipping cost in Texas is $5')\n",
    "    \n",
    "\n",
    "if state == 'Florida':\n",
    "    \n",
    "    if total <= 150:\n",
    "\n",
    "        print('Shipping cost in Florida is $45')\n",
    "\n",
    "elif total < 150 and total > 250:\n",
    "\n",
    "    print('Shipping cost in Florida is $35')\n",
    "\n",
    "else:\n",
    "\n",
    "    print('Shipping cost in Florida is $10')\n",
    "\n",
    "if state == 'Virginia':\n",
    "    \n",
    "    if total <= 150:\n",
    "        \n",
    "        print('Shipping cost in Virginia is $35')\n",
    "\n",
    "elif total > 150 and total < 250:\n",
    "\n",
    "    print('Shipping cost in Virginia is $5')\n",
    "\n",
    "if state == 'New Jersey':\n",
    "    \n",
    "    if total <= 150:\n",
    "\n",
    "        print('Shipping cost in New Jersey is $40')\n",
    "\n",
    "elif total > 150 and total <= 250:\n",
    "\n",
    "    else:\n",
    "\n",
    "    print('Shipping cost in New Jersey is $10')\n",
    "\n",
    "else:\n",
    "\n",
    "    print('Shipping cost is free'\n",
    "\n",
    "          else:\n",
    "          print('Invalid state names')\n",
    "\n"
   ]
  },
  {
   "cell_type": "code",
   "execution_count": null,
   "id": "1b8a36d7-760d-4537-9c56-cb03176f78ac",
   "metadata": {},
   "outputs": [],
   "source": []
  }
 ],
 "metadata": {
  "kernelspec": {
   "display_name": "Python 3 (ipykernel)",
   "language": "python",
   "name": "python3"
  },
  "language_info": {
   "codemirror_mode": {
    "name": "ipython",
    "version": 3
   },
   "file_extension": ".py",
   "mimetype": "text/x-python",
   "name": "python",
   "nbconvert_exporter": "python",
   "pygments_lexer": "ipython3",
   "version": "3.11.7"
  }
 },
 "nbformat": 4,
 "nbformat_minor": 5
}
