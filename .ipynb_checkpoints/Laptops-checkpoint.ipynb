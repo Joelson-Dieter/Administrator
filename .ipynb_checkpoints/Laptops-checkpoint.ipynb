{
 "cells": [
  {
   "cell_type": "code",
   "execution_count": 9,
   "id": "3e669b93-415b-40ca-8a61-a904b50439fb",
   "metadata": {},
   "outputs": [],
   "source": [
    "import requests\n",
    "from bs4 import BeautifulSoup\n",
    "import pandas as pd\n",
    "\n",
    "titles_list = []\n",
    "descriptions_list = []\n",
    "rattings_and_reviews_list = []\n",
    "discounts_list = []\n",
    "prices_list = []"
   ]
  },
  {
   "cell_type": "code",
   "execution_count": 12,
   "id": "ab2a6cb0-3437-43c5-a5da-49308c0eee2d",
   "metadata": {},
   "outputs": [
    {
     "name": "stdout",
     "output_type": "stream",
     "text": [
      "[]\n",
      "[]\n",
      "[]\n",
      "[]\n",
      "[]\n",
      "Empty DataFrame\n",
      "Columns: [Titles, Description, Rattings and Reviews, Discount given, Value]\n",
      "Index: []\n"
     ]
    }
   ],
   "source": [
    "for i in range (1,86):\n",
    "  url = 'https://www.flipkart.com/laptops/pr?sid=6bo%2Cb5g&otracker=categorytree&fm=neo%2Fmerchandising&iid=M_ea78c4f2-6abe-4b21-996c-5ed11f58ed72_1_372UD5BXDFYS_MC.34WHNYFH5V2Y&otracker=hp_rich_navigation_8_1.navigationCard.RICH_NAVIGATION_Electronics%7ELaptop%2Band%2BDesktop_34WHNYFH5V2Y&otracker1=hp_rich_navigation_PINNED_neo%2Fmerchandising_NA_NAV_EXPANDABLE_navigationCard_cc_8_L1_view-all&cid=34WHNYFH5V2Y&page={i}'\n",
    "  response = requests.get (url)\n",
    "  soup = BeautifulSoup (response.text,'lxml')\n",
    "  \n",
    "  titles = soup.find_all ('div',class_='KzDlHZ')\n",
    "  for title in titles:\n",
    "    titles_list.append(title.text.strip())\n",
    "  \n",
    "  descriptions = soup.find_all ('ul',class_='G4BRas')\n",
    "  for description in descriptions:\n",
    "    descriptions_list.append (description.text.strip())\n",
    "  \n",
    "  rattings_and_reviews = soup.find_all ('span',class_='Wphh3N')\n",
    "  for ratting_and_review in rattings_and_reviews:\n",
    "    rattings_and_reviews_list.append (ratting_and_review.text.strip())\n",
    "  \n",
    "  discounts = soup.find_all ('div',class_='UkUFwK')\n",
    "  for discount in discounts:\n",
    "    discounts_list.append (discount.text.strip())\n",
    "  \n",
    "  prices = soup.find_all ('div',class_='Nx9bqj _4b5DiR')\n",
    "  for price in prices:\n",
    "    prices_list.append(price.text.strip())\n",
    "\n",
    "print(titles_list)\n",
    "print(descriptions_list)\n",
    "print(rattings_and_reviews_list)\n",
    "print(discounts_list)\n",
    "print(prices_list)\n",
    "\n",
    "min_length = min (len(titles_list),\n",
    "                 len(descriptions_list),\n",
    "                 len(rattings_and_reviews_list),\n",
    "                 len(discounts_list),\n",
    "                 len(prices_list))\n",
    "titles_list = titles_list [:min_length]\n",
    "descriptions_list = descriptions_list [:min_length]\n",
    "rattings_and_reviews_list = rattings_and_reviews_list [:min_length]\n",
    "discounts_list = discounts_list [:min_length]\n",
    "prices_list = prices_list [:min_length]\n",
    "\n",
    "df = pd.DataFrame ({'Titles':titles_list,\n",
    "                   'Description':descriptions_list,\n",
    "                   'Rattings and Reviews':rattings_and_reviews_list,\n",
    "                   'Discount given':discounts_list,\n",
    "                   'Value':prices_list})\n",
    "\n",
    "print(df)"
   ]
  },
  {
   "cell_type": "code",
   "execution_count": 3,
   "id": "856fdc3e-dd9e-4c76-a6df-43873892a3c3",
   "metadata": {},
   "outputs": [
    {
     "data": {
      "text/html": [
       "<div>\n",
       "<style scoped>\n",
       "    .dataframe tbody tr th:only-of-type {\n",
       "        vertical-align: middle;\n",
       "    }\n",
       "\n",
       "    .dataframe tbody tr th {\n",
       "        vertical-align: top;\n",
       "    }\n",
       "\n",
       "    .dataframe thead th {\n",
       "        text-align: right;\n",
       "    }\n",
       "</style>\n",
       "<table border=\"1\" class=\"dataframe\">\n",
       "  <thead>\n",
       "    <tr style=\"text-align: right;\">\n",
       "      <th></th>\n",
       "      <th>Titles</th>\n",
       "      <th>Description</th>\n",
       "      <th>Rattings and Reviews</th>\n",
       "      <th>Discount given</th>\n",
       "      <th>Value</th>\n",
       "    </tr>\n",
       "  </thead>\n",
       "  <tbody>\n",
       "  </tbody>\n",
       "</table>\n",
       "</div>"
      ],
      "text/plain": [
       "Empty DataFrame\n",
       "Columns: [Titles, Description, Rattings and Reviews, Discount given, Value]\n",
       "Index: []"
      ]
     },
     "execution_count": 3,
     "metadata": {},
     "output_type": "execute_result"
    }
   ],
   "source": [
    "df"
   ]
  },
  {
   "cell_type": "code",
   "execution_count": 4,
   "id": "2ea6d2a7-933c-4053-a83f-c155d7733b59",
   "metadata": {},
   "outputs": [],
   "source": [
    "df.to_csv (r'C:\\Users\\Administrator\\OneDrive\\Documents\\WebscrapingFiles\\Laptops.csv',index=False)"
   ]
  }
 ],
 "metadata": {
  "kernelspec": {
   "display_name": "Python 3 (ipykernel)",
   "language": "python",
   "name": "python3"
  },
  "language_info": {
   "codemirror_mode": {
    "name": "ipython",
    "version": 3
   },
   "file_extension": ".py",
   "mimetype": "text/x-python",
   "name": "python",
   "nbconvert_exporter": "python",
   "pygments_lexer": "ipython3",
   "version": "3.11.7"
  }
 },
 "nbformat": 4,
 "nbformat_minor": 5
}
