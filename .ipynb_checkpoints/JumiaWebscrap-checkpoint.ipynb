{
 "cells": [
  {
   "cell_type": "code",
   "execution_count": 1,
   "id": "e7b62f09-61be-43d2-b9f6-a280355354cd",
   "metadata": {},
   "outputs": [
    {
     "name": "stdout",
     "output_type": "stream",
     "text": [
      "<Response [200]>\n"
     ]
    }
   ],
   "source": [
    "import requests\n",
    "from bs4 import BeautifulSoup\n",
    "url = 'https://www.jumia.co.ke/cooking-appliances-gas-cookers/'\n",
    "R = requests.get(url)\n",
    "print(R)"
   ]
  },
  {
   "cell_type": "code",
   "execution_count": 9,
   "id": "c866c0f2-6f7d-46d5-9e00-c57b0cddf730",
   "metadata": {},
   "outputs": [
    {
     "name": "stdout",
     "output_type": "stream",
     "text": [
      "Gas Cookers - Shop Table Top & Stand Gas Cookers with Waranty | Jumia KESell on JumiaOfficial StoresPhones & TabletsTVs & AudioAppliancesHealth & BeautyHome & OfficeFashionComputingSupermarketBaby ProductsSporting GoodsOther categoriesSearchAccountSign InMy AccountOrdersSaved ItemsHelpHelp CenterPlace an OrderTrack Your OrderOrder CancellationReturns & RefundsPayment & Jumia AccountLive ChatCartThis website uses cookies. For further information on how we use cookies you can read our  Privacy and Cookie noticeHomeHome & OfficeAppliancesCooking AppliancesCookersGas CookersCategoryCookersGas CookersGlass-TopOthersBrandAILYONSAmazeAmnis KitchenArmcoAsagaBajajBekoBJSElectroluxEuroEurochefEurokenFashionGenericHisenseHrIce CoolICECOOLicookLegacyLyonsMikaNaNunixOceanOrgazPremierPrimusRamtonsRashnikRochSayonasilver crestSimferSokanyStarluxTCTLACUNIQUEVeigaproVELTONVONVon HotpointPrice (KSh)Apply-Discount Percentage50% or more40% or more30% or more20% or more10% or moreProduct Rating4 out of 5& above3 out of 5& above2 out of 5& above1 out of 5& aboveSeller Score80% or more60% or more40% or more20% or moreShipped FromShipped from abroadShipped from KenyaExpress DeliveryOfficial StoresOnly Official StoreGas Cookers(909 products found)Sort by:PopularityPopularityNewest ArrivalsPrice: Low to HighPrice: High to LowProduct RatingOfficial StoreRamtons RF/356- 50*50 4gas Cooker (1YR WRTY)KSh 27,994KSh 30,2007%Add To CartOfficial StoreRamtons EB/303 4 Gas 55x55 Dark Red CookerKSh 27,172KSh 29,3007%3.5 out of 5(2)Add To CartOfficial StoreEurochef New 3 Burner G-003B  Stainless Steel Table Top Double Burner Gas Cooker BLACKKSh 2,090KSh 4,00048%5 out of 5(1)Add To CartOfficial StoreRamtons RF/355 - 50*50 4 Gas CookerKSh 27,248KSh 29,4007%Add To CartOfficial StoreEurochef New S31 3GAS AND 1ELECTRIC PLATE TABLE TOP GAS COOKERKSh 4,511KSh 6,50031%Add To CartOfficial StoreEuroken New Arrival EURO55-3+1-E Electric OVEN Free Stand Glass Top CookerKSh 22,278KSh 25,99914%Add To CartNunix Free Standing 4 Gas Burner Cooker With OvenKSh 20,999KSh 36,99943%4 out of 5(35)Add To CartOfficial StoreEurochef EC-G002B Metal Gas Stove, 2 Burners Gas Cooker, Table TopKSh 3,514KSh 3,6995%Add To CartMika MST5060P13EBL, All Gas, 50cm*60cm Free Standing Cooker with Gas OvenKSh 26,799KSh 32,00016%Add To CartRoch THREE BURNER TABLE TOP GAS COOKER STAINLESS STEEL AND AUTOMATIC IGNITION KSh 3,799KSh 3,9995%Add To CartNunix Table Top Three Burner Gas CookerKSh 5,220KSh 6,50020%Add To CartNunix TABLE TOP GAS COOKER KSh 6,100KSh 6,5006%Add To CartNunix  Free Standing 4 Gas Burner Cooker With OvenKSh 22,419KSh 36,59939%Add To CartAILYONS Auto Ignition  double burners with a Black Glass top - recommededKSh 4,095KSh 6,00032%Add To CartNunix Three Burner Table Top gas cookerKSh 5,600KSh 5,9005%Add To CartSayona Automatic 3Gas+1E Cooker with Compartments+ FREE GIFTSKSh 11,999KSh 20,00040%Add To CartVeigapro Energy Efficient 2 Gas Burner,Gas Table Top Cooker plus free pipe and 6kg regulatorKSh 2,699KSh 4,50040%Add To CartEurochef  Deluxe Gas Stove 4 Gas Burner  Silver XLKSh 8,075KSh 12,00033%Add To CartSayona Automatic 3GAS +1ELECTRIC Cooker with Shelves + 13KG REGULATOR+PIPEKSh 11,999KSh 22,00045%Add To Cartsilver crest Infrared CookerKSh 5,509KSh 5,7995%Add To CartNunix 50 * 55cm Cooker, 4 Gas Burners, Gas OvenKSh 18,480KSh 22,17617%4 out of 5(34)Add To CartNunix 50 * 55cm Cookers 3 Gas, 1 Hotplate Electric Oven 3 Gas, Electric OvenKSh 20,999KSh 27,06022%3.7 out of 5(38)Add To CartEurochef Two Gas Burners , Gas Table Top Cooker -Gas EfficientKSh 2,659KSh 5,00047%Add To CartNunix 50 * 60cm Cookers 3 Gas, 1 Hotplate Electric Oven 3 Gas, Electric OvenKSh 24,750KSh 29,70017%5 out of 5(1)Add To CartNunix Free Standing 3 Gas Burner +1 Electric Cooker With OvenKSh 28,000KSh 50,00044%Add To CartMika MST5060U11ESL, All Gas, 50cm * 60cm, Button Ignition Standing Cooker + Gas OvenKSh 26,999KSh 32,00016%1 out of 5(1)Add To CartAmaze AUTOMATIC IGNITION STAINLESS STEEL THREE BURNER GAS COOKER KSh 3,700KSh 3,9997%Add To CartSayona Automatic 3GAS +1ELECTRIC Cooker with Shelves + FREE GIFTSKSh 11,999KSh 22,00045%Add To CartGas Burner and ValveKSh 523KSh 75030%Add To CartNunix Free Standing 3 Gas Burner +1 Electric Cooker With OvenKSh 24,999KSh 35,50030%Add To CartNunix  Full gas free standing cooker with gas ovenKSh 25,365KSh 45,00044%Add To CartICECOOL  Volsmart 4 Burners Free Standing Gas Cooker Cooking Range With 60L OvenKSh 24,699KSh 40,00038%Add To CartNunix Free Standing 4 Gas Burner Cooker With OvenKSh 22,419KSh 35,00036%Add To CartFull gas Volsmart Free Standing cookerKSh 25,365KSh 35,00028%Add To CartNunix 3gas + 1 Electric Free Standing Oven Gas CookerKSh 24,999KSh 39,99938%4.5 out of 5(27)Add To CartNunix 4 Burner Table Top Gas Cooker Stove - Metallic GreyKSh 4,545KSh 6,50030%5 out of 5(1)Add To CartNunix Free Standing 4 Gas Burner Cooker With OvenKSh 19,999KSh 34,99943%4.5 out of 5(2)Add To CartSayona Automatic 3G+1E Cooker with Shelves + FREE GIFTS KSh 11,999KSh 15,00020%4.7 out of 5(3)Add To CartEurochef Table Top Stainless Steel 2 Burner Gas Cooker Plus 6kg Regulator And PipeKSh 2,869KSh 3,60020%4.6 out of 5(7)Add To CartNunix Original Auto Ignition 2 Gas Burner Cooker With AccessoriesKSh 2,6993.8 out of 5(4)Add To Cart123Recently ViewedSee AllShop Gas Cookers online in Kenya\n",
      " \n",
      "The most commonly used appliance in the kitchen that is used for cooking is the gas cooker. To make the perfect meal for your family, the person making the food must have a good cooker. You can either get a gas cooker or an electric cooker. Picking the right cooker depends on the cook and how comfortable they are while using the cooker. When it comes to Gas Cookers, there are several different kinds as each one has different features. The biggest advantage of Gas Cookers is that they do not need electricity to work. Then there are many Gas Cookers that have smooth tops and may also have self-cleaning capabilities. This will save the hassle of cleaning your cooker yourself. \n",
      "The Kitchen is one of the most important rooms of an household. This environment is full of cooking appliance that help you to prepare all types of meal for your family and your friends. Cook like a pro thanks to the gas cookers you can find on Jumia. The online marketplace has all the gas cooker top brands such as Von Hotpoint, Ramtons, Mika, and Bruhm are available here. \n",
      "Advantages of Gas stoves \n",
      "Not only does gas cookers cook faster than electric ranges but they offer many other advantages. First of all it is easier to find an accurate temperature with a gas cooker. Gas ranges provide you with heat that suit perfectly well with your cookbook. As flame cas immediately grow larger or smaller with the turn of a dial, the heat changes immediately. You can more accurately control the temperature. Secondly, the heat is perfectly distributed. With an electric cooktop it may be not the case. Thirdly, it is totally sure that gas burners emit way less wasted heat than electric stoves.\n",
      "So if you don’t have electricity anymore and are still hungry, do not hesitate to buy a great gas cooker online in Kenya. \n",
      "Nunix Infrared CookerMika 4 Burner Gas CookerHaier CookerMika CookerVon Gas CookerArmco CookerMika Electric CookerNew to Jumia?Subscribe to our newsletter to get updates on our latest offers!MaleFemaleI agree to Jumia’s Privacy and Cookie Policy. You can unsubscribe from newsletters at any time.I accept the Legal TermsDOWNLOAD JUMIA FREE APPGet access to exclusive offers!NEED HELP?Chat with usHelp Center Contact UsUSEFUL LINKSTrack Your OrderShipping and deliveryPick-up StationsReturn PolicyHow to Order?Dispute Resolution PolicyCorporate and Bulk PurchaseAdvertise with JumiaReport a ProductJumia Payment Information GuidelinesABOUT JUMIAAbout usReturns and Refunds PolicyJumia CareersJumia ExpressTerms and ConditionsStore Credit Terms and ConditionsPrivacy NoticeCookies NoticeFlash SalesJumia GlobalJumia Anniversary 2024MAKE MONEY WITH JUMIASell on JumiaVendor HubBecome a Sales ConsultantBecome a Logistics Service PartnerJumia City Partner ProgramJUMIA INTERNATIONALAlgeriaIvory CoastEgyptGhanaMoroccoNigeriaSenegalTunisiaUgandaZandoJOIN US ONPAYMENT METHODSAdidasAILYONSAppleAsusBruhmCanonCantuCokeDELLDoveDr. RashelEpsonGarnierHisenseHPInfinixItelJamesonL'Oréal ParisLenovoLogitechMaybellineMikaNIVEANunixOppoRamtonsRochSamsungSandiskSkyworthSonyTCLTecnoTranscendTuskerUSNVision PlusVitronVONXIAOMIWelcome to Jumia!Welcome to Jumia!Subscribe to our newsletter and be the first one to know about our amazing dealsI agree to Jumia’s Privacy and Cookie Policy. You can unsubscribe from newsletters at any time.I accept the Legal TermsMaleFemale\n"
     ]
    }
   ],
   "source": [
    "soup = BeautifulSoup(R.text,('html'))\n",
    "print(soup.text)"
   ]
  },
  {
   "cell_type": "code",
   "execution_count": 13,
   "id": "0795c2a1-9e79-4f97-a8c5-1ad81250058c",
   "metadata": {},
   "outputs": [
    {
     "name": "stdout",
     "output_type": "stream",
     "text": [
      "[<div class=\"prc\">KSh 27,994</div>, <div class=\"prc\">KSh 27,172</div>, <div class=\"prc\">KSh 2,090</div>, <div class=\"prc\">KSh 27,248</div>, <div class=\"prc\">KSh 4,511</div>, <div class=\"prc\">KSh 22,278</div>, <div class=\"prc\">KSh 20,999</div>, <div class=\"prc\">KSh 3,514</div>, <div class=\"prc\">KSh 26,799</div>, <div class=\"prc\">KSh 3,799</div>, <div class=\"prc\">KSh 5,220</div>, <div class=\"prc\">KSh 6,100</div>, <div class=\"prc\">KSh 22,419</div>, <div class=\"prc\">KSh 4,095</div>, <div class=\"prc\">KSh 5,600</div>, <div class=\"prc\">KSh 11,999</div>, <div class=\"prc\">KSh 2,699</div>, <div class=\"prc\">KSh 8,075</div>, <div class=\"prc\">KSh 11,999</div>, <div class=\"prc\">KSh 5,509</div>, <div class=\"prc\">KSh 18,480</div>, <div class=\"prc\">KSh 20,999</div>, <div class=\"prc\">KSh 2,659</div>, <div class=\"prc\">KSh 24,750</div>, <div class=\"prc\">KSh 28,000</div>, <div class=\"prc\">KSh 26,999</div>, <div class=\"prc\">KSh 3,700</div>, <div class=\"prc\">KSh 11,999</div>, <div class=\"prc\">KSh 523</div>, <div class=\"prc\">KSh 24,999</div>, <div class=\"prc\">KSh 25,365</div>, <div class=\"prc\">KSh 24,699</div>, <div class=\"prc\">KSh 22,419</div>, <div class=\"prc\">KSh 25,365</div>, <div class=\"prc\">KSh 24,999</div>, <div class=\"prc\">KSh 4,545</div>, <div class=\"prc\">KSh 19,999</div>, <div class=\"prc\">KSh 11,999</div>, <div class=\"prc\">KSh 2,869</div>, <div class=\"prc\">KSh 2,699</div>]\n"
     ]
    }
   ],
   "source": [
    "Price = (soup.find_all('div',class_='prc'))\n",
    "print(Price)"
   ]
  },
  {
   "cell_type": "code",
   "execution_count": 14,
   "id": "d4acab15-8588-4883-93fb-938d98f4d868",
   "metadata": {},
   "outputs": [
    {
     "name": "stdout",
     "output_type": "stream",
     "text": [
      "<div class=\"prc\">KSh 27,994</div>\n",
      "<div class=\"prc\">KSh 27,172</div>\n",
      "<div class=\"prc\">KSh 2,090</div>\n",
      "<div class=\"prc\">KSh 27,248</div>\n",
      "<div class=\"prc\">KSh 4,511</div>\n",
      "<div class=\"prc\">KSh 22,278</div>\n",
      "<div class=\"prc\">KSh 20,999</div>\n",
      "<div class=\"prc\">KSh 3,514</div>\n",
      "<div class=\"prc\">KSh 26,799</div>\n",
      "<div class=\"prc\">KSh 3,799</div>\n",
      "<div class=\"prc\">KSh 5,220</div>\n",
      "<div class=\"prc\">KSh 6,100</div>\n",
      "<div class=\"prc\">KSh 22,419</div>\n",
      "<div class=\"prc\">KSh 4,095</div>\n",
      "<div class=\"prc\">KSh 5,600</div>\n",
      "<div class=\"prc\">KSh 11,999</div>\n",
      "<div class=\"prc\">KSh 2,699</div>\n",
      "<div class=\"prc\">KSh 8,075</div>\n",
      "<div class=\"prc\">KSh 11,999</div>\n",
      "<div class=\"prc\">KSh 5,509</div>\n",
      "<div class=\"prc\">KSh 18,480</div>\n",
      "<div class=\"prc\">KSh 20,999</div>\n",
      "<div class=\"prc\">KSh 2,659</div>\n",
      "<div class=\"prc\">KSh 24,750</div>\n",
      "<div class=\"prc\">KSh 28,000</div>\n",
      "<div class=\"prc\">KSh 26,999</div>\n",
      "<div class=\"prc\">KSh 3,700</div>\n",
      "<div class=\"prc\">KSh 11,999</div>\n",
      "<div class=\"prc\">KSh 523</div>\n",
      "<div class=\"prc\">KSh 24,999</div>\n",
      "<div class=\"prc\">KSh 25,365</div>\n",
      "<div class=\"prc\">KSh 24,699</div>\n",
      "<div class=\"prc\">KSh 22,419</div>\n",
      "<div class=\"prc\">KSh 25,365</div>\n",
      "<div class=\"prc\">KSh 24,999</div>\n",
      "<div class=\"prc\">KSh 4,545</div>\n",
      "<div class=\"prc\">KSh 19,999</div>\n",
      "<div class=\"prc\">KSh 11,999</div>\n",
      "<div class=\"prc\">KSh 2,869</div>\n",
      "<div class=\"prc\">KSh 2,699</div>\n"
     ]
    }
   ],
   "source": [
    "for i in Price:\n",
    "    print(i)"
   ]
  },
  {
   "cell_type": "code",
   "execution_count": 15,
   "id": "67ffe309-39c9-457c-9eaf-da4191795d28",
   "metadata": {},
   "outputs": [
    {
     "name": "stdout",
     "output_type": "stream",
     "text": [
      "KSh 27,994\n",
      "KSh 27,172\n",
      "KSh 2,090\n",
      "KSh 27,248\n",
      "KSh 4,511\n",
      "KSh 22,278\n",
      "KSh 20,999\n",
      "KSh 3,514\n",
      "KSh 26,799\n",
      "KSh 3,799\n",
      "KSh 5,220\n",
      "KSh 6,100\n",
      "KSh 22,419\n",
      "KSh 4,095\n",
      "KSh 5,600\n",
      "KSh 11,999\n",
      "KSh 2,699\n",
      "KSh 8,075\n",
      "KSh 11,999\n",
      "KSh 5,509\n",
      "KSh 18,480\n",
      "KSh 20,999\n",
      "KSh 2,659\n",
      "KSh 24,750\n",
      "KSh 28,000\n",
      "KSh 26,999\n",
      "KSh 3,700\n",
      "KSh 11,999\n",
      "KSh 523\n",
      "KSh 24,999\n",
      "KSh 25,365\n",
      "KSh 24,699\n",
      "KSh 22,419\n",
      "KSh 25,365\n",
      "KSh 24,999\n",
      "KSh 4,545\n",
      "KSh 19,999\n",
      "KSh 11,999\n",
      "KSh 2,869\n",
      "KSh 2,699\n"
     ]
    }
   ],
   "source": [
    "for i in Price:\n",
    "    print(i.text)"
   ]
  },
  {
   "cell_type": "code",
   "execution_count": 22,
   "id": "41f8bde6-11d1-4efa-b395-5280897aee25",
   "metadata": {},
   "outputs": [
    {
     "name": "stdout",
     "output_type": "stream",
     "text": [
      "[<h3 class=\"name\">Ramtons RF/356- 50*50 4gas Cooker (1YR WRTY)</h3>, <h3 class=\"name\">Ramtons EB/303 4 Gas 55x55 Dark Red Cooker</h3>, <h3 class=\"name\">Eurochef New 3 Burner G-003B  Stainless Steel Table Top Double Burner Gas Cooker BLACK</h3>, <h3 class=\"name\">Ramtons RF/355 - 50*50 4 Gas Cooker</h3>, <h3 class=\"name\">Eurochef New S31 3GAS AND 1ELECTRIC PLATE TABLE TOP GAS COOKER</h3>, <h3 class=\"name\">Euroken New Arrival EURO55-3+1-E Electric OVEN Free Stand Glass Top Cooker</h3>, <h3 class=\"name\">Nunix Free Standing 4 Gas Burner Cooker With Oven</h3>, <h3 class=\"name\">Eurochef EC-G002B Metal Gas Stove, 2 Burners Gas Cooker, Table Top</h3>, <h3 class=\"name\">Mika MST5060P13EBL, All Gas, 50cm*60cm Free Standing Cooker with Gas Oven</h3>, <h3 class=\"name\">Roch THREE BURNER TABLE TOP GAS COOKER STAINLESS STEEL AND AUTOMATIC IGNITION </h3>, <h3 class=\"name\">Nunix Table Top Three Burner Gas Cooker</h3>, <h3 class=\"name\">Nunix TABLE TOP GAS COOKER </h3>, <h3 class=\"name\">Nunix  Free Standing 4 Gas Burner Cooker With Oven</h3>, <h3 class=\"name\">AILYONS Auto Ignition  double burners with a Black Glass top - recommeded</h3>, <h3 class=\"name\">Nunix Three Burner Table Top gas cooker</h3>, <h3 class=\"name\">Sayona Automatic 3Gas+1E Cooker with Compartments+ FREE GIFTS</h3>, <h3 class=\"name\">Veigapro Energy Efficient 2 Gas Burner,Gas Table Top Cooker plus free pipe and 6kg regulator</h3>, <h3 class=\"name\">Eurochef  Deluxe Gas Stove 4 Gas Burner  Silver XL</h3>, <h3 class=\"name\">Sayona Automatic 3GAS +1ELECTRIC Cooker with Shelves + 13KG REGULATOR+PIPE</h3>, <h3 class=\"name\">silver crest Infrared Cooker</h3>, <h3 class=\"name\">Nunix 50 * 55cm Cooker, 4 Gas Burners, Gas Oven</h3>, <h3 class=\"name\">Nunix 50 * 55cm Cookers 3 Gas, 1 Hotplate Electric Oven 3 Gas, Electric Oven</h3>, <h3 class=\"name\">Eurochef Two Gas Burners , Gas Table Top Cooker -Gas Efficient</h3>, <h3 class=\"name\">Nunix 50 * 60cm Cookers 3 Gas, 1 Hotplate Electric Oven 3 Gas, Electric Oven</h3>, <h3 class=\"name\">Nunix Free Standing 3 Gas Burner +1 Electric Cooker With Oven</h3>, <h3 class=\"name\">Mika MST5060U11ESL, All Gas, 50cm * 60cm, Button Ignition Standing Cooker + Gas Oven</h3>, <h3 class=\"name\">Amaze AUTOMATIC IGNITION STAINLESS STEEL THREE BURNER GAS COOKER </h3>, <h3 class=\"name\">Sayona Automatic 3GAS +1ELECTRIC Cooker with Shelves + FREE GIFTS</h3>, <h3 class=\"name\">Gas Burner and Valve</h3>, <h3 class=\"name\">Nunix Free Standing 3 Gas Burner +1 Electric Cooker With Oven</h3>, <h3 class=\"name\">Nunix  Full gas free standing cooker with gas oven</h3>, <h3 class=\"name\">ICECOOL  Volsmart 4 Burners Free Standing Gas Cooker Cooking Range With 60L Oven</h3>, <h3 class=\"name\">Nunix Free Standing 4 Gas Burner Cooker With Oven</h3>, <h3 class=\"name\">Full gas Volsmart Free Standing cooker</h3>, <h3 class=\"name\">Nunix 3gas + 1 Electric Free Standing Oven Gas Cooker</h3>, <h3 class=\"name\">Nunix 4 Burner Table Top Gas Cooker Stove - Metallic Grey</h3>, <h3 class=\"name\">Nunix Free Standing 4 Gas Burner Cooker With Oven</h3>, <h3 class=\"name\">Sayona Automatic 3G+1E Cooker with Shelves + FREE GIFTS </h3>, <h3 class=\"name\">Eurochef Table Top Stainless Steel 2 Burner Gas Cooker Plus 6kg Regulator And Pipe</h3>, <h3 class=\"name\">Nunix Original Auto Ignition 2 Gas Burner Cooker With Accessories</h3>, <h3>Advantages of Gas stoves </h3>]\n"
     ]
    }
   ],
   "source": [
    "Name = (soup.find_all('h3'))\n",
    "print(Name)"
   ]
  },
  {
   "cell_type": "code",
   "execution_count": 23,
   "id": "bc2be60a-98a4-455d-b6e4-e4b0a0d16038",
   "metadata": {},
   "outputs": [
    {
     "name": "stdout",
     "output_type": "stream",
     "text": [
      "[<h3 class=\"name\">Ramtons RF/356- 50*50 4gas Cooker (1YR WRTY)</h3>, <h3 class=\"name\">Ramtons EB/303 4 Gas 55x55 Dark Red Cooker</h3>, <h3 class=\"name\">Eurochef New 3 Burner G-003B  Stainless Steel Table Top Double Burner Gas Cooker BLACK</h3>, <h3 class=\"name\">Ramtons RF/355 - 50*50 4 Gas Cooker</h3>, <h3 class=\"name\">Eurochef New S31 3GAS AND 1ELECTRIC PLATE TABLE TOP GAS COOKER</h3>, <h3 class=\"name\">Euroken New Arrival EURO55-3+1-E Electric OVEN Free Stand Glass Top Cooker</h3>, <h3 class=\"name\">Nunix Free Standing 4 Gas Burner Cooker With Oven</h3>, <h3 class=\"name\">Eurochef EC-G002B Metal Gas Stove, 2 Burners Gas Cooker, Table Top</h3>, <h3 class=\"name\">Mika MST5060P13EBL, All Gas, 50cm*60cm Free Standing Cooker with Gas Oven</h3>, <h3 class=\"name\">Roch THREE BURNER TABLE TOP GAS COOKER STAINLESS STEEL AND AUTOMATIC IGNITION </h3>, <h3 class=\"name\">Nunix Table Top Three Burner Gas Cooker</h3>, <h3 class=\"name\">Nunix TABLE TOP GAS COOKER </h3>, <h3 class=\"name\">Nunix  Free Standing 4 Gas Burner Cooker With Oven</h3>, <h3 class=\"name\">AILYONS Auto Ignition  double burners with a Black Glass top - recommeded</h3>, <h3 class=\"name\">Nunix Three Burner Table Top gas cooker</h3>, <h3 class=\"name\">Sayona Automatic 3Gas+1E Cooker with Compartments+ FREE GIFTS</h3>, <h3 class=\"name\">Veigapro Energy Efficient 2 Gas Burner,Gas Table Top Cooker plus free pipe and 6kg regulator</h3>, <h3 class=\"name\">Eurochef  Deluxe Gas Stove 4 Gas Burner  Silver XL</h3>, <h3 class=\"name\">Sayona Automatic 3GAS +1ELECTRIC Cooker with Shelves + 13KG REGULATOR+PIPE</h3>, <h3 class=\"name\">silver crest Infrared Cooker</h3>, <h3 class=\"name\">Nunix 50 * 55cm Cooker, 4 Gas Burners, Gas Oven</h3>, <h3 class=\"name\">Nunix 50 * 55cm Cookers 3 Gas, 1 Hotplate Electric Oven 3 Gas, Electric Oven</h3>, <h3 class=\"name\">Eurochef Two Gas Burners , Gas Table Top Cooker -Gas Efficient</h3>, <h3 class=\"name\">Nunix 50 * 60cm Cookers 3 Gas, 1 Hotplate Electric Oven 3 Gas, Electric Oven</h3>, <h3 class=\"name\">Nunix Free Standing 3 Gas Burner +1 Electric Cooker With Oven</h3>, <h3 class=\"name\">Mika MST5060U11ESL, All Gas, 50cm * 60cm, Button Ignition Standing Cooker + Gas Oven</h3>, <h3 class=\"name\">Amaze AUTOMATIC IGNITION STAINLESS STEEL THREE BURNER GAS COOKER </h3>, <h3 class=\"name\">Sayona Automatic 3GAS +1ELECTRIC Cooker with Shelves + FREE GIFTS</h3>, <h3 class=\"name\">Gas Burner and Valve</h3>, <h3 class=\"name\">Nunix Free Standing 3 Gas Burner +1 Electric Cooker With Oven</h3>, <h3 class=\"name\">Nunix  Full gas free standing cooker with gas oven</h3>, <h3 class=\"name\">ICECOOL  Volsmart 4 Burners Free Standing Gas Cooker Cooking Range With 60L Oven</h3>, <h3 class=\"name\">Nunix Free Standing 4 Gas Burner Cooker With Oven</h3>, <h3 class=\"name\">Full gas Volsmart Free Standing cooker</h3>, <h3 class=\"name\">Nunix 3gas + 1 Electric Free Standing Oven Gas Cooker</h3>, <h3 class=\"name\">Nunix 4 Burner Table Top Gas Cooker Stove - Metallic Grey</h3>, <h3 class=\"name\">Nunix Free Standing 4 Gas Burner Cooker With Oven</h3>, <h3 class=\"name\">Sayona Automatic 3G+1E Cooker with Shelves + FREE GIFTS </h3>, <h3 class=\"name\">Eurochef Table Top Stainless Steel 2 Burner Gas Cooker Plus 6kg Regulator And Pipe</h3>, <h3 class=\"name\">Nunix Original Auto Ignition 2 Gas Burner Cooker With Accessories</h3>]\n"
     ]
    }
   ],
   "source": [
    "Name = (soup.find_all('h3',class_='name'))\n",
    "print(Name)"
   ]
  },
  {
   "cell_type": "code",
   "execution_count": 24,
   "id": "2ff47f75-4a32-499b-844c-35376239d95d",
   "metadata": {},
   "outputs": [
    {
     "name": "stdout",
     "output_type": "stream",
     "text": [
      "<h3 class=\"name\">Ramtons RF/356- 50*50 4gas Cooker (1YR WRTY)</h3>\n",
      "<h3 class=\"name\">Ramtons EB/303 4 Gas 55x55 Dark Red Cooker</h3>\n",
      "<h3 class=\"name\">Eurochef New 3 Burner G-003B  Stainless Steel Table Top Double Burner Gas Cooker BLACK</h3>\n",
      "<h3 class=\"name\">Ramtons RF/355 - 50*50 4 Gas Cooker</h3>\n",
      "<h3 class=\"name\">Eurochef New S31 3GAS AND 1ELECTRIC PLATE TABLE TOP GAS COOKER</h3>\n",
      "<h3 class=\"name\">Euroken New Arrival EURO55-3+1-E Electric OVEN Free Stand Glass Top Cooker</h3>\n",
      "<h3 class=\"name\">Nunix Free Standing 4 Gas Burner Cooker With Oven</h3>\n",
      "<h3 class=\"name\">Eurochef EC-G002B Metal Gas Stove, 2 Burners Gas Cooker, Table Top</h3>\n",
      "<h3 class=\"name\">Mika MST5060P13EBL, All Gas, 50cm*60cm Free Standing Cooker with Gas Oven</h3>\n",
      "<h3 class=\"name\">Roch THREE BURNER TABLE TOP GAS COOKER STAINLESS STEEL AND AUTOMATIC IGNITION </h3>\n",
      "<h3 class=\"name\">Nunix Table Top Three Burner Gas Cooker</h3>\n",
      "<h3 class=\"name\">Nunix TABLE TOP GAS COOKER </h3>\n",
      "<h3 class=\"name\">Nunix  Free Standing 4 Gas Burner Cooker With Oven</h3>\n",
      "<h3 class=\"name\">AILYONS Auto Ignition  double burners with a Black Glass top - recommeded</h3>\n",
      "<h3 class=\"name\">Nunix Three Burner Table Top gas cooker</h3>\n",
      "<h3 class=\"name\">Sayona Automatic 3Gas+1E Cooker with Compartments+ FREE GIFTS</h3>\n",
      "<h3 class=\"name\">Veigapro Energy Efficient 2 Gas Burner,Gas Table Top Cooker plus free pipe and 6kg regulator</h3>\n",
      "<h3 class=\"name\">Eurochef  Deluxe Gas Stove 4 Gas Burner  Silver XL</h3>\n",
      "<h3 class=\"name\">Sayona Automatic 3GAS +1ELECTRIC Cooker with Shelves + 13KG REGULATOR+PIPE</h3>\n",
      "<h3 class=\"name\">silver crest Infrared Cooker</h3>\n",
      "<h3 class=\"name\">Nunix 50 * 55cm Cooker, 4 Gas Burners, Gas Oven</h3>\n",
      "<h3 class=\"name\">Nunix 50 * 55cm Cookers 3 Gas, 1 Hotplate Electric Oven 3 Gas, Electric Oven</h3>\n",
      "<h3 class=\"name\">Eurochef Two Gas Burners , Gas Table Top Cooker -Gas Efficient</h3>\n",
      "<h3 class=\"name\">Nunix 50 * 60cm Cookers 3 Gas, 1 Hotplate Electric Oven 3 Gas, Electric Oven</h3>\n",
      "<h3 class=\"name\">Nunix Free Standing 3 Gas Burner +1 Electric Cooker With Oven</h3>\n",
      "<h3 class=\"name\">Mika MST5060U11ESL, All Gas, 50cm * 60cm, Button Ignition Standing Cooker + Gas Oven</h3>\n",
      "<h3 class=\"name\">Amaze AUTOMATIC IGNITION STAINLESS STEEL THREE BURNER GAS COOKER </h3>\n",
      "<h3 class=\"name\">Sayona Automatic 3GAS +1ELECTRIC Cooker with Shelves + FREE GIFTS</h3>\n",
      "<h3 class=\"name\">Gas Burner and Valve</h3>\n",
      "<h3 class=\"name\">Nunix Free Standing 3 Gas Burner +1 Electric Cooker With Oven</h3>\n",
      "<h3 class=\"name\">Nunix  Full gas free standing cooker with gas oven</h3>\n",
      "<h3 class=\"name\">ICECOOL  Volsmart 4 Burners Free Standing Gas Cooker Cooking Range With 60L Oven</h3>\n",
      "<h3 class=\"name\">Nunix Free Standing 4 Gas Burner Cooker With Oven</h3>\n",
      "<h3 class=\"name\">Full gas Volsmart Free Standing cooker</h3>\n",
      "<h3 class=\"name\">Nunix 3gas + 1 Electric Free Standing Oven Gas Cooker</h3>\n",
      "<h3 class=\"name\">Nunix 4 Burner Table Top Gas Cooker Stove - Metallic Grey</h3>\n",
      "<h3 class=\"name\">Nunix Free Standing 4 Gas Burner Cooker With Oven</h3>\n",
      "<h3 class=\"name\">Sayona Automatic 3G+1E Cooker with Shelves + FREE GIFTS </h3>\n",
      "<h3 class=\"name\">Eurochef Table Top Stainless Steel 2 Burner Gas Cooker Plus 6kg Regulator And Pipe</h3>\n",
      "<h3 class=\"name\">Nunix Original Auto Ignition 2 Gas Burner Cooker With Accessories</h3>\n"
     ]
    }
   ],
   "source": [
    "for i in Name:\n",
    "    print(i)"
   ]
  },
  {
   "cell_type": "code",
   "execution_count": 30,
   "id": "eede65c5-50e3-4e03-b54e-8214bcdf2b5c",
   "metadata": {},
   "outputs": [
    {
     "name": "stdout",
     "output_type": "stream",
     "text": [
      "Ramtons RF/356- 50*50 4gas Cooker (1YR WRTY)\n",
      "Ramtons EB/303 4 Gas 55x55 Dark Red Cooker\n",
      "Eurochef New 3 Burner G-003B  Stainless Steel Table Top Double Burner Gas Cooker BLACK\n",
      "Ramtons RF/355 - 50*50 4 Gas Cooker\n",
      "Eurochef New S31 3GAS AND 1ELECTRIC PLATE TABLE TOP GAS COOKER\n",
      "Euroken New Arrival EURO55-3+1-E Electric OVEN Free Stand Glass Top Cooker\n",
      "Nunix Free Standing 4 Gas Burner Cooker With Oven\n",
      "Eurochef EC-G002B Metal Gas Stove, 2 Burners Gas Cooker, Table Top\n",
      "Mika MST5060P13EBL, All Gas, 50cm*60cm Free Standing Cooker with Gas Oven\n",
      "Roch THREE BURNER TABLE TOP GAS COOKER STAINLESS STEEL AND AUTOMATIC IGNITION \n",
      "Nunix Table Top Three Burner Gas Cooker\n",
      "Nunix TABLE TOP GAS COOKER \n",
      "Nunix  Free Standing 4 Gas Burner Cooker With Oven\n",
      "AILYONS Auto Ignition  double burners with a Black Glass top - recommeded\n",
      "Nunix Three Burner Table Top gas cooker\n",
      "Sayona Automatic 3Gas+1E Cooker with Compartments+ FREE GIFTS\n",
      "Veigapro Energy Efficient 2 Gas Burner,Gas Table Top Cooker plus free pipe and 6kg regulator\n",
      "Eurochef  Deluxe Gas Stove 4 Gas Burner  Silver XL\n",
      "Sayona Automatic 3GAS +1ELECTRIC Cooker with Shelves + 13KG REGULATOR+PIPE\n",
      "silver crest Infrared Cooker\n",
      "Nunix 50 * 55cm Cooker, 4 Gas Burners, Gas Oven\n",
      "Nunix 50 * 55cm Cookers 3 Gas, 1 Hotplate Electric Oven 3 Gas, Electric Oven\n",
      "Eurochef Two Gas Burners , Gas Table Top Cooker -Gas Efficient\n",
      "Nunix 50 * 60cm Cookers 3 Gas, 1 Hotplate Electric Oven 3 Gas, Electric Oven\n",
      "Nunix Free Standing 3 Gas Burner +1 Electric Cooker With Oven\n",
      "Mika MST5060U11ESL, All Gas, 50cm * 60cm, Button Ignition Standing Cooker + Gas Oven\n",
      "Amaze AUTOMATIC IGNITION STAINLESS STEEL THREE BURNER GAS COOKER \n",
      "Sayona Automatic 3GAS +1ELECTRIC Cooker with Shelves + FREE GIFTS\n",
      "Gas Burner and Valve\n",
      "Nunix Free Standing 3 Gas Burner +1 Electric Cooker With Oven\n",
      "Nunix  Full gas free standing cooker with gas oven\n",
      "ICECOOL  Volsmart 4 Burners Free Standing Gas Cooker Cooking Range With 60L Oven\n",
      "Nunix Free Standing 4 Gas Burner Cooker With Oven\n",
      "Full gas Volsmart Free Standing cooker\n",
      "Nunix 3gas + 1 Electric Free Standing Oven Gas Cooker\n",
      "Nunix 4 Burner Table Top Gas Cooker Stove - Metallic Grey\n",
      "Nunix Free Standing 4 Gas Burner Cooker With Oven\n",
      "Sayona Automatic 3G+1E Cooker with Shelves + FREE GIFTS \n",
      "Eurochef Table Top Stainless Steel 2 Burner Gas Cooker Plus 6kg Regulator And Pipe\n",
      "Nunix Original Auto Ignition 2 Gas Burner Cooker With Accessories\n"
     ]
    }
   ],
   "source": [
    "for i in Name:\n",
    "    print(i.text)"
   ]
  },
  {
   "cell_type": "code",
   "execution_count": 36,
   "id": "18da3dd9-ea52-4be2-9044-495ba0be5101",
   "metadata": {},
   "outputs": [
    {
     "ename": "NameError",
     "evalue": "name 'names' is not defined",
     "output_type": "error",
     "traceback": [
      "\u001b[1;31m---------------------------------------------------------------------------\u001b[0m",
      "\u001b[1;31mNameError\u001b[0m                                 Traceback (most recent call last)",
      "Cell \u001b[1;32mIn[36], line 1\u001b[0m\n\u001b[1;32m----> 1\u001b[0m \u001b[38;5;28;01mfor\u001b[39;00m name \u001b[38;5;129;01min\u001b[39;00m names:\n\u001b[0;32m      2\u001b[0m     \u001b[38;5;28;01mif\u001b[39;00m \u001b[38;5;124m'\u001b[39m\u001b[38;5;124mRamtons\u001b[39m\u001b[38;5;124m'\u001b[39m \u001b[38;5;129;01min\u001b[39;00m Name\u001b[38;5;241m.\u001b[39mget_text():\n\u001b[0;32m      3\u001b[0m         \u001b[38;5;28mprint\u001b[39m(name\u001b[38;5;241m.\u001b[39mget_text())\n",
      "\u001b[1;31mNameError\u001b[0m: name 'names' is not defined"
     ]
    }
   ],
   "source": [
    "for name in names:\n",
    "    if 'Ramtons' in Name.get_text():\n",
    "        print(name.get_text())"
   ]
  },
  {
   "cell_type": "code",
   "execution_count": null,
   "id": "9013cfbc-9112-487f-b926-044aada8a35d",
   "metadata": {},
   "outputs": [],
   "source": []
  }
 ],
 "metadata": {
  "kernelspec": {
   "display_name": "Python 3 (ipykernel)",
   "language": "python",
   "name": "python3"
  },
  "language_info": {
   "codemirror_mode": {
    "name": "ipython",
    "version": 3
   },
   "file_extension": ".py",
   "mimetype": "text/x-python",
   "name": "python",
   "nbconvert_exporter": "python",
   "pygments_lexer": "ipython3",
   "version": "3.11.7"
  }
 },
 "nbformat": 4,
 "nbformat_minor": 5
}
