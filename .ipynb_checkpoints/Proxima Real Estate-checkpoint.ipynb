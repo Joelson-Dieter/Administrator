{
 "cells": [
  {
   "cell_type": "code",
   "execution_count": 2,
   "id": "90d7cd39-3bdc-4e51-81b0-84104b4cb8e3",
   "metadata": {},
   "outputs": [],
   "source": [
    "import requests\n",
    "from bs4 import BeautifulSoup\n",
    "import pandas as pd\n",
    "import numpy as np"
   ]
  },
  {
   "cell_type": "code",
   "execution_count": 4,
   "id": "f0d1e7b8-20c4-42d5-b04e-11b7253b9d79",
   "metadata": {},
   "outputs": [
    {
     "name": "stdout",
     "output_type": "stream",
     "text": [
      "<Response [200]>\n"
     ]
    }
   ],
   "source": [
    "url = 'https://www.proxima.co.ke/property'\n",
    "response = requests.get (url)\n",
    "print(response)"
   ]
  },
  {
   "cell_type": "code",
   "execution_count": 10,
   "id": "9cd0f1e7-390f-48c8-9cff-2014a4bdff8e",
   "metadata": {},
   "outputs": [
    {
     "name": "stdout",
     "output_type": "stream",
     "text": [
      "<!DOCTYPE html>\n",
      "<html>\n",
      " <head lang=\"en\">\n",
      "  <meta charset=\"utf-8\"/>\n",
      "  <title>\n",
      "   Properties in Nairobi, Kenya | Proxima Real Estate\n",
      "  </title>\n",
      "  <!--[if IE]>\n",
      "    <meta http-equiv=\"X-UA-Compatible\" content=\"IE=9,chrome=1\"><![endif]-->\n",
      "  <meta content=\"width=device-width, initial-scale=1, user-scalable=0, shrink-to-fit=no\" name=\"viewport\"/>\n",
      "  <meta content=\"telephone=no\" name=\"format-detection\"/>\n",
      "  <meta content=\"Find your dream home in Nairobi, Kenya! Explore our diverse listings of luxurious apar\n"
     ]
    }
   ],
   "source": [
    "soup = BeautifulSoup (response.text,'lxml')\n",
    "print(soup.prettify()[:500])"
   ]
  },
  {
   "cell_type": "code",
   "execution_count": 14,
   "id": "365b20b4-d3bc-4c3e-b071-6d1407b277ad",
   "metadata": {},
   "outputs": [
    {
     "name": "stdout",
     "output_type": "stream",
     "text": [
      "['GEMINI', 'EMERALD', 'Garden Residency', 'Vers residency ', 'Ivy Residency', 'Crystal Residency', 'Dorn Residency', 'Purple Residences', 'Rhapta Residency', 'Gem Residences', 'City homes', 'Jade Residence', 'Capital Residence', 'Pard Residence', 'Comfort Residence', 'Misty Residence', 'VENUS', 'Marina Residency', 'Golden Residency', 'CAPRICORN ', 'Nandi Residency', 'Ambra Apartments ', 'Classic Residency', 'Legends Reside', 'Star Residence ', 'Siaya Apartments ', 'Mora Villas ', 'Alba Residence ', 'Harbour Residence', 'Zanzi Residence ', 'Aspire ', 'Platinum Residence ', 'Tune Residency ', 'Syna Homes', 'Diamond Residency ', 'Leleshwa Residency', 'Royal Residence', 'Riverside Residency']\n"
     ]
    }
   ],
   "source": [
    "address_street = soup.find_all ('span',class_='properties__address-street')\n",
    "address_street_list = []\n",
    "for i in address_street:\n",
    "  address = i.text\n",
    "  address_street_list.append (address)\n",
    "\n",
    "print(address_street_list)"
   ]
  },
  {
   "cell_type": "code",
   "execution_count": 16,
   "id": "3a430272-4215-4b74-92d1-bbc7c8e35038",
   "metadata": {},
   "outputs": [
    {
     "name": "stdout",
     "output_type": "stream",
     "text": [
      "38\n"
     ]
    }
   ],
   "source": [
    "print(len(address_street_list))"
   ]
  },
  {
   "cell_type": "code",
   "execution_count": 20,
   "id": "fca995de-1ddc-4f85-8a8e-f4558d3f27ad",
   "metadata": {},
   "outputs": [
    {
     "name": "stdout",
     "output_type": "stream",
     "text": [
      "['Westlands', 'Westlands', 'Kilimani', 'Kileleshwa', 'Kileleshwa', 'Kileleshwa', 'Kileleshwa', 'Westlands', 'Westlands', 'Westlands', 'Westlands', 'Kilimani', 'Kilimani', 'Kilimani', 'Kileleshwa', 'Westlands', 'Kileleshwa', 'Westlands', 'Kilimani', 'Kilimani', 'Kileleshwa', 'Kileleshwa', 'Kilimani', 'Kilimani', 'Kilimani ', 'Kileleshwa ', 'Lavington ', 'Kilimani ', 'Kilimani ', 'Kilimani ', 'Lavington ', 'Kileleshwa ', 'Lavington ', 'Kileleshwa', 'Kileleshwa', 'Kileleshwa', 'Lavington', 'Riverside']\n"
     ]
    }
   ],
   "source": [
    "address_city = soup.find_all ('span',class_='properties__address-city')\n",
    "address_city_list = []\n",
    "for i in address_city:\n",
    "  city_address = i.text\n",
    "  address_city_list.append (city_address)\n",
    "\n",
    "print(address_city_list)"
   ]
  },
  {
   "cell_type": "code",
   "execution_count": 22,
   "id": "3c9f3ff3-5f6e-4912-ab0f-b73b0d39ab71",
   "metadata": {},
   "outputs": [
    {
     "name": "stdout",
     "output_type": "stream",
     "text": [
      "38\n"
     ]
    }
   ],
   "source": [
    "print(len(address_city_list))"
   ]
  },
  {
   "cell_type": "code",
   "execution_count": 26,
   "id": "61a57e7c-247f-4f53-811a-c20e5b59ea49",
   "metadata": {},
   "outputs": [
    {
     "name": "stdout",
     "output_type": "stream",
     "text": [
      "['1 & 2 Bedrooms', '1 & 2 Bedrooms', '1, 2 & 3 Bedrooms', '1, 2 & 3 Bedroom', '1, 2, 3 & 4 Bedrooms', '3, 4 & 5 Bedrooms', '1, 2 & 3 Bedrooms', '1, 2 & 3 Bedrooms', '1 & 2 Bedrooms', '1 & 2 Bedrooms', '2 & 3 Bedroom', '3 Bedroom', '2 & 3 Bedrooms', '1 & 2 Bedrooms', '4 Bedrooms', '1 & 2 Bedrooms', '4 Bedroom', '1 & 2 Bedrooms', '1, 2 & 3 Bedrooms', '1, 2 & 3 Bedroom', '1, 2, 3 & 4 Bedrooms', '1 & 2 Bedrooms', '1 & 2 Bedrooms', '2, 3, 4 & 5 Bedroom Apartments ', '2 Bedrooms ', '2 Bedrooms', '4 Bedroom ', 'Studio, 1, 2 & 3 Bedrooms', '2 & 3 Bedrooms', '2, 3 & 4 Bedroom ', 'Town House ', '4 & 5 Bedroom ', '1 & 2 Bedrooms', '3, 4 & 5 Bedroom', '3 & 4 Bedroom', '1 & 2 Bedroom', '4 & 5 Bedroom', '2 & 3 Bedroom']\n"
     ]
    }
   ],
   "source": [
    "bedrooms = soup.find_all ('span',class_='properties__ribon')\n",
    "bedrooms_list = []\n",
    "for i in bedrooms:\n",
    "  bedroom = i.text\n",
    "  bedrooms_list.append (bedroom)\n",
    "\n",
    "print(bedrooms_list)"
   ]
  },
  {
   "cell_type": "code",
   "execution_count": 28,
   "id": "5964cfaa-07ce-489a-a112-f5c7b5777179",
   "metadata": {},
   "outputs": [
    {
     "name": "stdout",
     "output_type": "stream",
     "text": [
      "38\n"
     ]
    }
   ],
   "source": [
    "print(len(bedrooms_list))"
   ]
  },
  {
   "cell_type": "code",
   "execution_count": 72,
   "id": "8ae033c0-91bb-4d62-bc84-5977e4153761",
   "metadata": {},
   "outputs": [
    {
     "name": "stdout",
     "output_type": "stream",
     "text": [
      "['', 'Ksh. 8,300,000', '', 'Ksh. 7,800,000', '', 'Ksh. 6,800,000', '', 'Ksh. 6,000,000', '', 'Ksh. 7,300,000', '', 'Ksh. 24,000,000', '', 'Ksh. 5,700,000', '', 'Ksh. 7,000,000', '', 'Ksh. 7,800,000', '', 'Ksh. 6,800,000', '', 'Ksh. 12,000,000', '', 'Ksh. 16,000,000', '', 'Ksh. 9,100,000', '', 'Ksh. 7,000,000', '', 'Ksh. 22,000,000', '', 'Ksh. 8,100,000', '', 'Ksh. 22,000,000', '', 'Ksh. 13,550,000', '', 'Ksh. 6,000,000', '', 'Ksh. 8,500,000', '', 'Ksh. 8,000,000', '', 'Ksh. 70,000', '', 'Ksh. 8,700,000', '', 'Ksh. 12,500,000', '', 'Ksh. 13,500,000', '', 'Ksh. 13,500,000', '', 'Ksh. 85,000,000', '', 'Ksh. 7,000,000', '', 'Ksh. 8,700,000', '', 'Ksh. 14,500,000', '', 'Ksh. 66,000,000', '', 'Ksh. 28,000,000', '', 'Ksh. 7,000,000', '', 'Ksh. 35,000,000', '', 'Ksh. 24,000,000', '', 'Ksh. 7,000,000', '', 'Ksh. 35,000,000', '', 'Ksh. 12,000,000']\n"
     ]
    }
   ],
   "source": [
    "prices = soup.find_all ('strong')\n",
    "prices_list = []\n",
    "for i in prices:\n",
    "  value = i.text\n",
    "  prices_list.append (value)\n",
    "\n",
    "print(prices_list)"
   ]
  },
  {
   "cell_type": "code",
   "execution_count": 74,
   "id": "ca114b5f-5d13-41b5-8cb8-6799a83e1e60",
   "metadata": {},
   "outputs": [
    {
     "name": "stdout",
     "output_type": "stream",
     "text": [
      "76\n"
     ]
    }
   ],
   "source": [
    "print(len(prices_list))"
   ]
  },
  {
   "cell_type": "code",
   "execution_count": 62,
   "id": "0fd3e9f7-5ae3-4d71-a526-ff6fd97faf6e",
   "metadata": {},
   "outputs": [],
   "source": [
    "max_len = max (len (address_street_list),len(address_city_list),len(bedrooms_list),len(prices_list))\n",
    "address_street_list += [np.nan] * (max_len -  len(address_street_list))\n",
    "address_city_list += [np.nan] * (max_len - len(address_city_list))\n",
    "bedrooms_list += [np.nan] * (max_len - len(bedrooms_list))\n",
    "prices_list += [np.nan] * (max_len - len(prices_list))"
   ]
  },
  {
   "cell_type": "code",
   "execution_count": 66,
   "id": "f1cab722-f106-4e25-b937-92b9dd06aa67",
   "metadata": {},
   "outputs": [
    {
     "data": {
      "text/html": [
       "<div>\n",
       "<style scoped>\n",
       "    .dataframe tbody tr th:only-of-type {\n",
       "        vertical-align: middle;\n",
       "    }\n",
       "\n",
       "    .dataframe tbody tr th {\n",
       "        vertical-align: top;\n",
       "    }\n",
       "\n",
       "    .dataframe thead th {\n",
       "        text-align: right;\n",
       "    }\n",
       "</style>\n",
       "<table border=\"1\" class=\"dataframe\">\n",
       "  <thead>\n",
       "    <tr style=\"text-align: right;\">\n",
       "      <th></th>\n",
       "      <th>Street Address</th>\n",
       "      <th>City Address</th>\n",
       "      <th>Number of Bedrooms</th>\n",
       "      <th>Selling Price</th>\n",
       "    </tr>\n",
       "  </thead>\n",
       "  <tbody>\n",
       "    <tr>\n",
       "      <th>0</th>\n",
       "      <td>GEMINI</td>\n",
       "      <td>Westlands</td>\n",
       "      <td>1 &amp; 2 Bedrooms</td>\n",
       "      <td></td>\n",
       "    </tr>\n",
       "    <tr>\n",
       "      <th>1</th>\n",
       "      <td>EMERALD</td>\n",
       "      <td>Westlands</td>\n",
       "      <td>1 &amp; 2 Bedrooms</td>\n",
       "      <td>Ksh. 8,300,000</td>\n",
       "    </tr>\n",
       "    <tr>\n",
       "      <th>2</th>\n",
       "      <td>Garden Residency</td>\n",
       "      <td>Kilimani</td>\n",
       "      <td>1, 2 &amp; 3 Bedrooms</td>\n",
       "      <td></td>\n",
       "    </tr>\n",
       "    <tr>\n",
       "      <th>3</th>\n",
       "      <td>Vers residency</td>\n",
       "      <td>Kileleshwa</td>\n",
       "      <td>1, 2 &amp; 3 Bedroom</td>\n",
       "      <td>Ksh. 7,800,000</td>\n",
       "    </tr>\n",
       "    <tr>\n",
       "      <th>4</th>\n",
       "      <td>Ivy Residency</td>\n",
       "      <td>Kileleshwa</td>\n",
       "      <td>1, 2, 3 &amp; 4 Bedrooms</td>\n",
       "      <td></td>\n",
       "    </tr>\n",
       "    <tr>\n",
       "      <th>5</th>\n",
       "      <td>Crystal Residency</td>\n",
       "      <td>Kileleshwa</td>\n",
       "      <td>3, 4 &amp; 5 Bedrooms</td>\n",
       "      <td>Ksh. 6,800,000</td>\n",
       "    </tr>\n",
       "    <tr>\n",
       "      <th>6</th>\n",
       "      <td>Dorn Residency</td>\n",
       "      <td>Kileleshwa</td>\n",
       "      <td>1, 2 &amp; 3 Bedrooms</td>\n",
       "      <td></td>\n",
       "    </tr>\n",
       "    <tr>\n",
       "      <th>7</th>\n",
       "      <td>Purple Residences</td>\n",
       "      <td>Westlands</td>\n",
       "      <td>1, 2 &amp; 3 Bedrooms</td>\n",
       "      <td>Ksh. 6,000,000</td>\n",
       "    </tr>\n",
       "    <tr>\n",
       "      <th>8</th>\n",
       "      <td>Rhapta Residency</td>\n",
       "      <td>Westlands</td>\n",
       "      <td>1 &amp; 2 Bedrooms</td>\n",
       "      <td></td>\n",
       "    </tr>\n",
       "    <tr>\n",
       "      <th>9</th>\n",
       "      <td>Gem Residences</td>\n",
       "      <td>Westlands</td>\n",
       "      <td>1 &amp; 2 Bedrooms</td>\n",
       "      <td>Ksh. 7,300,000</td>\n",
       "    </tr>\n",
       "    <tr>\n",
       "      <th>10</th>\n",
       "      <td>City homes</td>\n",
       "      <td>Westlands</td>\n",
       "      <td>2 &amp; 3 Bedroom</td>\n",
       "      <td></td>\n",
       "    </tr>\n",
       "    <tr>\n",
       "      <th>11</th>\n",
       "      <td>Jade Residence</td>\n",
       "      <td>Kilimani</td>\n",
       "      <td>3 Bedroom</td>\n",
       "      <td>Ksh. 24,000,000</td>\n",
       "    </tr>\n",
       "    <tr>\n",
       "      <th>12</th>\n",
       "      <td>Capital Residence</td>\n",
       "      <td>Kilimani</td>\n",
       "      <td>2 &amp; 3 Bedrooms</td>\n",
       "      <td></td>\n",
       "    </tr>\n",
       "    <tr>\n",
       "      <th>13</th>\n",
       "      <td>Pard Residence</td>\n",
       "      <td>Kilimani</td>\n",
       "      <td>1 &amp; 2 Bedrooms</td>\n",
       "      <td>Ksh. 5,700,000</td>\n",
       "    </tr>\n",
       "    <tr>\n",
       "      <th>14</th>\n",
       "      <td>Comfort Residence</td>\n",
       "      <td>Kileleshwa</td>\n",
       "      <td>4 Bedrooms</td>\n",
       "      <td></td>\n",
       "    </tr>\n",
       "    <tr>\n",
       "      <th>15</th>\n",
       "      <td>Misty Residence</td>\n",
       "      <td>Westlands</td>\n",
       "      <td>1 &amp; 2 Bedrooms</td>\n",
       "      <td>Ksh. 7,000,000</td>\n",
       "    </tr>\n",
       "    <tr>\n",
       "      <th>16</th>\n",
       "      <td>VENUS</td>\n",
       "      <td>Kileleshwa</td>\n",
       "      <td>4 Bedroom</td>\n",
       "      <td></td>\n",
       "    </tr>\n",
       "    <tr>\n",
       "      <th>17</th>\n",
       "      <td>Marina Residency</td>\n",
       "      <td>Westlands</td>\n",
       "      <td>1 &amp; 2 Bedrooms</td>\n",
       "      <td>Ksh. 7,800,000</td>\n",
       "    </tr>\n",
       "    <tr>\n",
       "      <th>18</th>\n",
       "      <td>Golden Residency</td>\n",
       "      <td>Kilimani</td>\n",
       "      <td>1, 2 &amp; 3 Bedrooms</td>\n",
       "      <td></td>\n",
       "    </tr>\n",
       "    <tr>\n",
       "      <th>19</th>\n",
       "      <td>CAPRICORN</td>\n",
       "      <td>Kilimani</td>\n",
       "      <td>1, 2 &amp; 3 Bedroom</td>\n",
       "      <td>Ksh. 6,800,000</td>\n",
       "    </tr>\n",
       "    <tr>\n",
       "      <th>20</th>\n",
       "      <td>Nandi Residency</td>\n",
       "      <td>Kileleshwa</td>\n",
       "      <td>1, 2, 3 &amp; 4 Bedrooms</td>\n",
       "      <td></td>\n",
       "    </tr>\n",
       "    <tr>\n",
       "      <th>21</th>\n",
       "      <td>Ambra Apartments</td>\n",
       "      <td>Kileleshwa</td>\n",
       "      <td>1 &amp; 2 Bedrooms</td>\n",
       "      <td>Ksh. 12,000,000</td>\n",
       "    </tr>\n",
       "    <tr>\n",
       "      <th>22</th>\n",
       "      <td>Classic Residency</td>\n",
       "      <td>Kilimani</td>\n",
       "      <td>1 &amp; 2 Bedrooms</td>\n",
       "      <td></td>\n",
       "    </tr>\n",
       "    <tr>\n",
       "      <th>23</th>\n",
       "      <td>Legends Reside</td>\n",
       "      <td>Kilimani</td>\n",
       "      <td>2, 3, 4 &amp; 5 Bedroom Apartments</td>\n",
       "      <td>Ksh. 16,000,000</td>\n",
       "    </tr>\n",
       "    <tr>\n",
       "      <th>24</th>\n",
       "      <td>Star Residence</td>\n",
       "      <td>Kilimani</td>\n",
       "      <td>2 Bedrooms</td>\n",
       "      <td></td>\n",
       "    </tr>\n",
       "    <tr>\n",
       "      <th>25</th>\n",
       "      <td>Siaya Apartments</td>\n",
       "      <td>Kileleshwa</td>\n",
       "      <td>2 Bedrooms</td>\n",
       "      <td>Ksh. 9,100,000</td>\n",
       "    </tr>\n",
       "    <tr>\n",
       "      <th>26</th>\n",
       "      <td>Mora Villas</td>\n",
       "      <td>Lavington</td>\n",
       "      <td>4 Bedroom</td>\n",
       "      <td></td>\n",
       "    </tr>\n",
       "    <tr>\n",
       "      <th>27</th>\n",
       "      <td>Alba Residence</td>\n",
       "      <td>Kilimani</td>\n",
       "      <td>Studio, 1, 2 &amp; 3 Bedrooms</td>\n",
       "      <td>Ksh. 7,000,000</td>\n",
       "    </tr>\n",
       "    <tr>\n",
       "      <th>28</th>\n",
       "      <td>Harbour Residence</td>\n",
       "      <td>Kilimani</td>\n",
       "      <td>2 &amp; 3 Bedrooms</td>\n",
       "      <td></td>\n",
       "    </tr>\n",
       "    <tr>\n",
       "      <th>29</th>\n",
       "      <td>Zanzi Residence</td>\n",
       "      <td>Kilimani</td>\n",
       "      <td>2, 3 &amp; 4 Bedroom</td>\n",
       "      <td>Ksh. 22,000,000</td>\n",
       "    </tr>\n",
       "    <tr>\n",
       "      <th>30</th>\n",
       "      <td>Aspire</td>\n",
       "      <td>Lavington</td>\n",
       "      <td>Town House</td>\n",
       "      <td></td>\n",
       "    </tr>\n",
       "    <tr>\n",
       "      <th>31</th>\n",
       "      <td>Platinum Residence</td>\n",
       "      <td>Kileleshwa</td>\n",
       "      <td>4 &amp; 5 Bedroom</td>\n",
       "      <td>Ksh. 8,100,000</td>\n",
       "    </tr>\n",
       "    <tr>\n",
       "      <th>32</th>\n",
       "      <td>Tune Residency</td>\n",
       "      <td>Lavington</td>\n",
       "      <td>1 &amp; 2 Bedrooms</td>\n",
       "      <td></td>\n",
       "    </tr>\n",
       "    <tr>\n",
       "      <th>33</th>\n",
       "      <td>Syna Homes</td>\n",
       "      <td>Kileleshwa</td>\n",
       "      <td>3, 4 &amp; 5 Bedroom</td>\n",
       "      <td>Ksh. 22,000,000</td>\n",
       "    </tr>\n",
       "    <tr>\n",
       "      <th>34</th>\n",
       "      <td>Diamond Residency</td>\n",
       "      <td>Kileleshwa</td>\n",
       "      <td>3 &amp; 4 Bedroom</td>\n",
       "      <td></td>\n",
       "    </tr>\n",
       "    <tr>\n",
       "      <th>35</th>\n",
       "      <td>Leleshwa Residency</td>\n",
       "      <td>Kileleshwa</td>\n",
       "      <td>1 &amp; 2 Bedroom</td>\n",
       "      <td>Ksh. 13,550,000</td>\n",
       "    </tr>\n",
       "    <tr>\n",
       "      <th>36</th>\n",
       "      <td>Royal Residence</td>\n",
       "      <td>Lavington</td>\n",
       "      <td>4 &amp; 5 Bedroom</td>\n",
       "      <td></td>\n",
       "    </tr>\n",
       "    <tr>\n",
       "      <th>37</th>\n",
       "      <td>Riverside Residency</td>\n",
       "      <td>Riverside</td>\n",
       "      <td>2 &amp; 3 Bedroom</td>\n",
       "      <td>Ksh. 6,000,000</td>\n",
       "    </tr>\n",
       "  </tbody>\n",
       "</table>\n",
       "</div>"
      ],
      "text/plain": [
       "         Street Address City Address               Number of Bedrooms  \\\n",
       "0                GEMINI    Westlands                   1 & 2 Bedrooms   \n",
       "1               EMERALD    Westlands                   1 & 2 Bedrooms   \n",
       "2      Garden Residency     Kilimani                1, 2 & 3 Bedrooms   \n",
       "3       Vers residency    Kileleshwa                 1, 2 & 3 Bedroom   \n",
       "4         Ivy Residency   Kileleshwa             1, 2, 3 & 4 Bedrooms   \n",
       "5     Crystal Residency   Kileleshwa                3, 4 & 5 Bedrooms   \n",
       "6        Dorn Residency   Kileleshwa                1, 2 & 3 Bedrooms   \n",
       "7     Purple Residences    Westlands                1, 2 & 3 Bedrooms   \n",
       "8      Rhapta Residency    Westlands                   1 & 2 Bedrooms   \n",
       "9        Gem Residences    Westlands                   1 & 2 Bedrooms   \n",
       "10           City homes    Westlands                    2 & 3 Bedroom   \n",
       "11       Jade Residence     Kilimani                        3 Bedroom   \n",
       "12    Capital Residence     Kilimani                   2 & 3 Bedrooms   \n",
       "13       Pard Residence     Kilimani                   1 & 2 Bedrooms   \n",
       "14    Comfort Residence   Kileleshwa                       4 Bedrooms   \n",
       "15      Misty Residence    Westlands                   1 & 2 Bedrooms   \n",
       "16                VENUS   Kileleshwa                        4 Bedroom   \n",
       "17     Marina Residency    Westlands                   1 & 2 Bedrooms   \n",
       "18     Golden Residency     Kilimani                1, 2 & 3 Bedrooms   \n",
       "19           CAPRICORN      Kilimani                 1, 2 & 3 Bedroom   \n",
       "20      Nandi Residency   Kileleshwa             1, 2, 3 & 4 Bedrooms   \n",
       "21    Ambra Apartments    Kileleshwa                   1 & 2 Bedrooms   \n",
       "22    Classic Residency     Kilimani                   1 & 2 Bedrooms   \n",
       "23       Legends Reside     Kilimani  2, 3, 4 & 5 Bedroom Apartments    \n",
       "24      Star Residence     Kilimani                       2 Bedrooms    \n",
       "25    Siaya Apartments   Kileleshwa                        2 Bedrooms   \n",
       "26         Mora Villas    Lavington                        4 Bedroom    \n",
       "27      Alba Residence     Kilimani         Studio, 1, 2 & 3 Bedrooms   \n",
       "28    Harbour Residence    Kilimani                    2 & 3 Bedrooms   \n",
       "29     Zanzi Residence     Kilimani                 2, 3 & 4 Bedroom    \n",
       "30              Aspire    Lavington                       Town House    \n",
       "31  Platinum Residence   Kileleshwa                    4 & 5 Bedroom    \n",
       "32      Tune Residency    Lavington                    1 & 2 Bedrooms   \n",
       "33           Syna Homes   Kileleshwa                 3, 4 & 5 Bedroom   \n",
       "34   Diamond Residency    Kileleshwa                    3 & 4 Bedroom   \n",
       "35   Leleshwa Residency   Kileleshwa                    1 & 2 Bedroom   \n",
       "36      Royal Residence    Lavington                    4 & 5 Bedroom   \n",
       "37  Riverside Residency    Riverside                    2 & 3 Bedroom   \n",
       "\n",
       "      Selling Price  \n",
       "0                    \n",
       "1    Ksh. 8,300,000  \n",
       "2                    \n",
       "3    Ksh. 7,800,000  \n",
       "4                    \n",
       "5    Ksh. 6,800,000  \n",
       "6                    \n",
       "7    Ksh. 6,000,000  \n",
       "8                    \n",
       "9    Ksh. 7,300,000  \n",
       "10                   \n",
       "11  Ksh. 24,000,000  \n",
       "12                   \n",
       "13   Ksh. 5,700,000  \n",
       "14                   \n",
       "15   Ksh. 7,000,000  \n",
       "16                   \n",
       "17   Ksh. 7,800,000  \n",
       "18                   \n",
       "19   Ksh. 6,800,000  \n",
       "20                   \n",
       "21  Ksh. 12,000,000  \n",
       "22                   \n",
       "23  Ksh. 16,000,000  \n",
       "24                   \n",
       "25   Ksh. 9,100,000  \n",
       "26                   \n",
       "27   Ksh. 7,000,000  \n",
       "28                   \n",
       "29  Ksh. 22,000,000  \n",
       "30                   \n",
       "31   Ksh. 8,100,000  \n",
       "32                   \n",
       "33  Ksh. 22,000,000  \n",
       "34                   \n",
       "35  Ksh. 13,550,000  \n",
       "36                   \n",
       "37   Ksh. 6,000,000  "
      ]
     },
     "execution_count": 66,
     "metadata": {},
     "output_type": "execute_result"
    }
   ],
   "source": [
    "df = pd.DataFrame ({'Street Address':address_street_list,\n",
    "                   'City Address':address_city_list,\n",
    "                   'Number of Bedrooms':bedrooms_list,\n",
    "                   'Selling Price':prices_list})\n",
    "df.head(38)"
   ]
  },
  {
   "cell_type": "code",
   "execution_count": 76,
   "id": "78a44d6c-1012-42a2-9159-791545cc7de1",
   "metadata": {},
   "outputs": [],
   "source": [
    "df.to_csv (r\"C:\\Users\\Administrator\\OneDrive\\Documents\\WebscrapingFiles\\Proxima Real Estate.csv\")"
   ]
  },
  {
   "cell_type": "code",
   "execution_count": null,
   "id": "0ab49312-ec1a-49d1-adeb-e63f1cc26b1f",
   "metadata": {},
   "outputs": [],
   "source": []
  }
 ],
 "metadata": {
  "kernelspec": {
   "display_name": "Python 3 (ipykernel)",
   "language": "python",
   "name": "python3"
  },
  "language_info": {
   "codemirror_mode": {
    "name": "ipython",
    "version": 3
   },
   "file_extension": ".py",
   "mimetype": "text/x-python",
   "name": "python",
   "nbconvert_exporter": "python",
   "pygments_lexer": "ipython3",
   "version": "3.11.7"
  }
 },
 "nbformat": 4,
 "nbformat_minor": 5
}
