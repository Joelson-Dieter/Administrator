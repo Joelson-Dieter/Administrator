{
 "cells": [
  {
   "cell_type": "code",
   "execution_count": 1,
   "id": "250bac24-9458-48e5-a8c5-edac7ca753e5",
   "metadata": {},
   "outputs": [
    {
     "name": "stdout",
     "output_type": "stream",
     "text": [
      "<class 'str'>\n"
     ]
    }
   ],
   "source": [
    "str1='python programming'\n",
    "str2='simplelearn'\n",
    "print(type(str1))"
   ]
  },
  {
   "cell_type": "code",
   "execution_count": 3,
   "id": "92062281-d404-4ff0-a9c0-1947b2129a76",
   "metadata": {},
   "outputs": [
    {
     "name": "stdout",
     "output_type": "stream",
     "text": [
      "<class 'str'>\n"
     ]
    }
   ],
   "source": [
    "print(type(str2))"
   ]
  },
  {
   "cell_type": "code",
   "execution_count": 5,
   "id": "dd4923ca-9a32-4596-a972-20b5f1a0cad8",
   "metadata": {},
   "outputs": [
    {
     "name": "stdout",
     "output_type": "stream",
     "text": [
      "python programming\n",
      "simplelearn\n"
     ]
    }
   ],
   "source": [
    "print(str1)\n",
    "print(str2)"
   ]
  },
  {
   "cell_type": "code",
   "execution_count": 7,
   "id": "0a5fab56-9413-45f9-9fd2-5b68f2d0d649",
   "metadata": {},
   "outputs": [
    {
     "name": "stdout",
     "output_type": "stream",
     "text": [
      "python programmingsimplelearn\n"
     ]
    }
   ],
   "source": [
    "print(str1 + str2)"
   ]
  },
  {
   "cell_type": "code",
   "execution_count": 9,
   "id": "84185207-a4fc-4440-98a4-36ef3f1e43e5",
   "metadata": {},
   "outputs": [
    {
     "data": {
      "text/plain": [
       "'n'"
      ]
     },
     "execution_count": 9,
     "metadata": {},
     "output_type": "execute_result"
    }
   ],
   "source": [
    "str1[5]"
   ]
  },
  {
   "cell_type": "code",
   "execution_count": 11,
   "id": "3f6402ee-cbee-498b-91b0-4d854688d86e",
   "metadata": {},
   "outputs": [
    {
     "data": {
      "text/plain": [
       "'e'"
      ]
     },
     "execution_count": 11,
     "metadata": {},
     "output_type": "execute_result"
    }
   ],
   "source": [
    "str2[5]"
   ]
  },
  {
   "cell_type": "code",
   "execution_count": 15,
   "id": "dfe4e875-9efb-409e-8cef-90d75c59d17c",
   "metadata": {},
   "outputs": [
    {
     "name": "stdout",
     "output_type": "stream",
     "text": [
      "pytho\n"
     ]
    }
   ],
   "source": [
    "print(str1[0:5])"
   ]
  },
  {
   "cell_type": "code",
   "execution_count": 17,
   "id": "5531cd5a-25c8-4144-b57c-e83d7fbb188a",
   "metadata": {},
   "outputs": [
    {
     "name": "stdout",
     "output_type": "stream",
     "text": [
      "['This is my orange']\n"
     ]
    }
   ],
   "source": [
    "split1='This is my orange'\n",
    "l1=split1.split(\",\")\n",
    "print(l1)"
   ]
  },
  {
   "cell_type": "code",
   "execution_count": 19,
   "id": "d4464fb3-66a8-44a5-aa74-326d9c442d07",
   "metadata": {},
   "outputs": [
    {
     "data": {
      "text/plain": [
       "str"
      ]
     },
     "execution_count": 19,
     "metadata": {},
     "output_type": "execute_result"
    }
   ],
   "source": [
    "type(split1)"
   ]
  },
  {
   "cell_type": "code",
   "execution_count": 21,
   "id": "f95579b9-d594-4bb1-aa0f-29a200e5ff4f",
   "metadata": {},
   "outputs": [
    {
     "data": {
      "text/plain": [
       "list"
      ]
     },
     "execution_count": 21,
     "metadata": {},
     "output_type": "execute_result"
    }
   ],
   "source": [
    "type(l1)"
   ]
  },
  {
   "cell_type": "code",
   "execution_count": 23,
   "id": "72cc1f0b-297f-40ca-9e0e-1fe5e305b8f9",
   "metadata": {},
   "outputs": [
    {
     "name": "stdout",
     "output_type": "stream",
     "text": [
      "['a', 'i', 'India']\n"
     ]
    }
   ],
   "source": [
    "list1=['a','i','India']\n",
    "print(list1)"
   ]
  },
  {
   "cell_type": "code",
   "execution_count": 27,
   "id": "ab4b3611-6e83-4a6e-addb-4aa1177ce4db",
   "metadata": {},
   "outputs": [],
   "source": [
    "list2=['b','2']\n",
    "list1+=list2"
   ]
  },
  {
   "cell_type": "code",
   "execution_count": 29,
   "id": "bdc40606-07fe-4789-8ef8-f2b53bdec777",
   "metadata": {},
   "outputs": [
    {
     "data": {
      "text/plain": [
       "tuple"
      ]
     },
     "execution_count": 29,
     "metadata": {},
     "output_type": "execute_result"
    }
   ],
   "source": [
    "tup1=('a','b','c','d')\n",
    "type(tup1)"
   ]
  },
  {
   "cell_type": "code",
   "execution_count": 31,
   "id": "d8ea0a4a-34df-4392-ac38-1f14bb330271",
   "metadata": {},
   "outputs": [],
   "source": [
    "tup2=('e','f','g')\n",
    "tup1+=tup2"
   ]
  },
  {
   "cell_type": "code",
   "execution_count": 33,
   "id": "e9148c09-9ee4-47b6-9a7c-6a1ec0a1cf8c",
   "metadata": {},
   "outputs": [
    {
     "data": {
      "text/plain": [
       "('a', 'b', 'c', 'd', 'e', 'f', 'g', 'a', 'b', 'c', 'd', 'e', 'f', 'g')"
      ]
     },
     "execution_count": 33,
     "metadata": {},
     "output_type": "execute_result"
    }
   ],
   "source": [
    "tup1*2"
   ]
  },
  {
   "cell_type": "code",
   "execution_count": 35,
   "id": "21ad190a-561d-492c-8706-5c8576888e67",
   "metadata": {},
   "outputs": [
    {
     "data": {
      "text/plain": [
       "('a', 'b', 'c', 'd', 'e', 'f', 'g', 'e', 'f', 'g')"
      ]
     },
     "execution_count": 35,
     "metadata": {},
     "output_type": "execute_result"
    }
   ],
   "source": [
    "tup1+tup2"
   ]
  },
  {
   "cell_type": "code",
   "execution_count": 37,
   "id": "80455948-b557-48b9-9eae-8dcff16a4764",
   "metadata": {},
   "outputs": [
    {
     "name": "stdout",
     "output_type": "stream",
     "text": [
      "{1: 'Lion', 2: 'Tiger', 3: 'Dog'}\n"
     ]
    }
   ],
   "source": [
    "dict1={1:'Lion',2:'Tiger',3:'Dog'}\n",
    "print(dict1)"
   ]
  },
  {
   "cell_type": "code",
   "execution_count": 39,
   "id": "30f28f8c-9707-45f8-b365-8deecd12eeb2",
   "metadata": {},
   "outputs": [
    {
     "data": {
      "text/plain": [
       "3"
      ]
     },
     "execution_count": 39,
     "metadata": {},
     "output_type": "execute_result"
    }
   ],
   "source": [
    "len(dict1)"
   ]
  },
  {
   "cell_type": "code",
   "execution_count": 41,
   "id": "e189720e-3b15-4556-bad2-a0393a15c411",
   "metadata": {},
   "outputs": [
    {
     "data": {
      "text/plain": [
       "'Dog'"
      ]
     },
     "execution_count": 41,
     "metadata": {},
     "output_type": "execute_result"
    }
   ],
   "source": [
    "dict1[3]"
   ]
  },
  {
   "cell_type": "code",
   "execution_count": 43,
   "id": "f228d5d0-bc43-439d-91af-bf95546198d1",
   "metadata": {},
   "outputs": [
    {
     "data": {
      "text/plain": [
       "'Tiger'"
      ]
     },
     "execution_count": 43,
     "metadata": {},
     "output_type": "execute_result"
    }
   ],
   "source": [
    "dict1[2]"
   ]
  },
  {
   "cell_type": "code",
   "execution_count": 45,
   "id": "fefda6d2-3e6c-4b48-b920-8bbb6a0a8657",
   "metadata": {},
   "outputs": [
    {
     "data": {
      "text/plain": [
       "'Lion'"
      ]
     },
     "execution_count": 45,
     "metadata": {},
     "output_type": "execute_result"
    }
   ],
   "source": [
    "dict1[1]"
   ]
  },
  {
   "cell_type": "code",
   "execution_count": 49,
   "id": "108c1e3b-62e6-4291-a8cc-a76001302254",
   "metadata": {},
   "outputs": [
    {
     "name": "stdout",
     "output_type": "stream",
     "text": [
      "{1, 2, 3, 4, 5}\n"
     ]
    },
    {
     "data": {
      "text/plain": [
       "set"
      ]
     },
     "execution_count": 49,
     "metadata": {},
     "output_type": "execute_result"
    }
   ],
   "source": [
    "set1={1,2,3,4,5}\n",
    "print(set1)\n",
    "type(set1)"
   ]
  },
  {
   "cell_type": "code",
   "execution_count": 51,
   "id": "87baa726-3286-4ef4-a86e-635166b5c09b",
   "metadata": {},
   "outputs": [
    {
     "name": "stdout",
     "output_type": "stream",
     "text": [
      "{3, 4, 'C', 'B', 'A'}\n"
     ]
    },
    {
     "data": {
      "text/plain": [
       "set"
      ]
     },
     "execution_count": 51,
     "metadata": {},
     "output_type": "execute_result"
    }
   ],
   "source": [
    "set2={'A','B','C',3,4}\n",
    "print(set2)\n",
    "type(set2)\n"
   ]
  },
  {
   "cell_type": "code",
   "execution_count": 55,
   "id": "110d8716-837b-4cf0-862c-f78737a198c7",
   "metadata": {},
   "outputs": [
    {
     "name": "stdout",
     "output_type": "stream",
     "text": [
      "{3, 4}\n"
     ]
    }
   ],
   "source": [
    "print(set1&set2)"
   ]
  },
  {
   "cell_type": "code",
   "execution_count": 57,
   "id": "c6b3bfa2-b898-416c-b0a6-b1fe695ef5e2",
   "metadata": {},
   "outputs": [
    {
     "data": {
      "text/plain": [
       "{1, 2, 5}"
      ]
     },
     "execution_count": 57,
     "metadata": {},
     "output_type": "execute_result"
    }
   ],
   "source": [
    "set1-set2"
   ]
  },
  {
   "cell_type": "code",
   "execution_count": 61,
   "id": "0ee6a25c-e7fc-4b5c-ae25-06fa18b115f2",
   "metadata": {},
   "outputs": [
    {
     "name": "stdout",
     "output_type": "stream",
     "text": [
      "range(0, 4)\n"
     ]
    }
   ],
   "source": [
    "x=range(4)\n",
    "print(x)"
   ]
  },
  {
   "cell_type": "code",
   "execution_count": 63,
   "id": "5b1565bb-003d-4079-9bef-a1fd49239056",
   "metadata": {},
   "outputs": [
    {
     "data": {
      "text/plain": [
       "range"
      ]
     },
     "execution_count": 63,
     "metadata": {},
     "output_type": "execute_result"
    }
   ],
   "source": [
    "type(x)"
   ]
  },
  {
   "cell_type": "code",
   "execution_count": 65,
   "id": "23a454ab-77c0-468d-9aaa-8abf502f724e",
   "metadata": {},
   "outputs": [
    {
     "name": "stdout",
     "output_type": "stream",
     "text": [
      "range(0, 10)\n"
     ]
    },
    {
     "data": {
      "text/plain": [
       "range"
      ]
     },
     "execution_count": 65,
     "metadata": {},
     "output_type": "execute_result"
    }
   ],
   "source": [
    "b=range(10)\n",
    "print(b)\n",
    "type(b)"
   ]
  },
  {
   "cell_type": "code",
   "execution_count": 67,
   "id": "321c803e-1de1-461e-9ceb-8ab42924c9c3",
   "metadata": {},
   "outputs": [
    {
     "name": "stdout",
     "output_type": "stream",
     "text": [
      "b'Hellow  world'\n"
     ]
    }
   ],
   "source": [
    "x=b'Hellow  world'\n",
    "print(x)"
   ]
  },
  {
   "cell_type": "code",
   "execution_count": 69,
   "id": "77fa137f-8ac7-46ed-831d-ee3701141be1",
   "metadata": {},
   "outputs": [
    {
     "data": {
      "text/plain": [
       "bytes"
      ]
     },
     "execution_count": 69,
     "metadata": {},
     "output_type": "execute_result"
    }
   ],
   "source": [
    "type(x)"
   ]
  },
  {
   "cell_type": "code",
   "execution_count": 71,
   "id": "256557aa-d583-4a45-a69a-8699a3406674",
   "metadata": {},
   "outputs": [
    {
     "name": "stdout",
     "output_type": "stream",
     "text": [
      "b'Joel'\n"
     ]
    },
    {
     "data": {
      "text/plain": [
       "bytes"
      ]
     },
     "execution_count": 71,
     "metadata": {},
     "output_type": "execute_result"
    }
   ],
   "source": [
    "name=b'Joel'\n",
    "print(name)\n",
    "type(name)"
   ]
  },
  {
   "cell_type": "code",
   "execution_count": 73,
   "id": "39de612e-51b8-4071-9890-67b361150b50",
   "metadata": {},
   "outputs": [
    {
     "data": {
      "text/plain": [
       "108"
      ]
     },
     "execution_count": 73,
     "metadata": {},
     "output_type": "execute_result"
    }
   ],
   "source": [
    "x[2]"
   ]
  },
  {
   "cell_type": "code",
   "execution_count": 75,
   "id": "4c7a5c3f-daf8-4548-add9-da08e152fd73",
   "metadata": {},
   "outputs": [
    {
     "data": {
      "text/plain": [
       "108"
      ]
     },
     "execution_count": 75,
     "metadata": {},
     "output_type": "execute_result"
    }
   ],
   "source": [
    "x[-2]"
   ]
  },
  {
   "cell_type": "code",
   "execution_count": 81,
   "id": "a756f420-efba-4cfc-b481-7809301df5ca",
   "metadata": {},
   "outputs": [
    {
     "name": "stdout",
     "output_type": "stream",
     "text": [
      "Joel is from Nairobi Kenya\n",
      "['J', 'o', 'e', 'l', ' ', 'i', 's', ' ', 'f', 'r', 'o', 'm', ' ', 'N', 'a', 'i', 'r', 'o', 'b', 'i', ' ', 'K', 'e', 'n', 'y', 'a']\n"
     ]
    },
    {
     "data": {
      "text/plain": [
       "list"
      ]
     },
     "execution_count": 81,
     "metadata": {},
     "output_type": "execute_result"
    }
   ],
   "source": [
    "s='Joel is from Nairobi Kenya'\n",
    "l=list(s)\n",
    "print(s)\n",
    "print(l)\n",
    "type(l)"
   ]
  },
  {
   "cell_type": "code",
   "execution_count": 85,
   "id": "6288925d-1dc8-42ae-ad78-b87222c65703",
   "metadata": {},
   "outputs": [
    {
     "name": "stdout",
     "output_type": "stream",
     "text": [
      "This is the day I have been waiting for. It has finally reached and the celebration is tomorrow\n",
      "['T', 'h', 'i', 's', ' ', 'i', 's', ' ', 't', 'h', 'e', ' ', 'd', 'a', 'y', ' ', 'I', ' ', 'h', 'a', 'v', 'e', ' ', 'b', 'e', 'e', 'n', ' ', 'w', 'a', 'i', 't', 'i', 'n', 'g', ' ', 'f', 'o', 'r', '.', ' ', 'I', 't', ' ', 'h', 'a', 's', ' ', 'f', 'i', 'n', 'a', 'l', 'l', 'y', ' ', 'r', 'e', 'a', 'c', 'h', 'e', 'd', ' ', 'a', 'n', 'd', ' ', 't', 'h', 'e', ' ', 'c', 'e', 'l', 'e', 'b', 'r', 'a', 't', 'i', 'o', 'n', ' ', 'i', 's', ' ', 't', 'o', 'm', 'o', 'r', 'r', 'o', 'w']\n"
     ]
    },
    {
     "data": {
      "text/plain": [
       "list"
      ]
     },
     "execution_count": 85,
     "metadata": {},
     "output_type": "execute_result"
    }
   ],
   "source": [
    "English_sentence='This is the day I have been waiting for. It has finally reached and the celebration is tomorrow'\n",
    "l=list(English_sentence)\n",
    "print(English_sentence)\n",
    "print(l)\n",
    "type(l)"
   ]
  },
  {
   "cell_type": "code",
   "execution_count": 89,
   "id": "f5d7820b-ba44-4d26-9f44-e6a6deb729fb",
   "metadata": {},
   "outputs": [
    {
     "data": {
      "text/plain": [
       "list"
      ]
     },
     "execution_count": 89,
     "metadata": {},
     "output_type": "execute_result"
    }
   ],
   "source": [
    "l1=[1,15,3,6,0,8,4,3,1]\n",
    "type(l1)"
   ]
  },
  {
   "cell_type": "code",
   "execution_count": 91,
   "id": "8337c905-1e82-443c-b5a0-e04b9cd0ddf3",
   "metadata": {},
   "outputs": [
    {
     "name": "stdout",
     "output_type": "stream",
     "text": [
      "{0, 1, 3, 4, 6, 8, 15}\n"
     ]
    },
    {
     "data": {
      "text/plain": [
       "list"
      ]
     },
     "execution_count": 91,
     "metadata": {},
     "output_type": "execute_result"
    }
   ],
   "source": [
    "s=set(l1)\n",
    "print(s)\n",
    "type(l1)"
   ]
  },
  {
   "cell_type": "code",
   "execution_count": 93,
   "id": "7b3a7804-b3ba-4fce-a2e6-89225426333a",
   "metadata": {},
   "outputs": [
    {
     "data": {
      "text/plain": [
       "int"
      ]
     },
     "execution_count": 93,
     "metadata": {},
     "output_type": "execute_result"
    }
   ],
   "source": [
    "num=2\n",
    "type(num)"
   ]
  },
  {
   "cell_type": "code",
   "execution_count": 95,
   "id": "49b2ab44-ccc1-4b5d-b6c0-dc0849708e2e",
   "metadata": {},
   "outputs": [
    {
     "name": "stdout",
     "output_type": "stream",
     "text": [
      "2\n"
     ]
    }
   ],
   "source": [
    "print(num)"
   ]
  },
  {
   "cell_type": "code",
   "execution_count": 97,
   "id": "927c0fd6-d2dd-4349-a7d4-7f1391122c31",
   "metadata": {},
   "outputs": [
    {
     "data": {
      "text/plain": [
       "float"
      ]
     },
     "execution_count": 97,
     "metadata": {},
     "output_type": "execute_result"
    }
   ],
   "source": [
    "type(2.0)"
   ]
  },
  {
   "cell_type": "code",
   "execution_count": 99,
   "id": "e1da6355-1fde-4e65-b241-9f98164bc4f4",
   "metadata": {},
   "outputs": [
    {
     "name": "stdout",
     "output_type": "stream",
     "text": [
      "700\n"
     ]
    }
   ],
   "source": [
    "add=300+400\n",
    "print(add)"
   ]
  },
  {
   "cell_type": "code",
   "execution_count": 101,
   "id": "026bed94-7f6c-45d4-bd95-83d9af46e100",
   "metadata": {},
   "outputs": [
    {
     "name": "stdout",
     "output_type": "stream",
     "text": [
      "1860\n"
     ]
    }
   ],
   "source": [
    "multiply=62*30\n",
    "print(multiply)"
   ]
  },
  {
   "cell_type": "code",
   "execution_count": 105,
   "id": "a9487ed3-4d36-49f0-a4ae-abcad56ffdb9",
   "metadata": {},
   "outputs": [
    {
     "data": {
      "text/plain": [
       "3.141592653589793"
      ]
     },
     "execution_count": 105,
     "metadata": {},
     "output_type": "execute_result"
    }
   ],
   "source": [
    "import math\n",
    "math.pi"
   ]
  },
  {
   "cell_type": "code",
   "execution_count": 107,
   "id": "768d3a93-30c0-4ca7-908c-b75fb37a87ff",
   "metadata": {},
   "outputs": [
    {
     "data": {
      "text/plain": [
       "0.2539237180676006"
      ]
     },
     "execution_count": 107,
     "metadata": {},
     "output_type": "execute_result"
    }
   ],
   "source": [
    "import random\n",
    "random.random()"
   ]
  },
  {
   "cell_type": "code",
   "execution_count": 109,
   "id": "e63e77a7-cfbc-4df4-8216-90940100c7bb",
   "metadata": {},
   "outputs": [
    {
     "name": "stdout",
     "output_type": "stream",
     "text": [
      "India\n"
     ]
    }
   ],
   "source": [
    "A='India'\n",
    "print(A)"
   ]
  },
  {
   "cell_type": "code",
   "execution_count": 111,
   "id": "c0e998bf-c59a-444b-90e6-89c1e81301e6",
   "metadata": {},
   "outputs": [
    {
     "data": {
      "text/plain": [
       "'I'"
      ]
     },
     "execution_count": 111,
     "metadata": {},
     "output_type": "execute_result"
    }
   ],
   "source": [
    "A[0]"
   ]
  },
  {
   "cell_type": "code",
   "execution_count": 115,
   "id": "3ef69246-8907-435d-ad9f-8811eefbb118",
   "metadata": {},
   "outputs": [
    {
     "data": {
      "text/plain": [
       "'a'"
      ]
     },
     "execution_count": 115,
     "metadata": {},
     "output_type": "execute_result"
    }
   ],
   "source": [
    "A[-1]"
   ]
  },
  {
   "cell_type": "code",
   "execution_count": 117,
   "id": "7465bef4-13fd-49ff-ad97-1e2815a6cd95",
   "metadata": {},
   "outputs": [
    {
     "data": {
      "text/plain": [
       "'ndia'"
      ]
     },
     "execution_count": 117,
     "metadata": {},
     "output_type": "execute_result"
    }
   ],
   "source": [
    "A[1:]"
   ]
  },
  {
   "cell_type": "code",
   "execution_count": 121,
   "id": "1a17cb68-428f-49fe-bca1-854104d85dd0",
   "metadata": {},
   "outputs": [
    {
     "name": "stdout",
     "output_type": "stream",
     "text": [
      "IndiaXYZ\n"
     ]
    }
   ],
   "source": [
    "print(A + 'XYZ')"
   ]
  },
  {
   "cell_type": "code",
   "execution_count": 125,
   "id": "3930f3ee-0dec-4330-a71c-ab2fa9a50b4c",
   "metadata": {},
   "outputs": [
    {
     "data": {
      "text/plain": [
       "'IndiaIndiaIndiaIndiaIndiaIndiaIndiaIndiaIndiaIndia'"
      ]
     },
     "execution_count": 125,
     "metadata": {},
     "output_type": "execute_result"
    }
   ],
   "source": [
    "A*10"
   ]
  },
  {
   "cell_type": "code",
   "execution_count": 127,
   "id": "6b87dfd2-2a5a-47d1-bf07-e333a9682091",
   "metadata": {},
   "outputs": [
    {
     "data": {
      "text/plain": [
       "'India'"
      ]
     },
     "execution_count": 127,
     "metadata": {},
     "output_type": "execute_result"
    }
   ],
   "source": [
    "A.replace ('IA','XYZ')"
   ]
  },
  {
   "cell_type": "code",
   "execution_count": 129,
   "id": "275edfe6-1c4e-463b-b374-5080e1593742",
   "metadata": {},
   "outputs": [
    {
     "name": "stdout",
     "output_type": "stream",
     "text": [
      "[101, 'America', '205']\n"
     ]
    }
   ],
   "source": [
    "L1=[101,'America','205']\n",
    "print(L1)"
   ]
  },
  {
   "cell_type": "code",
   "execution_count": 131,
   "id": "987fdc23-cdc3-49e9-8e9c-f8ef8b9e8d30",
   "metadata": {},
   "outputs": [
    {
     "data": {
      "text/plain": [
       "3"
      ]
     },
     "execution_count": 131,
     "metadata": {},
     "output_type": "execute_result"
    }
   ],
   "source": [
    "len(L1)"
   ]
  },
  {
   "cell_type": "code",
   "execution_count": 133,
   "id": "2739b15c-4de7-4056-9709-670d7a13a2d2",
   "metadata": {},
   "outputs": [
    {
     "data": {
      "text/plain": [
       "'America'"
      ]
     },
     "execution_count": 133,
     "metadata": {},
     "output_type": "execute_result"
    }
   ],
   "source": [
    "L1[1]"
   ]
  },
  {
   "cell_type": "code",
   "execution_count": 135,
   "id": "5c1688d3-2109-4148-90b4-97e776aff068",
   "metadata": {},
   "outputs": [
    {
     "data": {
      "text/plain": [
       "101"
      ]
     },
     "execution_count": 135,
     "metadata": {},
     "output_type": "execute_result"
    }
   ],
   "source": [
    "L1[0]"
   ]
  },
  {
   "cell_type": "code",
   "execution_count": 139,
   "id": "006e4a7a-df44-43bc-8379-13ecb459f4a4",
   "metadata": {},
   "outputs": [
    {
     "data": {
      "text/plain": [
       "'205'"
      ]
     },
     "execution_count": 139,
     "metadata": {},
     "output_type": "execute_result"
    }
   ],
   "source": [
    "L1[2]"
   ]
  },
  {
   "cell_type": "code",
   "execution_count": 141,
   "id": "bc1b8096-a058-4eee-8cc5-fa1ae8d8b64c",
   "metadata": {},
   "outputs": [
    {
     "data": {
      "text/plain": [
       "[101, 'America']"
      ]
     },
     "execution_count": 141,
     "metadata": {},
     "output_type": "execute_result"
    }
   ],
   "source": [
    "L1[:-1]"
   ]
  },
  {
   "cell_type": "code",
   "execution_count": 143,
   "id": "564ec40b-dd28-4124-951d-81c0fdf583c1",
   "metadata": {},
   "outputs": [
    {
     "data": {
      "text/plain": [
       "[101]"
      ]
     },
     "execution_count": 143,
     "metadata": {},
     "output_type": "execute_result"
    }
   ],
   "source": [
    "L1[:1]"
   ]
  },
  {
   "cell_type": "code",
   "execution_count": 145,
   "id": "619cf15b-8196-4d6f-b027-3284b33c2988",
   "metadata": {},
   "outputs": [
    {
     "name": "stdout",
     "output_type": "stream",
     "text": [
      "[101, 'America', '205', 'USA']\n"
     ]
    }
   ],
   "source": [
    "L1.append ('USA')\n",
    "print(L1)"
   ]
  },
  {
   "cell_type": "code",
   "execution_count": 155,
   "id": "a7295b96-9f6e-4eef-9820-67c6fe9d5aef",
   "metadata": {},
   "outputs": [
    {
     "name": "stdout",
     "output_type": "stream",
     "text": [
      "[101, 'America', '205', 'USA', 'Afrca', 'Africa']\n"
     ]
    }
   ],
   "source": [
    "L1.append ('Africa')\n",
    "print(L1)"
   ]
  },
  {
   "cell_type": "code",
   "execution_count": 161,
   "id": "34de272e-d7e3-4bc6-a0fe-4c678f7fa702",
   "metadata": {},
   "outputs": [
    {
     "name": "stdout",
     "output_type": "stream",
     "text": [
      "['Africa', 'Afrca', 'USA', '205', 'America', 101]\n"
     ]
    }
   ],
   "source": [
    "L1.reverse()\n",
    "print(L1)"
   ]
  },
  {
   "cell_type": "code",
   "execution_count": 163,
   "id": "4868d585-cde7-4cfc-baa5-e406b9a8b6e1",
   "metadata": {},
   "outputs": [
    {
     "name": "stdout",
     "output_type": "stream",
     "text": [
      "{1: 'Tiger', 2: 'Lion', 3: 'Mouse'}\n"
     ]
    }
   ],
   "source": [
    "dict1={1:'Tiger',2:'Lion',3:'Mouse'}\n",
    "print(dict1)"
   ]
  },
  {
   "cell_type": "code",
   "execution_count": 167,
   "id": "a17a44b8-7404-41d4-8270-81b644b746f1",
   "metadata": {},
   "outputs": [
    {
     "data": {
      "text/plain": [
       "dict_values(['Tiger', 'Lion', 'Mouse'])"
      ]
     },
     "execution_count": 167,
     "metadata": {},
     "output_type": "execute_result"
    }
   ],
   "source": [
    "dict1.values()"
   ]
  },
  {
   "cell_type": "code",
   "execution_count": 169,
   "id": "f3971e09-fa14-4b44-b138-a5a6b434ba09",
   "metadata": {},
   "outputs": [
    {
     "name": "stdout",
     "output_type": "stream",
     "text": [
      "{1: 'Tiger', 2: 'Lion', 3: 'Mouse', 4: 'cat'}\n"
     ]
    }
   ],
   "source": [
    "dict1[4]='cat'\n",
    "print(dict1)"
   ]
  },
  {
   "cell_type": "code",
   "execution_count": 171,
   "id": "937cbdbe-d9e4-466a-a7e5-8a6641257193",
   "metadata": {},
   "outputs": [
    {
     "name": "stdout",
     "output_type": "stream",
     "text": [
      "{1: 'Tiger', 2: 'Lion', 3: 'Mouse', 4: 'cat', 5: 'Sheep'}\n"
     ]
    }
   ],
   "source": [
    "dict1[5]='Sheep'\n",
    "print(dict1)"
   ]
  },
  {
   "cell_type": "code",
   "execution_count": 175,
   "id": "a89dfd10-ee65-4015-93de-907cd2a0e127",
   "metadata": {},
   "outputs": [
    {
     "data": {
      "text/plain": [
       "4"
      ]
     },
     "execution_count": 175,
     "metadata": {},
     "output_type": "execute_result"
    }
   ],
   "source": [
    "T1=(1,2,3,4)\n",
    "len(T1)"
   ]
  },
  {
   "cell_type": "code",
   "execution_count": 177,
   "id": "02b1aaa5-0be6-45a1-ad2c-621f5236e9c8",
   "metadata": {},
   "outputs": [],
   "source": [
    "T2=T1 + (7,9)"
   ]
  },
  {
   "cell_type": "code",
   "execution_count": 179,
   "id": "fc5a00af-ce35-46e9-bf95-d4fc298269ef",
   "metadata": {},
   "outputs": [
    {
     "name": "stdout",
     "output_type": "stream",
     "text": [
      "(1, 2, 3, 4, 7, 9)\n"
     ]
    }
   ],
   "source": [
    "print(T2)"
   ]
  },
  {
   "cell_type": "code",
   "execution_count": 181,
   "id": "521ac9db-f1f9-46e2-ab57-2b2af523152d",
   "metadata": {},
   "outputs": [
    {
     "data": {
      "text/plain": [
       "4"
      ]
     },
     "execution_count": 181,
     "metadata": {},
     "output_type": "execute_result"
    }
   ],
   "source": [
    "T2[3]"
   ]
  },
  {
   "cell_type": "code",
   "execution_count": null,
   "id": "edb2ed84-2665-417c-b43d-44caad4cd8d8",
   "metadata": {},
   "outputs": [],
   "source": []
  }
 ],
 "metadata": {
  "kernelspec": {
   "display_name": "Python 3 (ipykernel)",
   "language": "python",
   "name": "python3"
  },
  "language_info": {
   "codemirror_mode": {
    "name": "ipython",
    "version": 3
   },
   "file_extension": ".py",
   "mimetype": "text/x-python",
   "name": "python",
   "nbconvert_exporter": "python",
   "pygments_lexer": "ipython3",
   "version": "3.11.7"
  }
 },
 "nbformat": 4,
 "nbformat_minor": 5
}
