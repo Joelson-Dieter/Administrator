{
 "cells": [
  {
   "cell_type": "code",
   "execution_count": 1,
   "id": "af4f12db-55e2-4956-a4f7-170dd681d903",
   "metadata": {},
   "outputs": [],
   "source": [
    "import requests\n",
    "from bs4 import BeautifulSoup\n",
    "import pandas as pd"
   ]
  },
  {
   "cell_type": "code",
   "execution_count": 2,
   "id": "254f980e-a987-4f08-8ecf-51974990b3a4",
   "metadata": {},
   "outputs": [
    {
     "name": "stdout",
     "output_type": "stream",
     "text": [
      "<Response [200]>\n"
     ]
    }
   ],
   "source": [
    "url = 'https://www.flipkart.com/search?q=books+for+kids&as=on&as-show=on&otracker=AS_Query_OrganicAutoSuggest_4_5_na_na_na&otracker1=AS_Query_OrganicAutoSuggest_4_5_na_na_na&as-pos=4&as-type=RECENT&suggestionId=books+for+kids&requestId=6f762067-3d5e-4503-9a39-bbe7fea042cd&as-searchtext=books+for+kids&page=1'\n",
    "response = requests.get (url)\n",
    "print(response)"
   ]
  },
  {
   "cell_type": "code",
   "execution_count": 3,
   "id": "186e02af-0e17-43c4-8a48-fbbdbf6d7f0d",
   "metadata": {},
   "outputs": [
    {
     "name": "stdout",
     "output_type": "stream",
     "text": [
      "https://www.flipkart.com/search?q=books+for+kids&as=on&as-show=on&otracker=AS_Query_OrganicAutoSuggest_4_5_na_na_na&otracker1=AS_Query_OrganicAutoSuggest_4_5_na_na_na&as-pos=4&as-type=RECENT&suggestionId=books+for+kids&requestId=6f762067-3d5e-4503-9a39-bbe7fea042cd&as-searchtext=books+for+kids&page=2\n",
      "https://www.flipkart.com/search?q=books+for+kids&as=on&as-show=on&otracker=AS_Query_OrganicAutoSuggest_4_5_na_na_na&otracker1=AS_Query_OrganicAutoSuggest_4_5_na_na_na&as-pos=4&as-type=RECENT&suggestionId=books+for+kids&requestId=6f762067-3d5e-4503-9a39-bbe7fea042cd&as-searchtext=books+for+kids&page=1\n",
      "https://www.flipkart.com/search?q=books+for+kids&as=on&as-show=on&otracker=AS_Query_OrganicAutoSuggest_4_5_na_na_na&otracker1=AS_Query_OrganicAutoSuggest_4_5_na_na_na&as-pos=4&as-type=RECENT&suggestionId=books+for+kids&requestId=6f762067-3d5e-4503-9a39-bbe7fea042cd&as-searchtext=books+for+kids&page=2\n",
      "https://www.flipkart.com/search?q=books+for+kids&as=on&as-show=on&otracker=AS_Query_OrganicAutoSuggest_4_5_na_na_na&otracker1=AS_Query_OrganicAutoSuggest_4_5_na_na_na&as-pos=4&as-type=RECENT&suggestionId=books+for+kids&requestId=6f762067-3d5e-4503-9a39-bbe7fea042cd&as-searchtext=books+for+kids&page=1\n",
      "https://www.flipkart.com/search?q=books+for+kids&as=on&as-show=on&otracker=AS_Query_OrganicAutoSuggest_4_5_na_na_na&otracker1=AS_Query_OrganicAutoSuggest_4_5_na_na_na&as-pos=4&as-type=RECENT&suggestionId=books+for+kids&requestId=6f762067-3d5e-4503-9a39-bbe7fea042cd&as-searchtext=books+for+kids&page=2\n",
      "https://www.flipkart.com/search?q=books+for+kids&as=on&as-show=on&otracker=AS_Query_OrganicAutoSuggest_4_5_na_na_na&otracker1=AS_Query_OrganicAutoSuggest_4_5_na_na_na&as-pos=4&as-type=RECENT&suggestionId=books+for+kids&requestId=6f762067-3d5e-4503-9a39-bbe7fea042cd&as-searchtext=books+for+kids&page=1\n",
      "https://www.flipkart.com/search?q=books+for+kids&as=on&as-show=on&otracker=AS_Query_OrganicAutoSuggest_4_5_na_na_na&otracker1=AS_Query_OrganicAutoSuggest_4_5_na_na_na&as-pos=4&as-type=RECENT&suggestionId=books+for+kids&requestId=6f762067-3d5e-4503-9a39-bbe7fea042cd&as-searchtext=books+for+kids&page=2\n"
     ]
    },
    {
     "ename": "AttributeError",
     "evalue": "'NoneType' object has no attribute 'get'",
     "output_type": "error",
     "traceback": [
      "\u001b[1;31m---------------------------------------------------------------------------\u001b[0m",
      "\u001b[1;31mAttributeError\u001b[0m                            Traceback (most recent call last)",
      "Cell \u001b[1;32mIn[3], line 3\u001b[0m\n\u001b[0;32m      1\u001b[0m soup \u001b[38;5;241m=\u001b[39m BeautifulSoup (response\u001b[38;5;241m.\u001b[39mtext,\u001b[38;5;124m'\u001b[39m\u001b[38;5;124mlxml\u001b[39m\u001b[38;5;124m'\u001b[39m)\n\u001b[0;32m      2\u001b[0m \u001b[38;5;28;01mwhile\u001b[39;00m \u001b[38;5;28;01mTrue\u001b[39;00m:\n\u001b[1;32m----> 3\u001b[0m   np \u001b[38;5;241m=\u001b[39m soup\u001b[38;5;241m.\u001b[39mfind (\u001b[38;5;124m'\u001b[39m\u001b[38;5;124ma\u001b[39m\u001b[38;5;124m'\u001b[39m,class_\u001b[38;5;241m=\u001b[39m\u001b[38;5;124m'\u001b[39m\u001b[38;5;124m_9QVEpD\u001b[39m\u001b[38;5;124m'\u001b[39m)\u001b[38;5;241m.\u001b[39mget(\u001b[38;5;124m'\u001b[39m\u001b[38;5;124mhref\u001b[39m\u001b[38;5;124m'\u001b[39m)\n\u001b[0;32m      4\u001b[0m   cnp \u001b[38;5;241m=\u001b[39m \u001b[38;5;124m'\u001b[39m\u001b[38;5;124mhttps://www.flipkart.com\u001b[39m\u001b[38;5;124m'\u001b[39m\u001b[38;5;241m+\u001b[39m np\n\u001b[0;32m      5\u001b[0m   \u001b[38;5;28mprint\u001b[39m(cnp)\n",
      "\u001b[1;31mAttributeError\u001b[0m: 'NoneType' object has no attribute 'get'"
     ]
    }
   ],
   "source": [
    "soup = BeautifulSoup (response.text,'lxml')\n",
    "while True:\n",
    "  np = soup.find ('a',class_='_9QVEpD').get('href')\n",
    "  cnp = 'https://www.flipkart.com'+ np\n",
    "  print(cnp)\n",
    "  \n",
    "  url = cnp\n",
    "  response = requests.get (url)\n",
    "  soup = BeautifulSoup (response.text,'lxml')  \n",
    "  "
   ]
  },
  {
   "cell_type": "code",
   "execution_count": null,
   "id": "bd0cfd53-c57c-43ae-8c17-b41949dba65f",
   "metadata": {},
   "outputs": [],
   "source": []
  },
  {
   "cell_type": "code",
   "execution_count": null,
   "id": "822d063b-167a-4b07-a380-cf5255d17583",
   "metadata": {},
   "outputs": [],
   "source": []
  },
  {
   "cell_type": "code",
   "execution_count": null,
   "id": "63d1f772-80e6-4d5c-8df2-851e071f37dc",
   "metadata": {},
   "outputs": [],
   "source": []
  }
 ],
 "metadata": {
  "kernelspec": {
   "display_name": "Python 3 (ipykernel)",
   "language": "python",
   "name": "python3"
  },
  "language_info": {
   "codemirror_mode": {
    "name": "ipython",
    "version": 3
   },
   "file_extension": ".py",
   "mimetype": "text/x-python",
   "name": "python",
   "nbconvert_exporter": "python",
   "pygments_lexer": "ipython3",
   "version": "3.11.7"
  }
 },
 "nbformat": 4,
 "nbformat_minor": 5
}
