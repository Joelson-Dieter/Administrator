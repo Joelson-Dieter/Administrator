{
 "cells": [
  {
   "cell_type": "code",
   "execution_count": 6,
   "id": "1f20db84-1bf4-4e5e-a725-431c144d1632",
   "metadata": {},
   "outputs": [],
   "source": [
    "import requests\n",
    "from bs4 import BeautifulSoup\n",
    "import pandas as pd"
   ]
  },
  {
   "cell_type": "code",
   "execution_count": 8,
   "id": "acf3db67-a40b-46e1-b53d-419a3d744df2",
   "metadata": {},
   "outputs": [
    {
     "name": "stdout",
     "output_type": "stream",
     "text": [
      "<Response [200]>\n"
     ]
    }
   ],
   "source": [
    "url = 'https://www.vezeeta.co.ke/en/doctor/all-specialities/nairobi'\n",
    "response = requests.get (url)\n",
    "print(response)"
   ]
  },
  {
   "cell_type": "code",
   "execution_count": 10,
   "id": "b74cce86-558f-48bc-be2d-475138b47428",
   "metadata": {},
   "outputs": [
    {
     "name": "stdout",
     "output_type": "stream",
     "text": [
      "<!DOCTYPE html>\n",
      "<html lang=\"en-KE\">\n",
      " <head>\n",
      "  <script>\n",
      "   (function (w, d, s, l, i) {\n",
      "          w[l] = w[l] || []; w[l].push({ 'gtm.start': new Date().getTime(), event: 'gtm.js' });\n",
      "          var f = d.getElementsByTagName(s)[0], j = d.createElement(s), dl = l != 'dataLayer' ? '&l=' + l : '';\n",
      "          j.async = true; j.src = 'https://www.googletagmanager.com/gtm.js?id=' + i + dl; f.parentNode.insertBefore(j, f);\n",
      "          })(window, document, 'script', 'dataLayer', 'GTM-KK64NWK');\n",
      "  </script>\n",
      " \n"
     ]
    }
   ],
   "source": [
    "soup = BeautifulSoup (response.text,'lxml')\n",
    "print(soup.prettify()[:500])"
   ]
  },
  {
   "cell_type": "code",
   "execution_count": 32,
   "id": "f8bdff23-c82b-4ac0-aa2a-ab01f948025c",
   "metadata": {},
   "outputs": [
    {
     "name": "stdout",
     "output_type": "stream",
     "text": [
      "['Michael Odwory', 'Mary Gikunda', 'Mahmood Islam', 'John Nyamu', 'Joseph Kiara', 'Alex Murimi', 'Gichinah Mukuria', 'Simon Muiruri', 'David Chewe', 'Philip Mwangemi']\n"
     ]
    }
   ],
   "source": [
    "names = soup.find_all ('span',class_=\"DoctorCardSubComponentsstyle__Text-sc-1vq3h7c-14 DoctorCardSubComponentsstyle__DoctorNameText-sc-1vq3h7c-15 fuBVZG Wpycp\")\n",
    "names_list = []\n",
    "for i in names:\n",
    "  name = i.text\n",
    "  names_list.append (name)\n",
    "  \n",
    "print(names_list)"
   ]
  },
  {
   "cell_type": "code",
   "execution_count": 24,
   "id": "3add15a0-432f-406f-a134-a337dc7e7110",
   "metadata": {},
   "outputs": [
    {
     "name": "stdout",
     "output_type": "stream",
     "text": [
      "10\n"
     ]
    }
   ],
   "source": [
    "print(len(names))"
   ]
  },
  {
   "cell_type": "code",
   "execution_count": 30,
   "id": "93cdc241-8804-4603-a797-fca5709085f2",
   "metadata": {},
   "outputs": [
    {
     "name": "stdout",
     "output_type": "stream",
     "text": [
      "['Consultant Obstetrician/Gynecologist, Laparoscopic surgeon and Fertility Specialist', 'BDS; MDS Proshodontics (UoN)', 'BDS(Nizhny Novgorod)2010', 'MBChB;MMED (UoN) in Gynaecology & Obstetrics', 'MBChB (Nairobi) 1988', 'General practitioner, MBChB (UoN)', 'MBChB,MMed(Paeds)(Nbi) /MSc Derma (London) FAM (New Delhi). Consultant Dermatologist /Aesthetics & Paediatrics', 'MBChB(Nairobi), MPH(KU); Physician and Occupational Health Doctor', 'Consultant Obstetrician and Gynaecologist', 'MBChB(UoN);MMed(UoN)  in Internal Medicine']\n"
     ]
    }
   ],
   "source": [
    "works = soup.find_all ('span',class_='DoctorCardSubComponentsstyle__Text-sc-1vq3h7c-14 DoctorCardSubComponentsstyle__DescText-sc-1vq3h7c-17 fuBVZG esZVig')\n",
    "work_description = []\n",
    "for i in works:\n",
    "  work = i.text\n",
    "  work_description.append (work)\n",
    "\n",
    "print(work_description)\n",
    "  \n",
    "  "
   ]
  },
  {
   "cell_type": "code",
   "execution_count": 26,
   "id": "828cb4b1-71dc-44e8-807b-3f731a06d016",
   "metadata": {},
   "outputs": [
    {
     "name": "stdout",
     "output_type": "stream",
     "text": [
      "10\n"
     ]
    }
   ],
   "source": [
    "print(len(work_description))"
   ]
  },
  {
   "cell_type": "code",
   "execution_count": 38,
   "id": "75d75637-ebe3-490c-b79b-1f0637eca373",
   "metadata": {},
   "outputs": [
    {
     "data": {
      "text/html": [
       "<div>\n",
       "<style scoped>\n",
       "    .dataframe tbody tr th:only-of-type {\n",
       "        vertical-align: middle;\n",
       "    }\n",
       "\n",
       "    .dataframe tbody tr th {\n",
       "        vertical-align: top;\n",
       "    }\n",
       "\n",
       "    .dataframe thead th {\n",
       "        text-align: right;\n",
       "    }\n",
       "</style>\n",
       "<table border=\"1\" class=\"dataframe\">\n",
       "  <thead>\n",
       "    <tr style=\"text-align: right;\">\n",
       "      <th></th>\n",
       "      <th>Doctor name</th>\n",
       "      <th>Type of Doctor</th>\n",
       "    </tr>\n",
       "  </thead>\n",
       "  <tbody>\n",
       "    <tr>\n",
       "      <th>0</th>\n",
       "      <td>Michael Odwory</td>\n",
       "      <td>Consultant Obstetrician/Gynecologist, Laparosc...</td>\n",
       "    </tr>\n",
       "    <tr>\n",
       "      <th>1</th>\n",
       "      <td>Mary Gikunda</td>\n",
       "      <td>BDS; MDS Proshodontics (UoN)</td>\n",
       "    </tr>\n",
       "    <tr>\n",
       "      <th>2</th>\n",
       "      <td>Mahmood Islam</td>\n",
       "      <td>BDS(Nizhny Novgorod)2010</td>\n",
       "    </tr>\n",
       "    <tr>\n",
       "      <th>3</th>\n",
       "      <td>John Nyamu</td>\n",
       "      <td>MBChB;MMED (UoN) in Gynaecology &amp; Obstetrics</td>\n",
       "    </tr>\n",
       "    <tr>\n",
       "      <th>4</th>\n",
       "      <td>Joseph Kiara</td>\n",
       "      <td>MBChB (Nairobi) 1988</td>\n",
       "    </tr>\n",
       "    <tr>\n",
       "      <th>5</th>\n",
       "      <td>Alex Murimi</td>\n",
       "      <td>General practitioner, MBChB (UoN)</td>\n",
       "    </tr>\n",
       "    <tr>\n",
       "      <th>6</th>\n",
       "      <td>Gichinah Mukuria</td>\n",
       "      <td>MBChB,MMed(Paeds)(Nbi) /MSc Derma (London) FAM...</td>\n",
       "    </tr>\n",
       "    <tr>\n",
       "      <th>7</th>\n",
       "      <td>Simon Muiruri</td>\n",
       "      <td>MBChB(Nairobi), MPH(KU); Physician and Occupat...</td>\n",
       "    </tr>\n",
       "    <tr>\n",
       "      <th>8</th>\n",
       "      <td>David Chewe</td>\n",
       "      <td>Consultant Obstetrician and Gynaecologist</td>\n",
       "    </tr>\n",
       "    <tr>\n",
       "      <th>9</th>\n",
       "      <td>Philip Mwangemi</td>\n",
       "      <td>MBChB(UoN);MMed(UoN)  in Internal Medicine</td>\n",
       "    </tr>\n",
       "  </tbody>\n",
       "</table>\n",
       "</div>"
      ],
      "text/plain": [
       "        Doctor name                                     Type of Doctor\n",
       "0    Michael Odwory  Consultant Obstetrician/Gynecologist, Laparosc...\n",
       "1      Mary Gikunda                       BDS; MDS Proshodontics (UoN)\n",
       "2     Mahmood Islam                           BDS(Nizhny Novgorod)2010\n",
       "3        John Nyamu       MBChB;MMED (UoN) in Gynaecology & Obstetrics\n",
       "4      Joseph Kiara                               MBChB (Nairobi) 1988\n",
       "5       Alex Murimi                  General practitioner, MBChB (UoN)\n",
       "6  Gichinah Mukuria  MBChB,MMed(Paeds)(Nbi) /MSc Derma (London) FAM...\n",
       "7     Simon Muiruri  MBChB(Nairobi), MPH(KU); Physician and Occupat...\n",
       "8       David Chewe          Consultant Obstetrician and Gynaecologist\n",
       "9   Philip Mwangemi         MBChB(UoN);MMed(UoN)  in Internal Medicine"
      ]
     },
     "execution_count": 38,
     "metadata": {},
     "output_type": "execute_result"
    }
   ],
   "source": [
    "df = pd.DataFrame ({'Doctor name':names_list,'Type of Doctor':work_description})\n",
    "df"
   ]
  },
  {
   "cell_type": "code",
   "execution_count": 42,
   "id": "be222083-ba59-4f19-a6f2-2c3fa066da1f",
   "metadata": {},
   "outputs": [],
   "source": [
    "df.to_csv (r\"C:\\Users\\Administrator\\OneDrive\\Documents\\WebscrapingFiles\\Doctor's description.csv\",index = False)"
   ]
  },
  {
   "cell_type": "code",
   "execution_count": null,
   "id": "36105ea3-104f-49ab-940c-9925514f7d87",
   "metadata": {},
   "outputs": [],
   "source": []
  }
 ],
 "metadata": {
  "kernelspec": {
   "display_name": "Python 3 (ipykernel)",
   "language": "python",
   "name": "python3"
  },
  "language_info": {
   "codemirror_mode": {
    "name": "ipython",
    "version": 3
   },
   "file_extension": ".py",
   "mimetype": "text/x-python",
   "name": "python",
   "nbconvert_exporter": "python",
   "pygments_lexer": "ipython3",
   "version": "3.11.7"
  }
 },
 "nbformat": 4,
 "nbformat_minor": 5
}
