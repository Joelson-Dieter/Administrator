{
 "cells": [
  {
   "cell_type": "code",
   "execution_count": 15,
   "id": "5361aaf4-9a64-4146-b296-140fd5955056",
   "metadata": {},
   "outputs": [],
   "source": [
    "import pandas as pd\n",
    "import numpy as np"
   ]
  },
  {
   "cell_type": "code",
   "execution_count": 17,
   "id": "3df9c29a-e912-4228-ab75-7021c4f267a9",
   "metadata": {},
   "outputs": [],
   "source": [
    "col1 = [1,2,3]\n",
    "col2 = [4,5]\n",
    "col3 = [6,7,8,9]"
   ]
  },
  {
   "cell_type": "code",
   "execution_count": 19,
   "id": "6cef4b9e-8368-4565-b970-d7d839cd85cd",
   "metadata": {},
   "outputs": [],
   "source": [
    "max_len = max(len(col1),len(col2),len(col3))\n",
    "col1 += [np.nan] * (max_len - len(col1))\n",
    "col2 += [np.nan] * (max_len - len(col2)) \n",
    "col3 += [np.nan] * (max_len - len(col3))"
   ]
  },
  {
   "cell_type": "code",
   "execution_count": 23,
   "id": "32931ad9-21a3-4896-9832-4c1c00977869",
   "metadata": {},
   "outputs": [
    {
     "data": {
      "text/html": [
       "<div>\n",
       "<style scoped>\n",
       "    .dataframe tbody tr th:only-of-type {\n",
       "        vertical-align: middle;\n",
       "    }\n",
       "\n",
       "    .dataframe tbody tr th {\n",
       "        vertical-align: top;\n",
       "    }\n",
       "\n",
       "    .dataframe thead th {\n",
       "        text-align: right;\n",
       "    }\n",
       "</style>\n",
       "<table border=\"1\" class=\"dataframe\">\n",
       "  <thead>\n",
       "    <tr style=\"text-align: right;\">\n",
       "      <th></th>\n",
       "      <th>Column1</th>\n",
       "      <th>Column2</th>\n",
       "      <th>Column3</th>\n",
       "    </tr>\n",
       "  </thead>\n",
       "  <tbody>\n",
       "    <tr>\n",
       "      <th>0</th>\n",
       "      <td>1.0</td>\n",
       "      <td>4.0</td>\n",
       "      <td>6</td>\n",
       "    </tr>\n",
       "    <tr>\n",
       "      <th>1</th>\n",
       "      <td>2.0</td>\n",
       "      <td>5.0</td>\n",
       "      <td>7</td>\n",
       "    </tr>\n",
       "    <tr>\n",
       "      <th>2</th>\n",
       "      <td>3.0</td>\n",
       "      <td>NaN</td>\n",
       "      <td>8</td>\n",
       "    </tr>\n",
       "    <tr>\n",
       "      <th>3</th>\n",
       "      <td>NaN</td>\n",
       "      <td>NaN</td>\n",
       "      <td>9</td>\n",
       "    </tr>\n",
       "  </tbody>\n",
       "</table>\n",
       "</div>"
      ],
      "text/plain": [
       "   Column1  Column2  Column3\n",
       "0      1.0      4.0        6\n",
       "1      2.0      5.0        7\n",
       "2      3.0      NaN        8\n",
       "3      NaN      NaN        9"
      ]
     },
     "execution_count": 23,
     "metadata": {},
     "output_type": "execute_result"
    }
   ],
   "source": [
    "df = pd.DataFrame ({'Column1':col1,'Column2':col2,'Column3':col3})\n",
    "df"
   ]
  },
  {
   "cell_type": "code",
   "execution_count": 25,
   "id": "12c4bdbd-ad0a-4422-93ee-e52e0a0819e7",
   "metadata": {},
   "outputs": [],
   "source": [
    "names = ['Jmaes','Joseph','Michelle','Joram','Joel','Mark','Rose']\n",
    "age = [34,45,60,67,45]\n",
    "salary = [34000,4500,67000,3000]"
   ]
  },
  {
   "cell_type": "code",
   "execution_count": 29,
   "id": "b8e36bf9-fccd-43e7-9815-9a1fd2491e97",
   "metadata": {},
   "outputs": [],
   "source": [
    "max_len = max (len(names),len(age),len(salary))\n",
    "names += [np.nan] * (max_len - len(names))\n",
    "age += [np.nan] * (max_len - len(age))\n",
    "salary += [np.nan] * (max_len - len(salary))\n"
   ]
  },
  {
   "cell_type": "code",
   "execution_count": 40,
   "id": "eaa58e6b-234b-4070-baa6-ba71461886d8",
   "metadata": {},
   "outputs": [
    {
     "data": {
      "text/html": [
       "<div>\n",
       "<style scoped>\n",
       "    .dataframe tbody tr th:only-of-type {\n",
       "        vertical-align: middle;\n",
       "    }\n",
       "\n",
       "    .dataframe tbody tr th {\n",
       "        vertical-align: top;\n",
       "    }\n",
       "\n",
       "    .dataframe thead th {\n",
       "        text-align: right;\n",
       "    }\n",
       "</style>\n",
       "<table border=\"1\" class=\"dataframe\">\n",
       "  <thead>\n",
       "    <tr style=\"text-align: right;\">\n",
       "      <th></th>\n",
       "      <th>Emplyees</th>\n",
       "      <th>Ages</th>\n",
       "      <th>Salary</th>\n",
       "    </tr>\n",
       "  </thead>\n",
       "  <tbody>\n",
       "    <tr>\n",
       "      <th>0</th>\n",
       "      <td>Jmaes</td>\n",
       "      <td>34.0</td>\n",
       "      <td>34000.0</td>\n",
       "    </tr>\n",
       "    <tr>\n",
       "      <th>1</th>\n",
       "      <td>Joseph</td>\n",
       "      <td>45.0</td>\n",
       "      <td>4500.0</td>\n",
       "    </tr>\n",
       "    <tr>\n",
       "      <th>2</th>\n",
       "      <td>Michelle</td>\n",
       "      <td>60.0</td>\n",
       "      <td>67000.0</td>\n",
       "    </tr>\n",
       "    <tr>\n",
       "      <th>3</th>\n",
       "      <td>Joram</td>\n",
       "      <td>67.0</td>\n",
       "      <td>3000.0</td>\n",
       "    </tr>\n",
       "    <tr>\n",
       "      <th>4</th>\n",
       "      <td>Joel</td>\n",
       "      <td>45.0</td>\n",
       "      <td>NaN</td>\n",
       "    </tr>\n",
       "    <tr>\n",
       "      <th>5</th>\n",
       "      <td>Mark</td>\n",
       "      <td>NaN</td>\n",
       "      <td>NaN</td>\n",
       "    </tr>\n",
       "    <tr>\n",
       "      <th>6</th>\n",
       "      <td>Rose</td>\n",
       "      <td>NaN</td>\n",
       "      <td>NaN</td>\n",
       "    </tr>\n",
       "  </tbody>\n",
       "</table>\n",
       "</div>"
      ],
      "text/plain": [
       "   Emplyees  Ages   Salary\n",
       "0     Jmaes  34.0  34000.0\n",
       "1    Joseph  45.0   4500.0\n",
       "2  Michelle  60.0  67000.0\n",
       "3     Joram  67.0   3000.0\n",
       "4      Joel  45.0      NaN\n",
       "5      Mark   NaN      NaN\n",
       "6      Rose   NaN      NaN"
      ]
     },
     "execution_count": 40,
     "metadata": {},
     "output_type": "execute_result"
    }
   ],
   "source": [
    "df = pd.DataFrame ({'Emplyees': names,\n",
    "                    'Ages': age,\n",
    "                    'Salary': salary\n",
    "                   })\n",
    "df\n"
   ]
  },
  {
   "cell_type": "code",
   "execution_count": null,
   "id": "da40b770-28ff-4b97-9ed7-2dd7e9cc5b3e",
   "metadata": {},
   "outputs": [],
   "source": []
  },
  {
   "cell_type": "code",
   "execution_count": null,
   "id": "d4418ed4-aa27-4602-b396-b16530057839",
   "metadata": {},
   "outputs": [],
   "source": []
  }
 ],
 "metadata": {
  "kernelspec": {
   "display_name": "Python 3 (ipykernel)",
   "language": "python",
   "name": "python3"
  },
  "language_info": {
   "codemirror_mode": {
    "name": "ipython",
    "version": 3
   },
   "file_extension": ".py",
   "mimetype": "text/x-python",
   "name": "python",
   "nbconvert_exporter": "python",
   "pygments_lexer": "ipython3",
   "version": "3.11.7"
  }
 },
 "nbformat": 4,
 "nbformat_minor": 5
}
