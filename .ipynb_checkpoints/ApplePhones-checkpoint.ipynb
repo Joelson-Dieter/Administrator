{
 "cells": [
  {
   "cell_type": "code",
   "execution_count": 13,
   "id": "214d7547-15ea-4315-9a84-3f5463884d8e",
   "metadata": {},
   "outputs": [],
   "source": [
    "import requests\n",
    "from bs4 import BeautifulSoup\n",
    "import pandas as pd\n",
    "titles_list = []\n",
    "descs_list = []\n",
    "rattings_and_reviews_list = []\n",
    "discounts_list = []\n",
    "prices_list = []"
   ]
  },
  {
   "cell_type": "code",
   "execution_count": 21,
   "id": "ba41beeb-bde0-40ea-a40f-b2abc34f7e2a",
   "metadata": {},
   "outputs": [
    {
     "name": "stderr",
     "output_type": "stream",
     "text": [
      "IOPub data rate exceeded.\n",
      "The Jupyter server will temporarily stop sending output\n",
      "to the client in order to avoid crashing it.\n",
      "To change this limit, set the config variable\n",
      "`--ServerApp.iopub_data_rate_limit`.\n",
      "\n",
      "Current values:\n",
      "ServerApp.iopub_data_rate_limit=1000000.0 (bytes/sec)\n",
      "ServerApp.rate_limit_window=3.0 (secs)\n",
      "\n"
     ]
    }
   ],
   "source": [
    "for i in range (1,200):\n",
    "  url = 'https://www.flipkart.com/search?q=apple+phones&otracker=search&otracker1=search&marketplace=FLIPKART&as-show=off&as=off&page'+ str (i)\n",
    "  response = requests.get (url)\n",
    "  \n",
    "  soup = BeautifulSoup (response.text,'lxml')\n",
    "  \n",
    "  titles = soup.find_all ('div',class_='KzDlHZ')\n",
    "  for title in titles:\n",
    "    titles_list.append (title.text.strip())\n",
    "  \n",
    "  descs = soup.find_all ('ul',class_='G4BRas')\n",
    "  for desc in descs:\n",
    "    descs_list.append (desc.text.strip())\n",
    "  \n",
    "  rattings_and_reviews = soup.find_all ('span',class_='Wphh3N')\n",
    "  for ratting_and_review in rattings_and_reviews:\n",
    "    rattings_and_reviews_list.append (ratting_and_review.text.strip())\n",
    "  \n",
    "  discounts = soup.find_all ('div',class_='UkUFwK')\n",
    "  for discount in discounts:\n",
    "    discounts_list.append (discount.text.strip())\n",
    "  \n",
    "  prices = soup.find_all ('div',class_='Nx9bqj _4b5DiR')\n",
    "  for price in prices:\n",
    "    prices_list.append (price.text.strip())\n",
    "\n",
    "print(titles_list)\n",
    "print(descs_list)\n",
    "print(rattings_and_reviews_list)\n",
    "print(discounts_list)\n",
    "print(prices_list)\n",
    "\n",
    "min_length = min (len(titles_list),\n",
    "                 len(descs_list),\n",
    "                 len(rattings_and_reviews_list),\n",
    "                 len(discounts_list),\n",
    "                 len(prices_list))\n",
    "titles_list = titles_list [:min_length]\n",
    "descs_list = descs_list [:min_length]\n",
    "rattings_and_reviews_list = rattings_and_reviews_list [:min_length]\n",
    "discounts_list = discounts_list [:min_length]\n",
    "prices_list = prices_list [:min_length]\n",
    "\n",
    "df = pd.DataFrame ({'Phones Title':titles_list,\n",
    "                   'Phone Description':descs_list,\n",
    "                   'Rattings/Reviews':rattings_and_reviews_list,\n",
    "                   'Discount':discounts_list,\n",
    "                   'Price':prices_list})\n",
    "\n",
    "print(df)"
   ]
  },
  {
   "cell_type": "code",
   "execution_count": null,
   "id": "1bc46d9d-4389-42af-aab4-8b51d17bd53e",
   "metadata": {},
   "outputs": [],
   "source": []
  }
 ],
 "metadata": {
  "kernelspec": {
   "display_name": "Python 3 (ipykernel)",
   "language": "python",
   "name": "python3"
  },
  "language_info": {
   "codemirror_mode": {
    "name": "ipython",
    "version": 3
   },
   "file_extension": ".py",
   "mimetype": "text/x-python",
   "name": "python",
   "nbconvert_exporter": "python",
   "pygments_lexer": "ipython3",
   "version": "3.11.7"
  }
 },
 "nbformat": 4,
 "nbformat_minor": 5
}
