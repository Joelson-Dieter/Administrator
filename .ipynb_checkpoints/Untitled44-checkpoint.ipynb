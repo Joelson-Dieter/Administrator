{
 "cells": [
  {
   "cell_type": "code",
   "execution_count": 137,
   "id": "4c328b73-fd19-4b26-9c20-ace8ab0a8f31",
   "metadata": {},
   "outputs": [
    {
     "name": "stdout",
     "output_type": "stream",
     "text": [
      "Empty DataFrame\n",
      "Columns: [Title, Location, Address, Description, Price, Bedrooms, Bathrooms]\n",
      "Index: []\n"
     ]
    }
   ],
   "source": [
    "import requests\n",
    "from bs4 import BeautifulSoup\n",
    "import pandas as pd\n",
    "\n",
    "titles_list = []\n",
    "locations_list = []\n",
    "addresses_list = []\n",
    "desc_list = []\n",
    "prices_list = []\n",
    "bedrooms_list = []\n",
    "bathrooms_list = []\n",
    "\n",
    "# Loop through pages\n",
    "for i in range(1, 100):  # Adjust the range as per your requirement\n",
    "    url = f'https://www.property24.co.ke/property-for-sale-in-nairobi-c1890?Page={i}'\n",
    "    response = requests.get(url)\n",
    "    soup = BeautifulSoup(response.content, 'html.parser')\n",
    "    \n",
    "    titles = soup.find_all('span', class_='p24_propertyTitle')\n",
    "    for title in titles:\n",
    "        titles_list.append(title.text.strip())\n",
    "\n",
    "    locations = soup.find_all('span', class_='p24_location')\n",
    "    for location in locations:\n",
    "        locations_list.append(location.text.strip())\n",
    "\n",
    "    addresses = soup.find_all('span', class_='p24_address')\n",
    "    for address in addresses:\n",
    "        addresses_list.append(address.text.strip())\n",
    "\n",
    "    desc = soup.find_all('span', class_='p24_excerpt')\n",
    "    for description in desc:\n",
    "        desc_list.append(description.text.strip())\n",
    "\n",
    "    prices = soup.find_all('span', class_='p24_price')\n",
    "    for price in prices:\n",
    "        prices_list.append(price.text.strip())\n",
    "\n",
    "    features = soup.find_all('span', class_='p24_featureDetails')\n",
    "    for feature in features:\n",
    "        feature_text = feature.text.strip()\n",
    "        if 'Bedroom' in feature_text:\n",
    "            bedrooms_list.append(feature_text)\n",
    "        elif 'Bathroom' in feature_text:\n",
    "            bathrooms_list.append(feature_text)\n",
    "\n",
    "# Ensure all lists are the same length\n",
    "min_length = min(\n",
    "    len(titles_list), len(locations_list), len(addresses_list),\n",
    "    len(desc_list), len(prices_list), len(bedrooms_list), len(bathrooms_list)\n",
    ")\n",
    "\n",
    "titles_list = titles_list[:min_length]\n",
    "locations_list = locations_list[:min_length]\n",
    "addresses_list = addresses_list[:min_length]\n",
    "desc_list = desc_list[:min_length]\n",
    "prices_list = prices_list[:min_length]\n",
    "bedrooms_list = bedrooms_list[:min_length]\n",
    "bathrooms_list = bathrooms_list[:min_length]\n",
    "\n",
    "# Create DataFrame\n",
    "df = pd.DataFrame({\n",
    "    'Title': titles_list,\n",
    "    'Location': locations_list,\n",
    "    'Address': addresses_list,\n",
    "    'Description': desc_list,\n",
    "    'Price': prices_list,\n",
    "    'Bedrooms': bedrooms_list,\n",
    "    'Bathrooms': bathrooms_list\n",
    "})\n",
    "\n",
    "print(df)\n"
   ]
  },
  {
   "cell_type": "code",
   "execution_count": null,
   "id": "50cd09c9-8de2-490c-be9b-20196eb0008f",
   "metadata": {},
   "outputs": [],
   "source": []
  }
 ],
 "metadata": {
  "kernelspec": {
   "display_name": "Python 3 (ipykernel)",
   "language": "python",
   "name": "python3"
  },
  "language_info": {
   "codemirror_mode": {
    "name": "ipython",
    "version": 3
   },
   "file_extension": ".py",
   "mimetype": "text/x-python",
   "name": "python",
   "nbconvert_exporter": "python",
   "pygments_lexer": "ipython3",
   "version": "3.11.7"
  }
 },
 "nbformat": 4,
 "nbformat_minor": 5
}
