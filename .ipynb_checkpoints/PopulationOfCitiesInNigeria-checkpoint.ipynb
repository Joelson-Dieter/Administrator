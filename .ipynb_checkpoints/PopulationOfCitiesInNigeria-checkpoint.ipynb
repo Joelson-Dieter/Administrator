{
 "cells": [
  {
   "cell_type": "code",
   "execution_count": 62,
   "id": "4833e490-dd6b-4c19-8611-91213e0125fc",
   "metadata": {},
   "outputs": [],
   "source": [
    "import requests\n",
    "import pandas as pd\n",
    "from bs4 import BeautifulSoup"
   ]
  },
  {
   "cell_type": "code",
   "execution_count": 64,
   "id": "8f012feb-9b0e-4a30-a128-a6f3abd354f6",
   "metadata": {},
   "outputs": [
    {
     "name": "stdout",
     "output_type": "stream",
     "text": [
      "<Response [200]>\n"
     ]
    }
   ],
   "source": [
    "url = 'https://www.worldometers.info/world-population/nigeria-population/'\n",
    "page = requests.get (url)\n",
    "print(page)"
   ]
  },
  {
   "cell_type": "code",
   "execution_count": 66,
   "id": "116b8931-578f-4efb-8a80-79a144d17a99",
   "metadata": {},
   "outputs": [
    {
     "name": "stdout",
     "output_type": "stream",
     "text": [
      "['Year', 'Population', 'Yearly %  Change', 'Yearly Change', 'Migrants (net)', 'Median Age', 'Fertility Rate', 'Density (P/Km²)', 'Urban Pop %', 'Urban Population', \"Country's Share of World Pop\", 'World Population', 'NigeriaGlobal Rank']\n"
     ]
    }
   ],
   "source": [
    "soup = BeautifulSoup (page.text,'lxml')\n",
    "soup.find_all ('table')[2]\n",
    "soup.find_all ('table',class_='table table-striped table-bordered table-hover table-condensed table-list')\n",
    "table = soup.find_all ('table')[2]\n",
    "soup.find_all ('th')\n",
    "population_titles = table.find_all ('th')\n",
    "population_table_titles = [title.text.strip() for title in population_titles]\n",
    "print(population_table_titles)"
   ]
  },
  {
   "cell_type": "code",
   "execution_count": 68,
   "id": "e0a81bf7-f5bc-4f14-8a6d-2dd52ead7273",
   "metadata": {},
   "outputs": [],
   "source": [
    "df = pd.DataFrame (columns = population_table_titles)"
   ]
  },
  {
   "cell_type": "code",
   "execution_count": 70,
   "id": "549bc3f7-4f34-4a8f-9bfb-17afc286832a",
   "metadata": {},
   "outputs": [
    {
     "data": {
      "text/html": [
       "<div>\n",
       "<style scoped>\n",
       "    .dataframe tbody tr th:only-of-type {\n",
       "        vertical-align: middle;\n",
       "    }\n",
       "\n",
       "    .dataframe tbody tr th {\n",
       "        vertical-align: top;\n",
       "    }\n",
       "\n",
       "    .dataframe thead th {\n",
       "        text-align: right;\n",
       "    }\n",
       "</style>\n",
       "<table border=\"1\" class=\"dataframe\">\n",
       "  <thead>\n",
       "    <tr style=\"text-align: right;\">\n",
       "      <th></th>\n",
       "      <th>Year</th>\n",
       "      <th>Population</th>\n",
       "      <th>Yearly %  Change</th>\n",
       "      <th>Yearly Change</th>\n",
       "      <th>Migrants (net)</th>\n",
       "      <th>Median Age</th>\n",
       "      <th>Fertility Rate</th>\n",
       "      <th>Density (P/Km²)</th>\n",
       "      <th>Urban Pop %</th>\n",
       "      <th>Urban Population</th>\n",
       "      <th>Country's Share of World Pop</th>\n",
       "      <th>World Population</th>\n",
       "      <th>NigeriaGlobal Rank</th>\n",
       "    </tr>\n",
       "  </thead>\n",
       "  <tbody>\n",
       "  </tbody>\n",
       "</table>\n",
       "</div>"
      ],
      "text/plain": [
       "Empty DataFrame\n",
       "Columns: [Year, Population, Yearly %  Change, Yearly Change, Migrants (net), Median Age, Fertility Rate, Density (P/Km²), Urban Pop %, Urban Population, Country's Share of World Pop, World Population, NigeriaGlobal Rank]\n",
       "Index: []"
      ]
     },
     "execution_count": 70,
     "metadata": {},
     "output_type": "execute_result"
    }
   ],
   "source": [
    "df"
   ]
  },
  {
   "cell_type": "code",
   "execution_count": 72,
   "id": "3998910b-f06c-43e4-aa60-f337416bca99",
   "metadata": {},
   "outputs": [],
   "source": [
    "column_data = table.find_all ('tr')\n",
    "for row in column_data [1:]:\n",
    "  row_data = row.find_all ('td')\n",
    "  individual_row_data = [data.text.strip() for data in row_data]\n",
    "  length = len (df)\n",
    "  df.loc [length] = individual_row_data"
   ]
  },
  {
   "cell_type": "code",
   "execution_count": 74,
   "id": "f83d34b4-5fe9-4cef-8ef6-dcc628a5659b",
   "metadata": {},
   "outputs": [
    {
     "data": {
      "text/html": [
       "<div>\n",
       "<style scoped>\n",
       "    .dataframe tbody tr th:only-of-type {\n",
       "        vertical-align: middle;\n",
       "    }\n",
       "\n",
       "    .dataframe tbody tr th {\n",
       "        vertical-align: top;\n",
       "    }\n",
       "\n",
       "    .dataframe thead th {\n",
       "        text-align: right;\n",
       "    }\n",
       "</style>\n",
       "<table border=\"1\" class=\"dataframe\">\n",
       "  <thead>\n",
       "    <tr style=\"text-align: right;\">\n",
       "      <th></th>\n",
       "      <th>Year</th>\n",
       "      <th>Population</th>\n",
       "      <th>Yearly %  Change</th>\n",
       "      <th>Yearly Change</th>\n",
       "      <th>Migrants (net)</th>\n",
       "      <th>Median Age</th>\n",
       "      <th>Fertility Rate</th>\n",
       "      <th>Density (P/Km²)</th>\n",
       "      <th>Urban Pop %</th>\n",
       "      <th>Urban Population</th>\n",
       "      <th>Country's Share of World Pop</th>\n",
       "      <th>World Population</th>\n",
       "      <th>NigeriaGlobal Rank</th>\n",
       "    </tr>\n",
       "  </thead>\n",
       "  <tbody>\n",
       "    <tr>\n",
       "      <th>0</th>\n",
       "      <td>2030</td>\n",
       "      <td>262,380,970</td>\n",
       "      <td>2.01 %</td>\n",
       "      <td>4,970,638</td>\n",
       "      <td>24,085</td>\n",
       "      <td>19.3</td>\n",
       "      <td>3.82</td>\n",
       "      <td>288</td>\n",
       "      <td>59.6 %</td>\n",
       "      <td>156,299,881</td>\n",
       "      <td>3.06 %</td>\n",
       "      <td>8,569,124,911</td>\n",
       "      <td>6</td>\n",
       "    </tr>\n",
       "    <tr>\n",
       "      <th>1</th>\n",
       "      <td>2035</td>\n",
       "      <td>287,685,763</td>\n",
       "      <td>1.86 %</td>\n",
       "      <td>5,060,959</td>\n",
       "      <td>35,506</td>\n",
       "      <td>20.5</td>\n",
       "      <td>3.41</td>\n",
       "      <td>316</td>\n",
       "      <td>64.3 %</td>\n",
       "      <td>184,887,647</td>\n",
       "      <td>3.24 %</td>\n",
       "      <td>8,885,210,181</td>\n",
       "      <td>6</td>\n",
       "    </tr>\n",
       "    <tr>\n",
       "      <th>2</th>\n",
       "      <td>2040</td>\n",
       "      <td>312,710,416</td>\n",
       "      <td>1.68 %</td>\n",
       "      <td>5,004,931</td>\n",
       "      <td>41,202</td>\n",
       "      <td>21.7</td>\n",
       "      <td>3.10</td>\n",
       "      <td>343</td>\n",
       "      <td>69.1 %</td>\n",
       "      <td>216,083,536</td>\n",
       "      <td>3.41 %</td>\n",
       "      <td>9,177,190,203</td>\n",
       "      <td>5</td>\n",
       "    </tr>\n",
       "    <tr>\n",
       "      <th>3</th>\n",
       "      <td>2045</td>\n",
       "      <td>336,662,502</td>\n",
       "      <td>1.49 %</td>\n",
       "      <td>4,790,417</td>\n",
       "      <td>44,157</td>\n",
       "      <td>22.7</td>\n",
       "      <td>2.85</td>\n",
       "      <td>370</td>\n",
       "      <td>74.3 %</td>\n",
       "      <td>250,285,391</td>\n",
       "      <td>3.57 %</td>\n",
       "      <td>9,439,639,668</td>\n",
       "      <td>5</td>\n",
       "    </tr>\n",
       "    <tr>\n",
       "      <th>4</th>\n",
       "      <td>2050</td>\n",
       "      <td>359,185,556</td>\n",
       "      <td>1.30 %</td>\n",
       "      <td>4,504,611</td>\n",
       "      <td></td>\n",
       "      <td>23.9</td>\n",
       "      <td>2.66</td>\n",
       "      <td>394</td>\n",
       "      <td>79.9 %</td>\n",
       "      <td>287,130,349</td>\n",
       "      <td>3.72 %</td>\n",
       "      <td>9,664,378,587</td>\n",
       "      <td>5</td>\n",
       "    </tr>\n",
       "  </tbody>\n",
       "</table>\n",
       "</div>"
      ],
      "text/plain": [
       "   Year   Population Yearly %  Change Yearly Change Migrants (net) Median Age  \\\n",
       "0  2030  262,380,970           2.01 %     4,970,638         24,085       19.3   \n",
       "1  2035  287,685,763           1.86 %     5,060,959         35,506       20.5   \n",
       "2  2040  312,710,416           1.68 %     5,004,931         41,202       21.7   \n",
       "3  2045  336,662,502           1.49 %     4,790,417         44,157       22.7   \n",
       "4  2050  359,185,556           1.30 %     4,504,611                      23.9   \n",
       "\n",
       "  Fertility Rate Density (P/Km²) Urban Pop % Urban Population  \\\n",
       "0           3.82             288      59.6 %      156,299,881   \n",
       "1           3.41             316      64.3 %      184,887,647   \n",
       "2           3.10             343      69.1 %      216,083,536   \n",
       "3           2.85             370      74.3 %      250,285,391   \n",
       "4           2.66             394      79.9 %      287,130,349   \n",
       "\n",
       "  Country's Share of World Pop World Population NigeriaGlobal Rank  \n",
       "0                       3.06 %    8,569,124,911                  6  \n",
       "1                       3.24 %    8,885,210,181                  6  \n",
       "2                       3.41 %    9,177,190,203                  5  \n",
       "3                       3.57 %    9,439,639,668                  5  \n",
       "4                       3.72 %    9,664,378,587                  5  "
      ]
     },
     "execution_count": 74,
     "metadata": {},
     "output_type": "execute_result"
    }
   ],
   "source": [
    "df"
   ]
  },
  {
   "cell_type": "code",
   "execution_count": 76,
   "id": "8daee806-e56a-484d-b3c6-3b7c35de51ff",
   "metadata": {},
   "outputs": [],
   "source": [
    "df.to_csv (r\"C:\\Users\\Administrator\\OneDrive\\Documents\\WebscrapingFiles\\Population of Nigeria Forecast.csv\",index = False)"
   ]
  },
  {
   "cell_type": "code",
   "execution_count": null,
   "id": "2327766e-a9d1-4a1b-b9f0-ee3c9fc55157",
   "metadata": {},
   "outputs": [],
   "source": []
  }
 ],
 "metadata": {
  "kernelspec": {
   "display_name": "Python 3 (ipykernel)",
   "language": "python",
   "name": "python3"
  },
  "language_info": {
   "codemirror_mode": {
    "name": "ipython",
    "version": 3
   },
   "file_extension": ".py",
   "mimetype": "text/x-python",
   "name": "python",
   "nbconvert_exporter": "python",
   "pygments_lexer": "ipython3",
   "version": "3.11.7"
  }
 },
 "nbformat": 4,
 "nbformat_minor": 5
}
