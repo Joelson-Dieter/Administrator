{
 "cells": [
  {
   "cell_type": "code",
   "execution_count": 15,
   "id": "de0c83b7-bf0f-4ae2-9efe-e690e1cbcf11",
   "metadata": {},
   "outputs": [],
   "source": [
    "from selenium import webdriver\n",
    "import time\n",
    "from selenium.webdriver.chrome.service import Service\n",
    "service = Service (excutable_path = r'C:\\Users\\Administrator\\OneDrive\\Documents\\Data_Entry\\PythonDOCS\\chromedriver.exe')\n",
    "driver = webdriver.Chrome (service=service)\n",
    "driver.get ('https://proteachemicals.co.za/')\n",
    "time.sleep (10)"
   ]
  },
  {
   "cell_type": "code",
   "execution_count": null,
   "id": "80ac6a72-9396-4afc-8918-9128f7320a80",
   "metadata": {},
   "outputs": [],
   "source": []
  }
 ],
 "metadata": {
  "kernelspec": {
   "display_name": "Python 3 (ipykernel)",
   "language": "python",
   "name": "python3"
  },
  "language_info": {
   "codemirror_mode": {
    "name": "ipython",
    "version": 3
   },
   "file_extension": ".py",
   "mimetype": "text/x-python",
   "name": "python",
   "nbconvert_exporter": "python",
   "pygments_lexer": "ipython3",
   "version": "3.11.7"
  }
 },
 "nbformat": 4,
 "nbformat_minor": 5
}
