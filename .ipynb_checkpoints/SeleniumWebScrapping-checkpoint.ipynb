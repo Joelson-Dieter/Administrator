{
 "cells": [
  {
   "cell_type": "code",
   "execution_count": 38,
   "id": "000ba754-1f2f-4c52-aaa8-3c6ad87d0152",
   "metadata": {},
   "outputs": [],
   "source": [
    "from selenium import webdriver\n",
    "from selenium.webdriver.chrome.service import Service\n",
    "web = 'https://www.flipkart.com/search?q=tecno%20phones&otracker=search&otracker1=search&marketplace=FLIPKART&as-show=on&as=off'\n",
    "path = r'C:\\Users\\Administrator\\OneDrive\\Documents\\Data_Entry\\PythonDOCS\\chromedriver.exe'\n",
    "service = Service (excutable_path = path)\n",
    "driver = webdriver.Chrome (service = service)\n",
    "driver.get (web)"
   ]
  },
  {
   "cell_type": "code",
   "execution_count": 88,
   "id": "3cd57bd1-ecc8-4c3e-ad1f-9d29d041222f",
   "metadata": {},
   "outputs": [
    {
     "name": "stdout",
     "output_type": "stream",
     "text": [
      "Tecno Spark Go 1 (Magic Skin Green, 64 GB)\n",
      "Tecno Spark Go 1 (Startrail Black, 64 GB)\n",
      "Tecno Spark Go 1 (Magic Skin Green, 64 GB)\n",
      "Tecno Spark Go 1 (Glittery White, 64 GB)\n",
      "Tecno Spark Go 1 (Startrail Black, 64 GB)\n",
      "Tecno Pova 6 Neo (Azure Sky, 256 GB)\n",
      "Tecno Pova 6 Neo (Midnight Shadow, 256 GB)\n",
      "Tecno Pova 6 Neo (Azure Sky, 128 GB)\n",
      "Tecno Pova 6 Neo (Aurora Cloud, 128 GB)\n",
      "Tecno Pova 6 Neo (Aurora Cloud, 256 GB)\n",
      "Tecno Pova 6 Neo (Midnight Shadow, 128 GB)\n",
      "Tecno Camon 30 5G (Uyuni Salt White, 256 GB)\n",
      "Tecno Camon 30 5G (Basaltic Dark, 256 GB)\n",
      "Tecno Spark Go 1 (Glittery White, 64 GB)\n",
      "Tecno Spark 30C (Aurora Cloud, 64 GB)\n",
      "Tecno Spark 30C (Azure Sky, 128 GB)\n",
      "Tecno Spark 30C (Midnight Shadow, 64 GB)\n",
      "Tecno Spark 30C (Midnight Shadow, 128 GB)\n",
      "Tecno Spark 20 Pro 5G (Neon Green, 128 GB)\n",
      "Tecno Spark 20 Pro 5G (Startrail Black, 128 GB)\n",
      "Tecno Spark 20 Pro 5G (Glossy White, 128 GB)\n",
      "Tecno Spark 30C (Aurora Cloud, 128 GB)\n",
      "Tecno Spark 10 5G (Meta Blue, 128 GB)\n",
      "Tecno Spark 10 5G (Meta Blue, 64 GB)\n",
      "Tecno Spark 10 5G (Meta Blue, 64 GB)\n",
      "<built-in method strip of str object at 0x000001FEC5AA7750>\n"
     ]
    }
   ],
   "source": [
    "Tecnos = driver.find_elements(by='xpath', value='//div[contains(@class,\"col col-7-12\")]')\n",
    "\n",
    "for Tecno in Tecnos:\n",
    "    Tecnos = driver.find_elements(by='xpath', value='//div[contains(@class,\"col col-7-12\")]')\n",
    "\n",
    "for Tecno in Tecnos:\n",
    "    KzDlHZ_elements = Tecno.find_elements(by='xpath', value='.//div[contains(@class,\"KzDlHZ\")]')\n",
    "    for element in KzDlHZ_elements:\n",
    "      print(element.text.strip())\n",
    "    \n",
    "    Nx9bqj_4b5DiR_elements = Tecno.find_elements(by='xpath', value='.//div[contains(@class,\"Nx9bqj _4b5DiR\")]')\n",
    "    for element in Nx9bqj_4b5DiR_elements:\n",
    "      print(element.text.strip())\n",
    "\n",
    "\n",
    "print(element.text.strip())\n",
    "print(element.text.strip)\n",
    "        \n",
    "  "
   ]
  },
  {
   "cell_type": "code",
   "execution_count": null,
   "id": "ff5b16b4-f695-4d2c-ad80-6cdd6634bdd1",
   "metadata": {},
   "outputs": [],
   "source": []
  }
 ],
 "metadata": {
  "kernelspec": {
   "display_name": "Python 3 (ipykernel)",
   "language": "python",
   "name": "python3"
  },
  "language_info": {
   "codemirror_mode": {
    "name": "ipython",
    "version": 3
   },
   "file_extension": ".py",
   "mimetype": "text/x-python",
   "name": "python",
   "nbconvert_exporter": "python",
   "pygments_lexer": "ipython3",
   "version": "3.11.7"
  }
 },
 "nbformat": 4,
 "nbformat_minor": 5
}
