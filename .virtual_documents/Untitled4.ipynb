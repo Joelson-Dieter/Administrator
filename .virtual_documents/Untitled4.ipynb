import matplotlib.pyplot as plt
x=[200,300,400,500,600,700,800,900,1000]
y=[40,50,60,70,80,90,100,150,160]
plt.plot(x,y)



import matplotlib.pyplot as plt
import numpy as np
fruits=np.arange(1001)
prices=2*x+1
plt.plot(fruits,prices)



