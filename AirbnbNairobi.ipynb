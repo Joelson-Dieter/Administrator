{
 "cells": [
  {
   "cell_type": "code",
   "execution_count": 2,
   "id": "f2574175-476d-49c7-a68f-816a3877786e",
   "metadata": {},
   "outputs": [],
   "source": [
    "import requests\n",
    "from bs4 import BeautifulSoup\n",
    "import pandas as pd"
   ]
  },
  {
   "cell_type": "code",
   "execution_count": 4,
   "id": "cd691a0e-29e5-465c-860b-af6a5460b5e2",
   "metadata": {},
   "outputs": [
    {
     "name": "stdout",
     "output_type": "stream",
     "text": [
      "<Response [200]>\n"
     ]
    }
   ],
   "source": [
    "url = 'https://www.airbnb.co.in/?from_belo_click'\n",
    "response = requests.get (url)\n",
    "print(response)"
   ]
  },
  {
   "cell_type": "code",
   "execution_count": 8,
   "id": "726d6255-4038-422a-94d8-5d2bcbaa7c57",
   "metadata": {},
   "outputs": [
    {
     "name": "stdout",
     "output_type": "stream",
     "text": [
      "<!DOCTYPE html>\n",
      "<html class=\"scrollbar-gutter\" data-is-async-local-storage=\"true\" data-is-hyperloop=\"true\" dir=\"ltr\" lang=\"en-IN\">\n",
      " <head>\n",
      "  <meta charset=\"utf-8\"/>\n",
      "  <meta content=\"en-IN\" name=\"locale\"/>\n",
      "  <meta content=\"notranslate\" name=\"google\"/>\n",
      "  <meta content=\"authenticity_token\" id=\"csrf-param-meta-tag\" name=\"csrf-param\"/>\n",
      "  <meta content=\"\" id=\"csrf-token-meta-tag\" name=\"csrf-token\"/>\n",
      "  <meta content=\"\" id=\"english-canonical-url\"/>\n",
      "  <meta content=\"on\" name=\"twitter:widgets:csp\"/>\n",
      "  <me\n"
     ]
    }
   ],
   "source": [
    "soup = BeautifulSoup (response.text,'lxml')\n",
    "print(soup.prettify()[:500])"
   ]
  },
  {
   "cell_type": "code",
   "execution_count": 30,
   "id": "31fcf565-6dbc-49c6-acb8-82abdbfa5547",
   "metadata": {},
   "outputs": [
    {
     "name": "stdout",
     "output_type": "stream",
     "text": [
      "['Nairobi, Kenya', 'Nairobi, Kenya', 'Nairobi, Kenya', 'Nairobi, Kenya', 'Nairobi, Kenya', 'Nairobi, Kenya', 'Nairobi, Kenya', 'Nairobi, Kenya', 'Nairobi, Kenya', 'Nairobi, Kenya', 'Westlands, Kenya', 'Nairobi, Kenya', 'Nairobi, Kenya', 'Nairobi, Kenya', 'Nairobi, Kenya', 'Nairobi, Kenya', 'Nairobi, Kenya', 'Nairobi, Kenya', 'Nairobi, Kenya', 'Nairobi, Kenya']\n"
     ]
    }
   ],
   "source": [
    "locations = soup.find_all ('div',class_='t1jojoys atm_g3_1kw7nm4 atm_ks_15vqwwr atm_sq_1l2sidv atm_9s_cj1kg8 atm_6w_1e54zos atm_fy_1vgr820 atm_7l_jt7fhx atm_cs_10d11i2 atm_w4_1eetg7c atm_ks_zryt35__1rgatj2 dir dir-ltr')\n",
    "locations_list = []\n",
    "for i in locations:\n",
    "  n = i.text\n",
    "  locations_list.append (n.strip())\n",
    "\n",
    "print(locations_list)"
   ]
  },
  {
   "cell_type": "code",
   "execution_count": 46,
   "id": "aced7388-b9f7-4512-bab4-128f17f53521",
   "metadata": {},
   "outputs": [
    {
     "name": "stdout",
     "output_type": "stream",
     "text": [
      "20\n"
     ]
    }
   ],
   "source": [
    "print(len(locations))"
   ]
  },
  {
   "cell_type": "code",
   "execution_count": 42,
   "id": "0c5ad124-7e6c-48d1-af0f-5651d59ad8b3",
   "metadata": {},
   "outputs": [
    {
     "name": "stdout",
     "output_type": "stream",
     "text": [
      "['6 kilometres away6 kilometres away', '18–23 Jan18–23 Jan', '7 kilometres away7 kilometres away', '19–24 Jan19–24 Jan', '6 kilometres away6 kilometres away', '23–28 Jan23–28 Jan', '7 kilometres away7 kilometres away', '22–27 Jan22–27 Jan', '4 kilometres away4 kilometres away', '12–17 Jan12–17 Jan', '4 kilometres away4 kilometres away', '23–28 Jan23–28 Jan', '3 kilometres away3 kilometres away', '22–27 Jan22–27 Jan', '4 kilometres away4 kilometres away', '16–21 Jan16–21 Jan', '4 kilometres away4 kilometres away', '12–17 Jan12–17 Jan', '7 kilometres away7 kilometres away', '12–17 Jan12–17 Jan', '5 kilometres away5 kilometres away', '19–24 Jan19–24 Jan', '4 kilometres away4 kilometres away', '13–18 Jan13–18 Jan', '3 kilometres away3 kilometres away', '16–21 Jan16–21 Jan', '6 kilometres away6 kilometres away', '31 Mar\\u2009–\\u20095 Apr31 Mar\\u2009–\\u20095 Apr', '4 kilometres away4 kilometres away', '13–18 Jan13–18 Jan', '4 kilometres away4 kilometres away', '23–28 Jan23–28 Jan', '4 kilometres away4 kilometres away', '12–17 Jan12–17 Jan', '3 kilometres away3 kilometres away', '22–27 Jan22–27 Jan', '2 kilometres away2 kilometres away', '12–17 Jan12–17 Jan', '4 kilometres away4 kilometres away', '13–18 Jan13–18 Jan']\n"
     ]
    }
   ],
   "source": [
    "distance_from_nairobi = soup.find_all ('div',class_='fb4nyux atm_da_cbdd7d s1cjsi4j atm_g3_1kw7nm4 atm_ks_15vqwwr atm_sq_1l2sidv atm_9s_cj1kg8 atm_6w_1e54zos atm_fy_kb7nvz atm_7l_1he744i atm_ks_zryt35__1rgatj2 dir dir-ltr')\n",
    "distance_from_nairobi_list = []\n",
    "for i in distance_from_nairobi:\n",
    "  n = i.text\n",
    "  distance_from_nairobi_list.append (n.strip())\n",
    "\n",
    "print(distance_from_nairobi_list)"
   ]
  },
  {
   "cell_type": "code",
   "execution_count": 48,
   "id": "36bcc75f-ce9f-4618-bccd-2a7a26bf3c03",
   "metadata": {},
   "outputs": [
    {
     "name": "stdout",
     "output_type": "stream",
     "text": [
      "40\n"
     ]
    }
   ],
   "source": [
    "print(len(distance_from_nairobi))"
   ]
  },
  {
   "cell_type": "code",
   "execution_count": 44,
   "id": "ba9df2a1-e340-4019-9045-d338c0319c59",
   "metadata": {},
   "outputs": [
    {
     "name": "stdout",
     "output_type": "stream",
     "text": [
      "['Start your search', 'Location', 'Check in / Check out', 'Guests', '6 kilometres away', '18–23 Jan', 'Guest favourite', '7 kilometres away', '19–24 Jan', 'Guest favourite', '6 kilometres away', '23–28 Jan', '7 kilometres away', '22–27 Jan', '4 kilometres away', '12–17 Jan', 'Guest favourite', '4 kilometres away', '23–28 Jan', 'Guest favourite', '3 kilometres away', '22–27 Jan', 'Guest favourite', '4 kilometres away', '16–21 Jan', 'Guest favourite', '4 kilometres away', '12–17 Jan', '7 kilometres away', '12–17 Jan', 'Guest favourite', '5 kilometres away', '19–24 Jan', '4 kilometres away', '13–18 Jan', 'Guest favourite', '3 kilometres away', '16–21 Jan', 'Guest favourite', '6 kilometres away', '31 Mar\\u2009–\\u20095 Apr', 'Guest favourite', '4 kilometres away', '13–18 Jan', '4 kilometres away', '23–28 Jan', 'Guest favourite', '4 kilometres away', '12–17 Jan', 'Guest favourite', '3 kilometres away', '22–27 Jan', 'Guest favourite', '2 kilometres away', '12–17 Jan', 'Guest favourite', '4 kilometres away', '13–18 Jan', 'Site Footer', 'Footer section', 'Choose a language', 'Choose a currency', 'Choose a language', 'Choose a currency', 'Choose a language', 'Choose a currency']\n"
     ]
    }
   ],
   "source": [
    "dates = soup.find_all ('span',class_='a8jt5op atm_3f_idpfg4 atm_7h_hxbz6r atm_7i_ysn8ba atm_e2_t94yts atm_ks_zryt35 atm_l8_idpfg4 atm_mk_stnw88 atm_vv_1q9ccgz atm_vy_t94yts dir dir-ltr')\n",
    "dates_list = []\n",
    "for i in dates:\n",
    "  n = i.text\n",
    "  dates_list.append (n.strip())\n",
    "\n",
    "print(dates_list)"
   ]
  },
  {
   "cell_type": "code",
   "execution_count": 50,
   "id": "da89ca54-c6a4-4b8f-b283-2d4c4528092f",
   "metadata": {},
   "outputs": [
    {
     "name": "stdout",
     "output_type": "stream",
     "text": [
      "66\n"
     ]
    }
   ],
   "source": [
    "print(len(dates))"
   ]
  },
  {
   "cell_type": "code",
   "execution_count": 38,
   "id": "9506c506-7da8-4e75-95a5-7b9454610393",
   "metadata": {},
   "outputs": [
    {
     "name": "stdout",
     "output_type": "stream",
     "text": [
      "['₹7,928\\xa0night₹7,928 per night', '₹6,807\\xa0night₹6,807 per night', '₹4,915\\xa0night₹4,915 per night', '₹3,667\\xa0night₹3,667 per night', '₹5,084\\xa0night₹5,084 per night', '₹4,915\\xa0night₹4,915 per night', '₹3,711\\xa0night₹3,711 per night', '₹4,767\\xa0night₹4,767 per night', '₹13,397\\xa0night₹13,397 per night', '₹43,189\\xa0night₹43,189 per night', '₹7,780\\xa0night₹7,780 per night', '₹4,213\\xa0night₹4,213 per night', '₹15,073\\xa0night₹15,073 per night', '₹41,423\\xa0night₹41,423 per night', '₹4,570\\xa0night₹4,570 per night', '₹4,601\\xa0night₹4,601 per night', '₹5,155\\xa0night₹5,155 per night', '₹3,545\\xa0night₹3,545 per night', '₹6,520\\xa0night₹6,520 per night', '₹4,971\\xa0night₹4,971 per night']\n"
     ]
    }
   ],
   "source": [
    "charges_per_night = soup.find_all ('span',class_='_1qgfaxb1')\n",
    "charges_per_night_list = []\n",
    "for i in charges_per_night:\n",
    "  n = i.text\n",
    "  charges_per_night_list.append (n.strip())\n",
    "\n",
    "print(charges_per_night_list)"
   ]
  },
  {
   "cell_type": "code",
   "execution_count": 54,
   "id": "f6806f49-72c8-4e6b-9ca4-ac4673213c50",
   "metadata": {},
   "outputs": [
    {
     "name": "stdout",
     "output_type": "stream",
     "text": [
      "20\n"
     ]
    }
   ],
   "source": [
    "print(len(charges_per_night))"
   ]
  },
  {
   "cell_type": "code",
   "execution_count": 56,
   "id": "55b996e0-fca3-46f2-b400-55ae055e1ea9",
   "metadata": {},
   "outputs": [
    {
     "name": "stdout",
     "output_type": "stream",
     "text": [
      "           Locations                                            Charges\n",
      "0     Nairobi, Kenya    [[[₹7,928,  ,  ], [night]], [₹7,928 per night]]\n",
      "1     Nairobi, Kenya    [[[₹6,807,  ,  ], [night]], [₹6,807 per night]]\n",
      "2     Nairobi, Kenya    [[[₹4,915,  ,  ], [night]], [₹4,915 per night]]\n",
      "3     Nairobi, Kenya    [[[₹3,667,  ,  ], [night]], [₹3,667 per night]]\n",
      "4     Nairobi, Kenya    [[[₹5,084,  ,  ], [night]], [₹5,084 per night]]\n",
      "5     Nairobi, Kenya    [[[₹4,915,  ,  ], [night]], [₹4,915 per night]]\n",
      "6     Nairobi, Kenya    [[[₹3,711,  ,  ], [night]], [₹3,711 per night]]\n",
      "7     Nairobi, Kenya    [[[₹4,767,  ,  ], [night]], [₹4,767 per night]]\n",
      "8     Nairobi, Kenya  [[[₹13,397,  ,  ], [night]], [₹13,397 per night]]\n",
      "9     Nairobi, Kenya  [[[₹43,189,  ,  ], [night]], [₹43,189 per night]]\n",
      "10  Westlands, Kenya    [[[₹7,780,  ,  ], [night]], [₹7,780 per night]]\n",
      "11    Nairobi, Kenya    [[[₹4,213,  ,  ], [night]], [₹4,213 per night]]\n",
      "12    Nairobi, Kenya  [[[₹15,073,  ,  ], [night]], [₹15,073 per night]]\n",
      "13    Nairobi, Kenya  [[[₹41,423,  ,  ], [night]], [₹41,423 per night]]\n",
      "14    Nairobi, Kenya    [[[₹4,570,  ,  ], [night]], [₹4,570 per night]]\n",
      "15    Nairobi, Kenya    [[[₹4,601,  ,  ], [night]], [₹4,601 per night]]\n",
      "16    Nairobi, Kenya    [[[₹5,155,  ,  ], [night]], [₹5,155 per night]]\n",
      "17    Nairobi, Kenya    [[[₹3,545,  ,  ], [night]], [₹3,545 per night]]\n",
      "18    Nairobi, Kenya    [[[₹6,520,  ,  ], [night]], [₹6,520 per night]]\n",
      "19    Nairobi, Kenya    [[[₹4,971,  ,  ], [night]], [₹4,971 per night]]\n"
     ]
    }
   ],
   "source": [
    "df = pd.DataFrame ({'Locations':locations_list,'Charges':charges_per_night})\n",
    "print(df)"
   ]
  },
  {
   "cell_type": "code",
   "execution_count": 58,
   "id": "23ceb42d-bbc1-4ec0-b621-2ca0605ed708",
   "metadata": {},
   "outputs": [
    {
     "data": {
      "text/html": [
       "<div>\n",
       "<style scoped>\n",
       "    .dataframe tbody tr th:only-of-type {\n",
       "        vertical-align: middle;\n",
       "    }\n",
       "\n",
       "    .dataframe tbody tr th {\n",
       "        vertical-align: top;\n",
       "    }\n",
       "\n",
       "    .dataframe thead th {\n",
       "        text-align: right;\n",
       "    }\n",
       "</style>\n",
       "<table border=\"1\" class=\"dataframe\">\n",
       "  <thead>\n",
       "    <tr style=\"text-align: right;\">\n",
       "      <th></th>\n",
       "      <th>Locations</th>\n",
       "      <th>Charges</th>\n",
       "    </tr>\n",
       "  </thead>\n",
       "  <tbody>\n",
       "    <tr>\n",
       "      <th>0</th>\n",
       "      <td>Nairobi, Kenya</td>\n",
       "      <td>[[[₹7,928,  ,  ], [night]], [₹7,928 per night]]</td>\n",
       "    </tr>\n",
       "    <tr>\n",
       "      <th>1</th>\n",
       "      <td>Nairobi, Kenya</td>\n",
       "      <td>[[[₹6,807,  ,  ], [night]], [₹6,807 per night]]</td>\n",
       "    </tr>\n",
       "    <tr>\n",
       "      <th>2</th>\n",
       "      <td>Nairobi, Kenya</td>\n",
       "      <td>[[[₹4,915,  ,  ], [night]], [₹4,915 per night]]</td>\n",
       "    </tr>\n",
       "    <tr>\n",
       "      <th>3</th>\n",
       "      <td>Nairobi, Kenya</td>\n",
       "      <td>[[[₹3,667,  ,  ], [night]], [₹3,667 per night]]</td>\n",
       "    </tr>\n",
       "    <tr>\n",
       "      <th>4</th>\n",
       "      <td>Nairobi, Kenya</td>\n",
       "      <td>[[[₹5,084,  ,  ], [night]], [₹5,084 per night]]</td>\n",
       "    </tr>\n",
       "    <tr>\n",
       "      <th>5</th>\n",
       "      <td>Nairobi, Kenya</td>\n",
       "      <td>[[[₹4,915,  ,  ], [night]], [₹4,915 per night]]</td>\n",
       "    </tr>\n",
       "    <tr>\n",
       "      <th>6</th>\n",
       "      <td>Nairobi, Kenya</td>\n",
       "      <td>[[[₹3,711,  ,  ], [night]], [₹3,711 per night]]</td>\n",
       "    </tr>\n",
       "    <tr>\n",
       "      <th>7</th>\n",
       "      <td>Nairobi, Kenya</td>\n",
       "      <td>[[[₹4,767,  ,  ], [night]], [₹4,767 per night]]</td>\n",
       "    </tr>\n",
       "    <tr>\n",
       "      <th>8</th>\n",
       "      <td>Nairobi, Kenya</td>\n",
       "      <td>[[[₹13,397,  ,  ], [night]], [₹13,397 per night]]</td>\n",
       "    </tr>\n",
       "    <tr>\n",
       "      <th>9</th>\n",
       "      <td>Nairobi, Kenya</td>\n",
       "      <td>[[[₹43,189,  ,  ], [night]], [₹43,189 per night]]</td>\n",
       "    </tr>\n",
       "    <tr>\n",
       "      <th>10</th>\n",
       "      <td>Westlands, Kenya</td>\n",
       "      <td>[[[₹7,780,  ,  ], [night]], [₹7,780 per night]]</td>\n",
       "    </tr>\n",
       "    <tr>\n",
       "      <th>11</th>\n",
       "      <td>Nairobi, Kenya</td>\n",
       "      <td>[[[₹4,213,  ,  ], [night]], [₹4,213 per night]]</td>\n",
       "    </tr>\n",
       "    <tr>\n",
       "      <th>12</th>\n",
       "      <td>Nairobi, Kenya</td>\n",
       "      <td>[[[₹15,073,  ,  ], [night]], [₹15,073 per night]]</td>\n",
       "    </tr>\n",
       "    <tr>\n",
       "      <th>13</th>\n",
       "      <td>Nairobi, Kenya</td>\n",
       "      <td>[[[₹41,423,  ,  ], [night]], [₹41,423 per night]]</td>\n",
       "    </tr>\n",
       "    <tr>\n",
       "      <th>14</th>\n",
       "      <td>Nairobi, Kenya</td>\n",
       "      <td>[[[₹4,570,  ,  ], [night]], [₹4,570 per night]]</td>\n",
       "    </tr>\n",
       "    <tr>\n",
       "      <th>15</th>\n",
       "      <td>Nairobi, Kenya</td>\n",
       "      <td>[[[₹4,601,  ,  ], [night]], [₹4,601 per night]]</td>\n",
       "    </tr>\n",
       "    <tr>\n",
       "      <th>16</th>\n",
       "      <td>Nairobi, Kenya</td>\n",
       "      <td>[[[₹5,155,  ,  ], [night]], [₹5,155 per night]]</td>\n",
       "    </tr>\n",
       "    <tr>\n",
       "      <th>17</th>\n",
       "      <td>Nairobi, Kenya</td>\n",
       "      <td>[[[₹3,545,  ,  ], [night]], [₹3,545 per night]]</td>\n",
       "    </tr>\n",
       "    <tr>\n",
       "      <th>18</th>\n",
       "      <td>Nairobi, Kenya</td>\n",
       "      <td>[[[₹6,520,  ,  ], [night]], [₹6,520 per night]]</td>\n",
       "    </tr>\n",
       "    <tr>\n",
       "      <th>19</th>\n",
       "      <td>Nairobi, Kenya</td>\n",
       "      <td>[[[₹4,971,  ,  ], [night]], [₹4,971 per night]]</td>\n",
       "    </tr>\n",
       "  </tbody>\n",
       "</table>\n",
       "</div>"
      ],
      "text/plain": [
       "           Locations                                            Charges\n",
       "0     Nairobi, Kenya    [[[₹7,928,  ,  ], [night]], [₹7,928 per night]]\n",
       "1     Nairobi, Kenya    [[[₹6,807,  ,  ], [night]], [₹6,807 per night]]\n",
       "2     Nairobi, Kenya    [[[₹4,915,  ,  ], [night]], [₹4,915 per night]]\n",
       "3     Nairobi, Kenya    [[[₹3,667,  ,  ], [night]], [₹3,667 per night]]\n",
       "4     Nairobi, Kenya    [[[₹5,084,  ,  ], [night]], [₹5,084 per night]]\n",
       "5     Nairobi, Kenya    [[[₹4,915,  ,  ], [night]], [₹4,915 per night]]\n",
       "6     Nairobi, Kenya    [[[₹3,711,  ,  ], [night]], [₹3,711 per night]]\n",
       "7     Nairobi, Kenya    [[[₹4,767,  ,  ], [night]], [₹4,767 per night]]\n",
       "8     Nairobi, Kenya  [[[₹13,397,  ,  ], [night]], [₹13,397 per night]]\n",
       "9     Nairobi, Kenya  [[[₹43,189,  ,  ], [night]], [₹43,189 per night]]\n",
       "10  Westlands, Kenya    [[[₹7,780,  ,  ], [night]], [₹7,780 per night]]\n",
       "11    Nairobi, Kenya    [[[₹4,213,  ,  ], [night]], [₹4,213 per night]]\n",
       "12    Nairobi, Kenya  [[[₹15,073,  ,  ], [night]], [₹15,073 per night]]\n",
       "13    Nairobi, Kenya  [[[₹41,423,  ,  ], [night]], [₹41,423 per night]]\n",
       "14    Nairobi, Kenya    [[[₹4,570,  ,  ], [night]], [₹4,570 per night]]\n",
       "15    Nairobi, Kenya    [[[₹4,601,  ,  ], [night]], [₹4,601 per night]]\n",
       "16    Nairobi, Kenya    [[[₹5,155,  ,  ], [night]], [₹5,155 per night]]\n",
       "17    Nairobi, Kenya    [[[₹3,545,  ,  ], [night]], [₹3,545 per night]]\n",
       "18    Nairobi, Kenya    [[[₹6,520,  ,  ], [night]], [₹6,520 per night]]\n",
       "19    Nairobi, Kenya    [[[₹4,971,  ,  ], [night]], [₹4,971 per night]]"
      ]
     },
     "execution_count": 58,
     "metadata": {},
     "output_type": "execute_result"
    }
   ],
   "source": [
    "df"
   ]
  },
  {
   "cell_type": "code",
   "execution_count": null,
   "id": "b691f2fe-0947-4b2b-bd16-a4ceb1201202",
   "metadata": {},
   "outputs": [],
   "source": []
  }
 ],
 "metadata": {
  "kernelspec": {
   "display_name": "Python 3 (ipykernel)",
   "language": "python",
   "name": "python3"
  },
  "language_info": {
   "codemirror_mode": {
    "name": "ipython",
    "version": 3
   },
   "file_extension": ".py",
   "mimetype": "text/x-python",
   "name": "python",
   "nbconvert_exporter": "python",
   "pygments_lexer": "ipython3",
   "version": "3.11.7"
  }
 },
 "nbformat": 4,
 "nbformat_minor": 5
}
